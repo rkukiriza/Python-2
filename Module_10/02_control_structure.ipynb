{
 "cells": [
  {
   "cell_type": "markdown",
   "id": "4e2bdb35",
   "metadata": {},
   "source": [
    "#  Python control structures: Loops and conditionals\n",
    "Control structures help you t control the flow of your program. They allow your code to make decisions or repeat actions."
   ]
  },
  {
   "cell_type": "markdown",
   "id": "5a07eb4b",
   "metadata": {},
   "source": [
    "# Conditional statements\n",
    "\n",
    "## What is a conditional statement?\n",
    "A conditional statement controls whether a block code runs based on whether a condition is True or False.\n",
    "\n",
    "## Types\n",
    "\n",
    "## if:\n",
    "Runs code if conditon is true/ only runs code if the condition is True.\n",
    "\n",
    "## elif:\n",
    "checks additional conditions if the previous if is false. If indicator \"a\" does this; however check if indicator \"b\"  is also doing similar, then a stronger buy.\n",
    "\n",
    "## else:\n",
    "Runs code if no conditions are True that is to say checks elif\n",
    "\n",
    "## purpose:\n",
    "makes decisions in code by chosing which path to follow.\n",
    "\n",
    "If conditions are not met, code cannot run. What we use when creating  bots i.e if volume is greater than $1000:  buy, if les tha $1000: sell.\n",
    "\n",
    "If a user crosses this, do this: if market cap is greater than this, do that.\n",
    "\n",
    "We use it to build in logic as well. We can use it as well to create conditions in our code i.e if transaction amount is >$1m: print this...\n",
    "\n",
    "Can be used to create crypto tracking  bots or crypto trackers or you can use it to do a number of things.\n",
    "\n",
    "To classify i.e if this transaction is  below this,term this person as this. \n",
    "\n",
    "Conditional statements are  very useful in our code for example if token A does this: buy token A elif if token  B does the same: then hold, however else dont trade or else buy.\n",
    "\n",
    "## How conditions work\n",
    "1 if: checks a condition-if True, runs the code.\n",
    "2 elif: short for else if: checks another condition if the first one is False\n",
    "3 else: runs if all the above con ditions were false.\n",
    "\n",
    "### If statement\n",
    "x=10, what is x? if we want to check what data variable is stored in x, how do we check? we do; type(x) and then run it--> result is int(x is an integer)"
   ]
  },
  {
   "cell_type": "code",
   "execution_count": null,
   "id": "3d3d34e8",
   "metadata": {},
   "outputs": [
    {
     "name": "stdout",
     "output_type": "stream",
     "text": [
      "10is greater than 5\n"
     ]
    }
   ],
   "source": [
    "# type(x) lets create a condition that tells  us that if a number is greater than 10, i.e\n",
    "x=+10\n",
    "if x > 5:\n",
    "   print(str(x) +  \"is greater than 5\") # condition is true so code did run."
   ]
  },
  {
   "cell_type": "code",
   "execution_count": null,
   "id": "de960602",
   "metadata": {},
   "outputs": [],
   "source": [
    "# if--- statement\n",
    "x=20\n",
    "if x<20:\n",
    "    print(0) # you have to  be very careful  not to include upper c ase lettersin the con ditional statement , also rememember \n",
    "# to put a colon after the if statement always."
   ]
  },
  {
   "cell_type": "code",
   "execution_count": null,
   "id": "a07674e5",
   "metadata": {},
   "outputs": [
    {
     "name": "stdout",
     "output_type": "stream",
     "text": [
      "x is 5 or less\n"
     ]
    }
   ],
   "source": [
    "# if---else statement\n",
    "x=3\n",
    "if x>5:\n",
    "    print((\"x is greater than 5\")) # if statement is False so else prints message\n",
    "else:\n",
    "    print(\"x is 5 or less\")"
   ]
  },
  {
   "cell_type": "code",
   "execution_count": null,
   "id": "318eb4a7",
   "metadata": {},
   "outputs": [
    {
     "name": "stdout",
     "output_type": "stream",
     "text": [
      "greater than 5\n"
     ]
    }
   ],
   "source": [
    "## if---elif---else statement\n",
    "# going to check for if condition is true(not true) will then go to \"elif\" i.e first condition is not true, check the other one \n",
    "# i.e\n",
    "x=7\n",
    "if x<5:\n",
    "    print(\"less than 5\")# checks for if the stement is True, in this case False\n",
    "elif x==5:\n",
    "    print(\"equal to 5\")# checks for if additional condition; checks if x is exactly eaqual to 5 and it if False\n",
    "else:\n",
    "    print(\"greater than 5\")# runs code since first 2 conditons are all False"
   ]
  },
  {
   "cell_type": "code",
   "execution_count": 12,
   "id": "02792181",
   "metadata": {},
   "outputs": [
    {
     "name": "stdout",
     "output_type": "stream",
     "text": [
      "high balance wallet\n"
     ]
    }
   ],
   "source": [
    "### A wallet balance has $1500 worth of ETH. check if the balance is greater than $1000 and classify or categorize(return \n",
    "# if the wallet balance is \"high balance wallet\" or \"low balance wallet\")\n",
    "wallet_x=1500\n",
    "if wallet_x<1000:\n",
    "    print(\"low balance wallet\")\n",
    "elif wallet_x==1000:\n",
    "    print(\"expected balance wallet\")\n",
    "else:\n",
    "    print(\"high balance wallet\")"
   ]
  },
  {
   "cell_type": "code",
   "execution_count": 14,
   "id": "7e2b0833",
   "metadata": {},
   "outputs": [
    {
     "name": "stdout",
     "output_type": "stream",
     "text": [
      "high balance wallet\n"
     ]
    }
   ],
   "source": [
    "## More than 1 elif statements\n",
    "wallet_x=1500\n",
    "if wallet_x<1000:\n",
    "    print(\"low balance wallet\")\n",
    "elif wallet_x<500:\n",
    "    print(\"minimum balance wallet\")\n",
    "elif wallet_x==1000:\n",
    "    print(\"exact balance wallet or less\")\n",
    "else:\n",
    "    print(\"high balance wallet\")"
   ]
  },
  {
   "cell_type": "markdown",
   "id": "0be00e4e",
   "metadata": {},
   "source": [
    "## Logical operators\n",
    " The combine or invert conditions\n",
    "\n",
    "### how they work\n",
    "and:  both conditions must be True\n",
    "\n",
    "or: either condition can be True\n",
    "\n",
    "\n",
    "not: flips the condition(True becomes False and vice versa)\n"
   ]
  },
  {
   "cell_type": "code",
   "execution_count": 16,
   "id": "1da0e819",
   "metadata": {},
   "outputs": [
    {
     "name": "stdout",
     "output_type": "stream",
     "text": [
      "high balance and verified wallet\n"
     ]
    }
   ],
   "source": [
    "## and operator--> returns True only if both conditions are True i.e\n",
    "balance=1500\n",
    "verified=True # make a condition\n",
    "if balance>1000 and verified:\n",
    "    print(\"high balance and verified wallet\")"
   ]
  },
  {
   "cell_type": "markdown",
   "id": "e37aa0e0",
   "metadata": {},
   "source": [
    "In case you are building a system that tracks meme tokens, if you pull your data from coingecko and pull security data from odsy security platform, you pull there data of the number of tokens and if they are verified or not and then you now create a condition that;\n",
    " if market cap is below $1000, verify; you create a condition that already verifies the token that you want to trade. Is it verified? It is verified, you say; print(\"high balance wallet and verified wallet) run code--> result--> High balance and verified wallet."
   ]
  },
  {
   "cell_type": "code",
   "execution_count": 19,
   "id": "eedeacd6",
   "metadata": {},
   "outputs": [
    {
     "name": "stdout",
     "output_type": "stream",
     "text": [
      "passes atleast one condition\n"
     ]
    }
   ],
   "source": [
    "## or operator--> returns True if atleast one condition is True i.e\n",
    "balance=600\n",
    "verified=False\n",
    "# condition;\n",
    "if balance<1000 or verified:\n",
    "    print(\"passes atleast one condition\")\n",
    "else:\n",
    "    print(\"fails both checks\")\n"
   ]
  },
  {
   "cell_type": "code",
   "execution_count": 21,
   "id": "06a78494",
   "metadata": {},
   "outputs": [
    {
     "name": "stdout",
     "output_type": "stream",
     "text": [
      "wallet is cleared\n"
     ]
    }
   ],
   "source": [
    "## not operator---> reverses the condition i.e \n",
    "is_blacklisted=False\n",
    "if not is_blacklisted:\n",
    "    print(\"wallet is cleared\")"
   ]
  },
  {
   "cell_type": "code",
   "execution_count": 29,
   "id": "757d1586",
   "metadata": {},
   "outputs": [
    {
     "name": "stdout",
     "output_type": "stream",
     "text": [
      "within range\n"
     ]
    }
   ],
   "source": [
    "# create a variable 100 and check if it is greater than zero and less than 200\n",
    "balance=100\n",
    "if balance>0 and balance <200 :\n",
    "    print(\"within range\")\n",
    "elif balance>0 or  balance<200 :\n",
    "    print(\"balance is greater than 0 and less than 200\")\n",
    "elif balance<0 and  balance >200 or balance==0 :\n",
    "    print(\"balance is less than 0 or greater than 200 or equal to 0\")\n",
    "else:\n",
    "    print(\"balance is not with in specified range\")\n"
   ]
  },
  {
   "cell_type": "markdown",
   "id": "84065f8f",
   "metadata": {},
   "source": [
    "## Logical operator table\n",
    "\n",
    "Expression          Result\n",
    "\n",
    "\"True and True\"     True\n",
    "\n",
    "\"True and False\"    False\n",
    "\n",
    "\"False or True\"     True\n",
    "\n",
    "\"not True\"          False\n",
    "\n",
    "\"not False\"         True\n",
    "\n",
    "Exercise\n",
    "Check if a user is over 18 and verified to\"proceed\". Print\"Access granted\" if age>18 or has a parent's permission. Use not to check if a wallet is  not blacklisted."
   ]
  },
  {
   "cell_type": "code",
   "execution_count": 51,
   "id": "5d7e7b4e",
   "metadata": {},
   "outputs": [
    {
     "name": "stdout",
     "output_type": "stream",
     "text": [
      "Access granted\n"
     ]
    }
   ],
   "source": [
    "r=18\n",
    "verified=True\n",
    "parent_permission=True\n",
    "blacklisted=False\n",
    "if r>18 and verified:\n",
    "    print(\"proceed to next level\")\n",
    "elif r<18 or parent_permission:\n",
    "    print(\"Access granted\")\n",
    "elif not blacklisted:\n",
    "    print(\"Wallet is cleared\")\n",
    "else:\n",
    "    print(\"Acess denied\")"
   ]
  },
  {
   "cell_type": "code",
   "execution_count": 49,
   "id": "28b252f9",
   "metadata": {},
   "outputs": [
    {
     "name": "stdout",
     "output_type": "stream",
     "text": [
      "False\n"
     ]
    }
   ],
   "source": [
    "r_blacklisted=True\n",
    "if not blacklisted:\n",
    "    print(\"False\")\n"
   ]
  },
  {
   "cell_type": "code",
   "execution_count": 52,
   "id": "bba5fc0a",
   "metadata": {},
   "outputs": [
    {
     "name": "stdout",
     "output_type": "stream",
     "text": [
      "not blacklisted\n"
     ]
    }
   ],
   "source": [
    "r_blacklisted=False\n",
    "if not blacklisted:\n",
    "    print(\"not blacklisted\")"
   ]
  },
  {
   "cell_type": "markdown",
   "id": "5f3bb0f7",
   "metadata": {},
   "source": [
    "# Loops(for loop and while loop)\n",
    "If someone is in a loop its more like a repetition\n",
    "\n",
    "## for loops\n",
    "repeat code for each item in a collection like a list. For example for each fruit in the basket, print its  name.\n",
    "\n",
    "## while loops\n",
    "repeat code while a condition is True for example while hungry, keep eating\n",
    "\n",
    "## for loop\n",
    "loop over a list, string or range for example\n",
    "\n",
    "token=[\"ETH\",\"BTC\",\"SOL\"] if we want to loop through the list,(we loop through each of these items such that they stand alone in rows.)\n",
    "Come up with a random variable that can be going through the list to pick each item for example\n",
    "for token-->random variable, can be anthing; goes and picks the first token from tokens list and prints it out individually\n",
    "\n",
    "for token in tokens--> list of tokens for example\n",
    "\n",
    "for token in tokens:\n",
    "print(token) i.e\n",
    "ETH\n",
    "\n",
    "BTC\n",
    "\n",
    "SOL\n",
    "\n",
    "Looping is a repetitive process for each item in a collection, picks each item individually and displays it in a row format for example passes \"ETH\" into token(variable thats random)"
   ]
  },
  {
   "cell_type": "code",
   "execution_count": 54,
   "id": "a711909c",
   "metadata": {},
   "outputs": [
    {
     "name": "stdout",
     "output_type": "stream",
     "text": [
      "Alice\n",
      "Bob\n",
      "Charlie\n"
     ]
    }
   ],
   "source": [
    "# for example\n",
    "names=[\"Alice\",\"Bob\",\"Charlie\"]\n",
    "for name in names:\n",
    "    print(name)"
   ]
  },
  {
   "cell_type": "code",
   "execution_count": 55,
   "id": "58b88845",
   "metadata": {},
   "outputs": [
    {
     "name": "stdout",
     "output_type": "stream",
     "text": [
      "44\n",
      "55\n",
      "66\n",
      "77\n"
     ]
    }
   ],
   "source": [
    "# iterables\n",
    "l1=[44,55,66,77]\n",
    "for item in l1:\n",
    "    print(item)"
   ]
  },
  {
   "cell_type": "code",
   "execution_count": null,
   "id": "622e4f99",
   "metadata": {},
   "outputs": [
    {
     "name": "stdout",
     "output_type": "stream",
     "text": [
      "44\n",
      "99\n",
      "165\n",
      "242\n"
     ]
    }
   ],
   "source": [
    "# Type one loop\n",
    "# find the sum of l1=[44,55,66,77] want to sum everything in the list in to a single number\n",
    "total=0\n",
    "for i in l1: # goes to pick 44 meaning i is 44 at this point\n",
    "    total+=i#(where total-->44+i=0+44)\n",
    "    print(total)# now this is 44,(total  been updated to 44 however the loop is not over; only done one, index 0 out of the other\n",
    "    # indexes)"
   ]
  },
  {
   "cell_type": "code",
   "execution_count": null,
   "id": "182c7f64",
   "metadata": {},
   "outputs": [],
   "source": [
    "i=55 # enables one to understand  it and whats going on inside code.\n",
    "for i in l1:\n",
    "    total+=i\n",
    "    print(total)"
   ]
  },
  {
   "cell_type": "code",
   "execution_count": 76,
   "id": "656a4405",
   "metadata": {},
   "outputs": [
    {
     "name": "stdout",
     "output_type": "stream",
     "text": [
      "4\n"
     ]
    }
   ],
   "source": [
    "# A\\verage--> total number of items \n",
    "l1=[44,55,66,77] # find the  number of items\n",
    "num=len(l1)# syntax that counts all numbers of items in the list this a function that returns the number of items in a container\n",
    "print(num)"
   ]
  },
  {
   "cell_type": "code",
   "execution_count": 84,
   "id": "8d3c5a3c",
   "metadata": {},
   "outputs": [
    {
     "name": "stdout",
     "output_type": "stream",
     "text": [
      "Average is 60.5\n"
     ]
    }
   ],
   "source": [
    "# contd.\n",
    "l1=[44,55,66,77]\n",
    "total=0\n",
    "for i in l1:\n",
    "    total+=i\n",
    "num=len(l1)\n",
    "average=total/num\n",
    "print(\"Average is\", average)"
   ]
  },
  {
   "cell_type": "markdown",
   "id": "79607f9c",
   "metadata": {},
   "source": [
    "## Type 2 loop\n",
    "\n",
    "## range()\n",
    "used to return random numbers. Random is a class that is used to generate random numbers(returns an object that produces a sequence of integers from start(inclusive) to stop (exclusive)) by step range(i,j) produces i, i+1, i+2, i+3 etc for example"
   ]
  },
  {
   "cell_type": "code",
   "execution_count": 85,
   "id": "b66635d7",
   "metadata": {},
   "outputs": [
    {
     "name": "stdout",
     "output_type": "stream",
     "text": [
      "0\n",
      "1\n",
      "2\n",
      "3\n",
      "4\n",
      "5\n",
      "6\n",
      "7\n",
      "8\n",
      "9\n"
     ]
    }
   ],
   "source": [
    "for i in range(10):# range of numbers with in 10\n",
    "    print(i)"
   ]
  },
  {
   "cell_type": "code",
   "execution_count": null,
   "id": "b1b169da",
   "metadata": {},
   "outputs": [
    {
     "name": "stdout",
     "output_type": "stream",
     "text": [
      "2\n",
      "3\n",
      "4\n",
      "5\n",
      "6\n",
      "7\n",
      "8\n",
      "9\n",
      "10\n"
     ]
    }
   ],
   "source": [
    "# we can tell it where to start and stop for example\n",
    "for i in range(2,11):# last number always not returned.\n",
    "    print(i)"
   ]
  },
  {
   "cell_type": "code",
   "execution_count": 87,
   "id": "3ef40935",
   "metadata": {},
   "outputs": [
    {
     "name": "stdout",
     "output_type": "stream",
     "text": [
      "2\n",
      "4\n",
      "6\n",
      "8\n",
      "10\n"
     ]
    }
   ],
   "source": [
    "# if we want it to skip 2 numbers in range, we do;\n",
    "#for i in range(2,11,2) meaning start from 2, end at 11, leave 2 spaces\n",
    "for i in range(2,11,2):\n",
    "    print(i)\n",
    "\n"
   ]
  },
  {
   "cell_type": "code",
   "execution_count": null,
   "id": "160598c6",
   "metadata": {},
   "outputs": [
    {
     "name": "stdout",
     "output_type": "stream",
     "text": [
      "[0]\n",
      "[0, 2]\n",
      "[0, 2, 4]\n",
      "[0, 2, 4, 6]\n",
      "[0, 2, 4, 6, 8]\n",
      "[0, 2, 4, 6, 8, 10]\n",
      "[0, 2, 4, 6, 8, 10, 12]\n",
      "[0, 2, 4, 6, 8, 10, 12, 14]\n",
      "[0, 2, 4, 6, 8, 10, 12, 14, 16]\n",
      "[0, 2, 4, 6, 8, 10, 12, 14, 16, 18]\n",
      "[0, 2, 4, 6, 8, 10, 12, 14, 16, 18, 20]\n",
      "[0, 2, 4, 6, 8, 10, 12, 14, 16, 18, 20, 22]\n",
      "[0, 2, 4, 6, 8, 10, 12, 14, 16, 18, 20, 22, 24]\n",
      "[0, 2, 4, 6, 8, 10, 12, 14, 16, 18, 20, 22, 24, 26]\n",
      "[0, 2, 4, 6, 8, 10, 12, 14, 16, 18, 20, 22, 24, 26, 28]\n",
      "[0, 2, 4, 6, 8, 10, 12, 14, 16, 18, 20, 22, 24, 26, 28, 30]\n",
      "[0, 2, 4, 6, 8, 10, 12, 14, 16, 18, 20, 22, 24, 26, 28, 30, 32]\n",
      "[0, 2, 4, 6, 8, 10, 12, 14, 16, 18, 20, 22, 24, 26, 28, 30, 32, 34]\n",
      "[0, 2, 4, 6, 8, 10, 12, 14, 16, 18, 20, 22, 24, 26, 28, 30, 32, 34, 36]\n",
      "[0, 2, 4, 6, 8, 10, 12, 14, 16, 18, 20, 22, 24, 26, 28, 30, 32, 34, 36, 38]\n",
      "[0, 2, 4, 6, 8, 10, 12, 14, 16, 18, 20, 22, 24, 26, 28, 30, 32, 34, 36, 38, 40]\n",
      "[0, 2, 4, 6, 8, 10, 12, 14, 16, 18, 20, 22, 24, 26, 28, 30, 32, 34, 36, 38, 40, 42]\n",
      "[0, 2, 4, 6, 8, 10, 12, 14, 16, 18, 20, 22, 24, 26, 28, 30, 32, 34, 36, 38, 40, 42, 44]\n",
      "[0, 2, 4, 6, 8, 10, 12, 14, 16, 18, 20, 22, 24, 26, 28, 30, 32, 34, 36, 38, 40, 42, 44, 46]\n",
      "[0, 2, 4, 6, 8, 10, 12, 14, 16, 18, 20, 22, 24, 26, 28, 30, 32, 34, 36, 38, 40, 42, 44, 46, 48]\n",
      "[0, 2, 4, 6, 8, 10, 12, 14, 16, 18, 20, 22, 24, 26, 28, 30, 32, 34, 36, 38, 40, 42, 44, 46, 48, 50]\n",
      "[0, 2, 4, 6, 8, 10, 12, 14, 16, 18, 20, 22, 24, 26, 28, 30, 32, 34, 36, 38, 40, 42, 44, 46, 48, 50, 52]\n",
      "[0, 2, 4, 6, 8, 10, 12, 14, 16, 18, 20, 22, 24, 26, 28, 30, 32, 34, 36, 38, 40, 42, 44, 46, 48, 50, 52, 54]\n",
      "[0, 2, 4, 6, 8, 10, 12, 14, 16, 18, 20, 22, 24, 26, 28, 30, 32, 34, 36, 38, 40, 42, 44, 46, 48, 50, 52, 54, 56]\n",
      "[0, 2, 4, 6, 8, 10, 12, 14, 16, 18, 20, 22, 24, 26, 28, 30, 32, 34, 36, 38, 40, 42, 44, 46, 48, 50, 52, 54, 56, 58]\n",
      "[0, 2, 4, 6, 8, 10, 12, 14, 16, 18, 20, 22, 24, 26, 28, 30, 32, 34, 36, 38, 40, 42, 44, 46, 48, 50, 52, 54, 56, 58, 60]\n",
      "[0, 2, 4, 6, 8, 10, 12, 14, 16, 18, 20, 22, 24, 26, 28, 30, 32, 34, 36, 38, 40, 42, 44, 46, 48, 50, 52, 54, 56, 58, 60, 62]\n",
      "[0, 2, 4, 6, 8, 10, 12, 14, 16, 18, 20, 22, 24, 26, 28, 30, 32, 34, 36, 38, 40, 42, 44, 46, 48, 50, 52, 54, 56, 58, 60, 62, 64]\n",
      "[0, 2, 4, 6, 8, 10, 12, 14, 16, 18, 20, 22, 24, 26, 28, 30, 32, 34, 36, 38, 40, 42, 44, 46, 48, 50, 52, 54, 56, 58, 60, 62, 64, 66]\n",
      "[0, 2, 4, 6, 8, 10, 12, 14, 16, 18, 20, 22, 24, 26, 28, 30, 32, 34, 36, 38, 40, 42, 44, 46, 48, 50, 52, 54, 56, 58, 60, 62, 64, 66, 68]\n",
      "[0, 2, 4, 6, 8, 10, 12, 14, 16, 18, 20, 22, 24, 26, 28, 30, 32, 34, 36, 38, 40, 42, 44, 46, 48, 50, 52, 54, 56, 58, 60, 62, 64, 66, 68, 70]\n",
      "[0, 2, 4, 6, 8, 10, 12, 14, 16, 18, 20, 22, 24, 26, 28, 30, 32, 34, 36, 38, 40, 42, 44, 46, 48, 50, 52, 54, 56, 58, 60, 62, 64, 66, 68, 70, 72]\n",
      "[0, 2, 4, 6, 8, 10, 12, 14, 16, 18, 20, 22, 24, 26, 28, 30, 32, 34, 36, 38, 40, 42, 44, 46, 48, 50, 52, 54, 56, 58, 60, 62, 64, 66, 68, 70, 72, 74]\n",
      "[0, 2, 4, 6, 8, 10, 12, 14, 16, 18, 20, 22, 24, 26, 28, 30, 32, 34, 36, 38, 40, 42, 44, 46, 48, 50, 52, 54, 56, 58, 60, 62, 64, 66, 68, 70, 72, 74, 76]\n",
      "[0, 2, 4, 6, 8, 10, 12, 14, 16, 18, 20, 22, 24, 26, 28, 30, 32, 34, 36, 38, 40, 42, 44, 46, 48, 50, 52, 54, 56, 58, 60, 62, 64, 66, 68, 70, 72, 74, 76, 78]\n",
      "[0, 2, 4, 6, 8, 10, 12, 14, 16, 18, 20, 22, 24, 26, 28, 30, 32, 34, 36, 38, 40, 42, 44, 46, 48, 50, 52, 54, 56, 58, 60, 62, 64, 66, 68, 70, 72, 74, 76, 78, 80]\n",
      "[0, 2, 4, 6, 8, 10, 12, 14, 16, 18, 20, 22, 24, 26, 28, 30, 32, 34, 36, 38, 40, 42, 44, 46, 48, 50, 52, 54, 56, 58, 60, 62, 64, 66, 68, 70, 72, 74, 76, 78, 80, 82]\n",
      "[0, 2, 4, 6, 8, 10, 12, 14, 16, 18, 20, 22, 24, 26, 28, 30, 32, 34, 36, 38, 40, 42, 44, 46, 48, 50, 52, 54, 56, 58, 60, 62, 64, 66, 68, 70, 72, 74, 76, 78, 80, 82, 84]\n",
      "[0, 2, 4, 6, 8, 10, 12, 14, 16, 18, 20, 22, 24, 26, 28, 30, 32, 34, 36, 38, 40, 42, 44, 46, 48, 50, 52, 54, 56, 58, 60, 62, 64, 66, 68, 70, 72, 74, 76, 78, 80, 82, 84, 86]\n",
      "[0, 2, 4, 6, 8, 10, 12, 14, 16, 18, 20, 22, 24, 26, 28, 30, 32, 34, 36, 38, 40, 42, 44, 46, 48, 50, 52, 54, 56, 58, 60, 62, 64, 66, 68, 70, 72, 74, 76, 78, 80, 82, 84, 86, 88]\n",
      "[0, 2, 4, 6, 8, 10, 12, 14, 16, 18, 20, 22, 24, 26, 28, 30, 32, 34, 36, 38, 40, 42, 44, 46, 48, 50, 52, 54, 56, 58, 60, 62, 64, 66, 68, 70, 72, 74, 76, 78, 80, 82, 84, 86, 88, 90]\n",
      "[0, 2, 4, 6, 8, 10, 12, 14, 16, 18, 20, 22, 24, 26, 28, 30, 32, 34, 36, 38, 40, 42, 44, 46, 48, 50, 52, 54, 56, 58, 60, 62, 64, 66, 68, 70, 72, 74, 76, 78, 80, 82, 84, 86, 88, 90, 92]\n",
      "[0, 2, 4, 6, 8, 10, 12, 14, 16, 18, 20, 22, 24, 26, 28, 30, 32, 34, 36, 38, 40, 42, 44, 46, 48, 50, 52, 54, 56, 58, 60, 62, 64, 66, 68, 70, 72, 74, 76, 78, 80, 82, 84, 86, 88, 90, 92, 94]\n",
      "[0, 2, 4, 6, 8, 10, 12, 14, 16, 18, 20, 22, 24, 26, 28, 30, 32, 34, 36, 38, 40, 42, 44, 46, 48, 50, 52, 54, 56, 58, 60, 62, 64, 66, 68, 70, 72, 74, 76, 78, 80, 82, 84, 86, 88, 90, 92, 94, 96]\n",
      "[0, 2, 4, 6, 8, 10, 12, 14, 16, 18, 20, 22, 24, 26, 28, 30, 32, 34, 36, 38, 40, 42, 44, 46, 48, 50, 52, 54, 56, 58, 60, 62, 64, 66, 68, 70, 72, 74, 76, 78, 80, 82, 84, 86, 88, 90, 92, 94, 96, 98]\n"
     ]
    }
   ],
   "source": [
    "l2=[]\n",
    "for i in range(100):# if the remainder is equal to 0 passed into i, divide that number by 2\n",
    "    if i%2==0:# gives us even numbers from a range number\n",
    "        l2.append(i)\n",
    "        print(l2)"
   ]
  },
  {
   "cell_type": "markdown",
   "id": "9067d067",
   "metadata": {},
   "source": [
    "# .append(1)\n",
    "we want to create a list(created an empty list at first)-->l2[] such that when created, we have somewhere to store the numbers\n",
    "if 2/2=0 # then add to list if the result is 1 remainder 0, if  not donot add."
   ]
  },
  {
   "cell_type": "code",
   "execution_count": null,
   "id": "d8a02407",
   "metadata": {},
   "outputs": [
    {
     "name": "stdout",
     "output_type": "stream",
     "text": [
      "44\n",
      "55\n",
      "66\n",
      "77\n"
     ]
    }
   ],
   "source": [
    "# Type 3 loop--> loops through the concept of index\n",
    "l1=[44,55,66,77]\n",
    "for i in range(len(l1)):# what we are doing now is looping through this list using the index concept. There 5 elements in l1, el\n",
    "    print(l1[i])# ment 0 is 44, therefore 0 print l1:index 0"
   ]
  },
  {
   "cell_type": "code",
   "execution_count": 90,
   "id": "e88f6d22",
   "metadata": {},
   "outputs": [
    {
     "name": "stdout",
     "output_type": "stream",
     "text": [
      "btc 120000\n",
      "eth 2010\n",
      "sol 125\n"
     ]
    }
   ],
   "source": [
    "# Type 4 loop\n",
    "crypto_prices={\"btc\":120000,\"eth\":2010,\"sol\":125} # we want to loop through a dictionary; to fetch the keys and all their values\n",
    "for i in crypto_prices:\n",
    "    print(i,crypto_prices.get(i))"
   ]
  },
  {
   "cell_type": "code",
   "execution_count": 91,
   "id": "88adfa55",
   "metadata": {},
   "outputs": [
    {
     "name": "stdout",
     "output_type": "stream",
     "text": [
      "btc\n",
      "eth\n",
      "sol\n"
     ]
    }
   ],
   "source": [
    "# loop through the keys only\n",
    "for i in crypto_prices.keys():\n",
    "    print(i)"
   ]
  },
  {
   "cell_type": "code",
   "execution_count": 92,
   "id": "219ba109",
   "metadata": {},
   "outputs": [
    {
     "name": "stdout",
     "output_type": "stream",
     "text": [
      "120000\n",
      "2010\n",
      "125\n"
     ]
    }
   ],
   "source": [
    "# loop through  values only\n",
    "for i in crypto_prices.values():\n",
    "    print(i)"
   ]
  },
  {
   "cell_type": "code",
   "execution_count": 93,
   "id": "abd47b39",
   "metadata": {},
   "outputs": [
    {
     "name": "stdout",
     "output_type": "stream",
     "text": [
      "('btc', 120000)\n",
      "('eth', 2010)\n",
      "('sol', 125)\n"
     ]
    }
   ],
   "source": [
    "# to get everything\n",
    "for i in crypto_prices.items():\n",
    "    print(i)"
   ]
  },
  {
   "cell_type": "markdown",
   "id": "6910cf1c",
   "metadata": {},
   "source": [
    "# while loop\n",
    "to be careful with it;can be running for ever. Runs code as long as condition is true."
   ]
  },
  {
   "cell_type": "code",
   "execution_count": null,
   "id": "fa983479",
   "metadata": {},
   "outputs": [],
   "source": [
    "counter=0\n",
    "while counter<3:\n",
    "    print(\"counting...\", counter)# will keep counting\n",
    "    counter+=i "
   ]
  },
  {
   "cell_type": "markdown",
   "id": "3319482a",
   "metadata": {},
   "source": [
    "While True:\n",
    "      print(\"this will run forever unless you stop it)\n",
    "      result--> This will run forever unless you stop it; to stop it, interrupt it.\n",
    "\n",
    "i=10\n",
    "While True:(what keeps while running is if the condition while is true). So how do we call that over reacting mentality--> set a condition that interrupts the while True for example"
   ]
  },
  {
   "cell_type": "code",
   "execution_count": null,
   "id": "e463090a",
   "metadata": {},
   "outputs": [
    {
     "name": "stdout",
     "output_type": "stream",
     "text": [
      "10\n",
      "11\n",
      "12\n",
      "13\n",
      "14\n",
      "15\n",
      "16\n",
      "17\n",
      "18\n",
      "19\n"
     ]
    }
   ],
   "source": [
    "i=10\n",
    "while True:\n",
    "    if i==20:# 20 breaks  it, starts from 10 i.e if it has built momentum and equal to 20, break it and 10 goes while True,10 is\n",
    "        break # is not equal to 20 so it continues, the break will not be activated instead will now print 10; so it goes 10+1=11\n",
    "    print(i) # now it goes again like that again till it gets to 20 and stops. While loop works this way.\n",
    "    i+=1\n"
   ]
  },
  {
   "cell_type": "code",
   "execution_count": null,
   "id": "b1367b8b",
   "metadata": {},
   "outputs": [
    {
     "name": "stdout",
     "output_type": "stream",
     "text": [
      "1\n",
      "2\n",
      "3\n",
      "4\n",
      "5\n",
      "6\n",
      "7\n",
      "8\n",
      "9\n",
      "10\n",
      "11\n",
      "12\n",
      "13\n",
      "14\n",
      "15\n",
      "16\n",
      "17\n",
      "18\n",
      "19\n",
      "20\n",
      "21\n",
      "22\n",
      "23\n",
      "24\n",
      "25\n",
      "26\n",
      "27\n",
      "28\n",
      "29\n",
      "30\n",
      "31\n",
      "32\n",
      "33\n",
      "34\n",
      "35\n",
      "36\n",
      "37\n",
      "38\n",
      "39\n",
      "40\n",
      "41\n",
      "42\n",
      "43\n",
      "44\n",
      "45\n",
      "46\n",
      "47\n",
      "48\n",
      "49\n",
      "50\n",
      "51\n",
      "52\n",
      "53\n",
      "54\n",
      "55\n",
      "56\n",
      "57\n",
      "58\n",
      "59\n",
      "60\n",
      "61\n",
      "62\n",
      "63\n",
      "64\n",
      "65\n",
      "66\n",
      "67\n",
      "68\n",
      "69\n",
      "70\n",
      "71\n",
      "72\n",
      "73\n",
      "74\n",
      "75\n",
      "76\n",
      "77\n",
      "78\n",
      "79\n",
      "80\n",
      "81\n",
      "82\n",
      "83\n",
      "84\n",
      "85\n",
      "86\n",
      "87\n",
      "88\n",
      "89\n",
      "90\n",
      "91\n",
      "92\n",
      "93\n",
      "94\n",
      "95\n",
      "96\n",
      "97\n",
      "98\n",
      "99\n",
      "100\n"
     ]
    }
   ],
   "source": [
    "# Get even  num ber between 1-100\n",
    "even=[] # create an empty list\n",
    "i=1\n",
    "while True:# first condition is to stop loop from running\n",
    "    if i>100:\n",
    "        break # while True it is greater than 100 break--> condition breaks the loop once the origin condition is met; sets \n",
    "    print(i) \n",
    "    i+=1\n",
    "    if i%2==0:# another condition that if what you get is divided by 2  remainder 0, append it to even number, so whatever we \n",
    "        even.append(i)# get in the even list, is what has beeen calculated and updated in the formulae."
   ]
  },
  {
   "cell_type": "code",
   "execution_count": null,
   "id": "6707af6a",
   "metadata": {},
   "outputs": [],
   "source": [
    "# Therefore we are looking at 21 to 100; break, if i>100 condition will not happen however if i is not greater than 100 i.e 100\n",
    "#>100, that 100 will go into code and be i+i i.e 100+1-->101 then it will go again and be 101 so if 101/2==0, append it to even\n",
    "# list but if >100,  break."
   ]
  },
  {
   "cell_type": "code",
   "execution_count": 114,
   "id": "de17dd8d",
   "metadata": {},
   "outputs": [
    {
     "name": "stdout",
     "output_type": "stream",
     "text": [
      "3 * 1 = 3\n",
      "3 * 2 = 6\n",
      "3 * 3 = 9\n",
      "3 * 4 = 12\n",
      "3 * 5 = 15\n",
      "3 * 6 = 18\n",
      "3 * 7 = 21\n",
      "3 * 8 = 24\n",
      "3 * 9 = 27\n",
      "3 * 10 = 30\n"
     ]
    }
   ],
   "source": [
    "# Multiplicatio table of 3*3\n",
    "num1=3\n",
    "num2=1\n",
    "while True:\n",
    "    if num2==11:\n",
    "        break\n",
    "    print(num1,'*',num2,\"=\", num1*num2)\n",
    "    num2+=1"
   ]
  },
  {
   "cell_type": "code",
   "execution_count": 115,
   "id": "3292e186",
   "metadata": {},
   "outputs": [],
   "source": [
    "# Right code\n",
    "even=[]\n",
    "while True:\n",
    "    if i>100:\n",
    "        break\n",
    "    i+=1\n",
    "    if i%2==0:\n",
    "        even.append(i)\n",
    "        print(i)"
   ]
  },
  {
   "cell_type": "code",
   "execution_count": null,
   "id": "f410826e",
   "metadata": {},
   "outputs": [
    {
     "name": "stdout",
     "output_type": "stream",
     "text": [
      "0\n",
      "1\n",
      "3\n",
      "4\n"
     ]
    }
   ],
   "source": [
    "# Continue--> skip to the next iteration\n",
    "for i in range(5):# if i=0 so if 0=2, continue to print it, next 1 if iis equal to 2 continue, next 2 if 2 is equal to 2 continue\n",
    "    if i==2: # until the numbers in range are exhausted.\n",
    "        continue\n",
    "    print(i)"
   ]
  }
 ],
 "metadata": {
  "kernelspec": {
   "display_name": "Python 3",
   "language": "python",
   "name": "python3"
  },
  "language_info": {
   "codemirror_mode": {
    "name": "ipython",
    "version": 3
   },
   "file_extension": ".py",
   "mimetype": "text/x-python",
   "name": "python",
   "nbconvert_exporter": "python",
   "pygments_lexer": "ipython3",
   "version": "3.10.10"
  }
 },
 "nbformat": 4,
 "nbformat_minor": 5
}
