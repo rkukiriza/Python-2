{
 "cells": [
  {
   "cell_type": "markdown",
   "id": "fe28a098",
   "metadata": {},
   "source": [
    "# Functions, classes, modules\n",
    "\n",
    "# Functions in Python\n",
    "A function is a reusable block of code that performs a specific task. Functions help reduce repitition and improve code organization, help reuse a code.\n",
    "\n",
    "# Basic syntax\n",
    "starts with definition(first we define the function we want tot create) for example def i.e--> len(), max()-->(take in parameter )\n",
    "Goal of functions is to take in parameters for example;\n"
   ]
  },
  {
   "cell_type": "code",
   "execution_count": 2,
   "id": "6dc36d84",
   "metadata": {},
   "outputs": [
    {
     "data": {
      "text/plain": [
       "7"
      ]
     },
     "execution_count": 2,
     "metadata": {},
     "output_type": "execute_result"
    }
   ],
   "source": [
    "x=[1,2,3,4,5,6,7]\n",
    "len(x) # called the function len() on x or length on x when we run it gives result of 6\n"
   ]
  },
  {
   "cell_type": "markdown",
   "id": "2c131e6e",
   "metadata": {},
   "source": [
    "Meaning that there are 7 elemrnts in the list x. The len(x) with bx has a written code that was created instead of us writing that code again, how many elements are in x, we will just call len() with parenthesis brackets and put the parameter in to give us the result for example (function) def len(object: sized,/)--> int, returns number of items in a container. Its an in built function.\n",
    "\n",
    "### To create own functions\n",
    "like a custom function for example\n",
    "def web3(crypto):--> takes in anything\n",
    "return result i.e\n",
    "web3(\"BTC\")\n",
    "\n",
    "### To run string we do,\n",
    "def web3(crypto)-->str: this will only retun strings"
   ]
  },
  {
   "cell_type": "code",
   "execution_count": 35,
   "id": "fa6a3ecc",
   "metadata": {},
   "outputs": [],
   "source": [
    "\n",
    "def web3(crypto) -> str:\n",
    "    return str(crypto)\n"
   ]
  },
  {
   "cell_type": "code",
   "execution_count": 7,
   "id": "c6d3c9e5",
   "metadata": {},
   "outputs": [
    {
     "name": "stdout",
     "output_type": "stream",
     "text": [
      "The sum is 8\n"
     ]
    }
   ],
   "source": [
    "# def add():\n",
    "sum=2+6\n",
    "print(\"The sum is\", sum)\n"
   ]
  },
  {
   "cell_type": "code",
   "execution_count": 18,
   "id": "984b125a",
   "metadata": {},
   "outputs": [
    {
     "name": "stdout",
     "output_type": "stream",
     "text": [
      "8\n"
     ]
    }
   ],
   "source": [
    "def add():\n",
    " print(2+6)\n",
    "add()"
   ]
  },
  {
   "cell_type": "markdown",
   "id": "15cf2d52",
   "metadata": {},
   "source": [
    "### Function, Arguments and Parameters\n",
    "\n",
    "Positional: matched by order.\n",
    "\n",
    "Key word: matched by name i.e func(name=\"Alice\")\n",
    "\n",
    "Arguments(*args) accept extra positional arguments as a tuple\n",
    "\n",
    "**kwargs: accept extra keyword arguments as a dictionary\n",
    "\n",
    "#### Types of arguments\n",
    "Positional arguments\n",
    "Keyword arguments"
   ]
  },
  {
   "cell_type": "code",
   "execution_count": null,
   "id": "dc3d8016",
   "metadata": {},
   "outputs": [
    {
     "name": "stdout",
     "output_type": "stream",
     "text": [
      "6\n"
     ]
    }
   ],
   "source": [
    "## Positional Argument\n",
    "def add_positional(a,b,c):\n",
    "    sum=a+b+c # when we c reate the function, we create the logic too\n",
    "    return sum\n",
    "result= add_positional(1,2,3) # passed through(a,b,c) to give us a result summed up as a+b+c to return a result, sum--> thats\n",
    "print(result) # why we call them positional.\n"
   ]
  },
  {
   "cell_type": "code",
   "execution_count": 38,
   "id": "e7602aa0",
   "metadata": {},
   "outputs": [
    {
     "name": "stdout",
     "output_type": "stream",
     "text": [
      "Name Bob\n",
      "Age 25\n"
     ]
    }
   ],
   "source": [
    "## Key word argument\n",
    "def add_keyword(name=\"Alice\", age=30):\n",
    "    print(\"Name\", name)\n",
    "    print(\"Age\", age)\n",
    "\n",
    "\n",
    "add_keyword(name=\"Bob\", age=25)"
   ]
  },
  {
   "cell_type": "code",
   "execution_count": 39,
   "id": "dc170b24",
   "metadata": {},
   "outputs": [
    {
     "name": "stdout",
     "output_type": "stream",
     "text": [
      "Name Charles\n",
      "Age 40\n"
     ]
    }
   ],
   "source": [
    "def add_keyword(name=\"Alice\", age=30):\n",
    "    print(\"Name\", name)\n",
    "    print(\"Age\", age)\n",
    "\n",
    "\n",
    "add_keyword(age=40, name=\"Charles\")"
   ]
  },
  {
   "cell_type": "code",
   "execution_count": 37,
   "id": "5267eb60",
   "metadata": {},
   "outputs": [
    {
     "name": "stdout",
     "output_type": "stream",
     "text": [
      "<class 'tuple'>\n",
      "1234567"
     ]
    }
   ],
   "source": [
    "### *args arguments\n",
    "def add_arg(*args):\n",
    "    print(type(args)) # This will print class tuple\n",
    "    for num in args:\n",
    "        print(num,end=\"\") # function has been created; call function\n",
    "\n",
    "\n",
    "add_arg(1,2,3,4,5,6,7)"
   ]
  },
  {
   "cell_type": "code",
   "execution_count": null,
   "id": "528bb5b9",
   "metadata": {},
   "outputs": [
    {
     "name": "stdout",
     "output_type": "stream",
     "text": [
      "<class 'dict'>\n",
      "name:David\n",
      "age:35\n",
      "city:New York\n"
     ]
    }
   ],
   "source": [
    "### ** kwargs arguments\n",
    "def add_kwargs(**kwargs):\n",
    "    print(type(kwargs))\n",
    "    for key, value in kwargs.items():\n",
    "        print(f\"{key}:{value}\") # function created taking a parameter: keyword argument--> run\n",
    "\n",
    "add_kwargs(name=\"David\", age=35, city=\"New York\") # takes in key valuje and then returns a dictionary"
   ]
  },
  {
   "cell_type": "code",
   "execution_count": 35,
   "id": "f388ea8b",
   "metadata": {},
   "outputs": [],
   "source": [
    "# x\n",
    "x=[2,4,5,6,7,8,10,5] # to create a function for average to use it over and over again we do;\n",
    "def average(number):#--> function is taking in a parameter called number\n",
    "    total=10\n",
    "    for i in number:\n",
    "        total+=i\n",
    "    average= total/len(number)\n",
    "    return average # function created i.e"
   ]
  },
  {
   "cell_type": "code",
   "execution_count": 1,
   "id": "1535d804",
   "metadata": {},
   "outputs": [
    {
     "name": "stdout",
     "output_type": "stream",
     "text": [
      "46.0\n"
     ]
    }
   ],
   "source": [
    "price=[1,33,44,55,66,77]\n",
    "avg=sum(price)/len(price)\n",
    "\n",
    "print(avg)"
   ]
  },
  {
   "cell_type": "code",
   "execution_count": 7,
   "id": "c24ebc6b",
   "metadata": {},
   "outputs": [],
   "source": [
    "#Get crypto price change percentage\n",
    "def calculate_price_changes(old_price,new_price):\n",
    "    change=((new_price-old_price)/old_price)*100\n",
    "    return change "
   ]
  },
  {
   "cell_type": "code",
   "execution_count": 8,
   "id": "ee98e1f8",
   "metadata": {},
   "outputs": [
    {
     "name": "stdout",
     "output_type": "stream",
     "text": [
      "BTC price change: 20.0%\n"
     ]
    }
   ],
   "source": [
    "btc_change=calculate_price_changes(100000,120000)\n",
    "print(f\"BTC price change: {btc_change}%\")"
   ]
  },
  {
   "cell_type": "code",
   "execution_count": 39,
   "id": "ad6c07dc",
   "metadata": {},
   "outputs": [
    {
     "name": "stdout",
     "output_type": "stream",
     "text": [
      "BTC price change: 25.7%\n"
     ]
    }
   ],
   "source": [
    "# function to round off result\n",
    "#btc_change=calculate_price_changes(100000,125700)\n",
    "#print(f\"BTC price change:{btc_change}%\")\n",
    " # return round(change,3)\n",
    "\n",
    "# First, define your function (e.g., calculate_price_changes)\n",
    "def calculate_price_changes(old_price, new_price):\n",
    "    \"\"\"\n",
    "    Calculates the percentage change in price and rounds it.\n",
    "    \"\"\"\n",
    "    change = ((new_price - old_price) / old_price) * 100\n",
    "    return round(change, 3) # This line MUST be indented inside the function\n",
    "\n",
    "# Now, you can call the function and use its returned value\n",
    "btc_change = calculate_price_changes(100000, 125700)\n",
    "print(f\"BTC price change: {btc_change}%\")\n",
    "\n"
   ]
  },
  {
   "cell_type": "code",
   "execution_count": 24,
   "id": "5f116f86",
   "metadata": {},
   "outputs": [
    {
     "name": "stdout",
     "output_type": "stream",
     "text": [
      "Bitcoin is currently trading at BTC 110,000.00\n",
      "Ethereum is currently trading at ETH 1,800.00\n"
     ]
    }
   ],
   "source": [
    "# function takes in price and symbol\n",
    "def format_crypto_price(name,price,symbol=\"8\"):\n",
    "    return f\"{name} is currently trading at {symbol} {price:,.2f}\"\n",
    "print(format_crypto_price(\"Bitcoin\", 110000, \"BTC\"))\n",
    "print(format_crypto_price(\"Ethereum\", 1800, \"ETH\"))"
   ]
  },
  {
   "cell_type": "markdown",
   "id": "e0afca35",
   "metadata": {},
   "source": [
    "# change\n",
    "basket of bananas at 50 and in 2025 is 65\n",
    "% change in price= new_price-old_price/old_price*100/1(use BODMAS)\n",
    "50-65/50*100/1=15/50*100/1=30/1=30%\n",
    "in economics, negatives are not considered.(+) used for string concatination while(,) is used for multiple items in a print list"
   ]
  },
  {
   "cell_type": "markdown",
   "id": "2ccc3ff5",
   "metadata": {},
   "source": [
    "# Classes in Python\n",
    "What is a class?\n",
    "Classes are blue prints(templates) for creating objects. An object is an instance of a class that can hold data(attributes/variables) and perform actions(functions, methods). Classes are ideal for modeling real world entities like a crypto currency or a portfolio. Inside the class we have the functions/variables.\n",
    "\n",
    "Defining a class\n",
    "Use the \"keyword\" to define a class- bought a box with several gifts in and a gifts wrapper(template of a gift pack/container)--> wrapper--> class, covers both box and gifts inside it. Gift box is the functions, real gifts are the attributes.\n",
    "\n",
    "Classes typically include:\n",
    "\n",
    "Attributes  variables that store data\n",
    "\n",
    "Methods; functions that define the behaviour of the class\n",
    "\n",
    "Constructor(init); a special method to utilize objects.\n",
    "\n",
    "# What is self in a class?\n",
    "Self is the first parameter in instance of a class. It represents the instancce(object) on which the method is called. While self is not a reserved key word in Python, its the standard convention for naming the parameter.\n",
    "\n",
    "## Purpose\n",
    "Self allows methods to;\n",
    "\n",
    "Access and modify the instance's attributes.\n",
    "\n",
    "Call other methods of the same instance\n",
    "\n",
    "Differentiate between specific data and class level data\n",
    "\n",
    "Self.name--> call name directly(fetches the name that has been tagged to the variable name) i.e \n",
    "self is used in instance methods(not in static or class methods) and in the init constructor to initialize instance attributes for example;"
   ]
  },
  {
   "cell_type": "code",
   "execution_count": 34,
   "id": "99413bae",
   "metadata": {},
   "outputs": [],
   "source": [
    "### defining a class\n",
    "class CryptoWallet:\n",
    "    def init_(self, owner):\n",
    "        self.owner= owner\n",
    "        self.balance={} \n",
    "# creating  a function\n",
    "def deposit(self,token,amount):\n",
    "    self.balance[token]=self.balance.get(token,0) + amount\n",
    "def withdraw(self, token, amount):\n",
    "    if self.balance.get(token,0)>=amount:\n",
    "        self.balance[token]-=amount \n",
    "#[token,O] means that if the token owner is trying to withdraw,and there is  no balance yet--> it should return 0 instead of \n",
    "# creating an error\n",
    "        return True\n",
    "    else:\n",
    "        return False\n",
    "# show balance\n",
    "def view_balance(self):\n",
    "    return self.balance"
   ]
  },
  {
   "cell_type": "code",
   "execution_count": 2,
   "id": "2eabdb9b",
   "metadata": {},
   "outputs": [
    {
     "name": "stdout",
     "output_type": "stream",
     "text": [
      "{'ETH': 0.7, 'BTC': 0.1}\n"
     ]
    }
   ],
   "source": [
    "class CryptoWallet:\n",
    "    def __init__(self, owner):\n",
    "        self.owner = owner\n",
    "        self.balances = {}   # to track deposits per token\n",
    "        self.balance = 0     # optional: total balance if used\n",
    "\n",
    "    def deposit(self, token, amount):\n",
    "        if token in self.balances:\n",
    "            self.balances[token] += amount\n",
    "        else:\n",
    "            self.balances[token] = amount\n",
    "        return self.balances\n",
    "\n",
    "    def view_balance(self):\n",
    "        return self.balances\n",
    "wallet=CryptoWallet(\"Joseph\")\n",
    "wallet.deposit(\"ETH\", 0.7)\n",
    "wallet.deposit(\"BTC\", 0.1)\n",
    "print(wallet.view_balance())"
   ]
  },
  {
   "cell_type": "code",
   "execution_count": 3,
   "id": "ec1f7d44",
   "metadata": {},
   "outputs": [
    {
     "name": "stdout",
     "output_type": "stream",
     "text": [
      "Insufficient funds for ETH. Available: 0.7, requested: 1.0\n",
      "withdrawal success False\n",
      "{'ETH': 0.7, 'BTC': 0.1}\n",
      "Withdrawal of 0.5 ETH successful.\n",
      "withdrawal success True\n",
      "{'ETH': 0.19999999999999996, 'BTC': 0.1}\n"
     ]
    }
   ],
   "source": [
    "class CryptoWallet:\n",
    "    def __init__(self, owner):\n",
    "        self.owner = owner\n",
    "        self.balances = {}\n",
    "\n",
    "    def deposit(self, token, amount):\n",
    "        if token in self.balances:\n",
    "            self.balances[token] += amount\n",
    "        else:\n",
    "            self.balances[token] = amount\n",
    "        return self.balances\n",
    "\n",
    "    def withdraw(self, token, amount):\n",
    "        # Check if token exists and sufficient balance\n",
    "        if token not in self.balances:\n",
    "            print(f\"No balance available for token {token}.\")\n",
    "            return False\n",
    "        if self.balances[token] < amount:\n",
    "            print(f\"Insufficient funds for {token}. Available: {self.balances[token]}, requested: {amount}\")\n",
    "            return False\n",
    "\n",
    "        # Perform withdrawal\n",
    "        self.balances[token] -= amount\n",
    "        print(f\"Withdrawal of {amount} {token} successful.\")\n",
    "        return True\n",
    "\n",
    "    def view_balance(self):\n",
    "        return self.balances\n",
    "\n",
    "wallet=CryptoWallet(\"Joseph\")\n",
    "wallet.deposit(\"ETH\", 0.7)\n",
    "wallet.deposit(\"BTC\", 0.1)\n",
    "success = wallet.withdraw(\"ETH\", 1.0)  # Trying to withdraw more than owned\n",
    "print(\"withdrawal success\", success)\n",
    "print(wallet.view_balance())\n",
    "\n",
    "success = wallet.withdraw(\"ETH\", 0.5)  # Valid withdrawal\n",
    "print(\"withdrawal success\", success)\n",
    "print(wallet.view_balance())\n",
    "\n"
   ]
  },
  {
   "cell_type": "code",
   "execution_count": 31,
   "id": "2c43b8fe",
   "metadata": {},
   "outputs": [],
   "source": [
    "# Portfolio class manages crypto currency class\n",
    "class Cryptocurrency:\n",
    "    \"\"\"class to represent a crypto currency\"\"\"\n",
    "    def __init__(self,name,symbol,price,quantity):\n",
    "        self.name= name \n",
    "        self.symbol= symbol \n",
    "        self.price=price\n",
    "        self.quantity= quantity\n",
    "    def get_value(self):\n",
    "        \"\"\"Calculate the total  value of the holding,\"\"\"\n",
    "        return self.price*self.quantity\n",
    "    def updated_price(self, new_price):\n",
    "        \"\"\"Update the cryptocurrency price\"\"\"\n",
    "        self.price=new_price\n",
    "\n",
    "class Portfolio:\n",
    "    \"\"\"class to manage a portfolio of crypto currencies.\"\"\"\n",
    "    def __init__(self):\n",
    "        self.holdings={} # dictionary to store crypto currency\n",
    "    \n",
    "    def add_crypto(self,crypto):\n",
    "        \"\"\"Add a crypto currency to the portfolio\"\"\"\n",
    "        self.holdings[crypto.symbol]=crypto\n",
    "\n",
    "        def get_total_value(self):\n",
    "            \"\"\"Calculate the total_value of the portfolio.\"\"\"\n",
    "            total=sum(crypto.value() for crypto in self.holdings.values()) \n",
    "            return total\n",
    "        \n",
    "    def get_holding(self,symbol):\n",
    "        \"\"\"Retrieve a crypto currency by its symbol\"\"\"\n",
    "        return self.holdings.get(symbol)\n",
    "    "
   ]
  },
  {
   "cell_type": "code",
   "execution_count": 33,
   "id": "941d0a80",
   "metadata": {},
   "outputs": [],
   "source": [
    "# create crypto currency object\n",
    "bitcoin=Cryptocurrency(\"Bitcoin\", \"BTC\", 11700,1)\n",
    "ethereum=Cryptocurrency(\"Ethereum\", \"ETH\", 500, 0.4)# --> pass in() method, function)\n",
    "\n",
    "# Create portfolio object\n",
    "my_portfolio=Portfolio()\n",
    "my_portfolio.add_crypto(bitcoin)\n",
    "my_portfolio.add_crypto(ethereum)\n"
   ]
  },
  {
   "cell_type": "code",
   "execution_count": null,
   "id": "e95fab1d",
   "metadata": {},
   "outputs": [
    {
     "name": "stdout",
     "output_type": "stream",
     "text": [
      "Portfolio total value: $117200.00\n"
     ]
    }
   ],
   "source": [
    "# Calculate total portfolio values.\n",
    "class Cryptocurrency:\n",
    "    def __init__(self, name, symbol, price, quantity):\n",
    "        self.name = name\n",
    "        self.symbol = symbol\n",
    "        self.price = price\n",
    "        self.quantity = quantity\n",
    "\n",
    "    def value(self):\n",
    "        return self.price * self.quantity\n",
    "\n",
    "\n",
    "class Portfolio:\n",
    "    def __init__(self):\n",
    "        self.holdings = {}\n",
    "\n",
    "    def add_crypto(self, crypto):\n",
    "        self.holdings[crypto.symbol] = crypto\n",
    "\n",
    "    def get_total_value(self):\n",
    "        total = 0\n",
    "        for crypto in self.holdings.values():\n",
    "            total += crypto.value()\n",
    "        return total\n",
    "\n",
    "\n",
    "bitcoin = Cryptocurrency(\"Bitcoin\", \"BTC\", 117000, 1)\n",
    "ethereum = Cryptocurrency(\"Ethereum\", \"ETH\", 500, 0.4)\n",
    "\n",
    "my_portfolio = Portfolio()\n",
    "my_portfolio.add_crypto(bitcoin)\n",
    "my_portfolio.add_crypto(ethereum)\n",
    "\n",
    "total_value = my_portfolio.get_total_value()\n",
    "print(f\"Portfolio total value: ${total_value:.2f}\")\n"
   ]
  },
  {
   "cell_type": "code",
   "execution_count": null,
   "id": "d5e0d639",
   "metadata": {},
   "outputs": [
    {
     "name": "stdout",
     "output_type": "stream",
     "text": [
      "Portfolio total value: $100200.00\n",
      "New Bitcoin price: $100000\n",
      "Updated portfolio value: $100200.00\n"
     ]
    }
   ],
   "source": [
    "# Update bitcoin price\n",
    "class Cryptocurrency:\n",
    "    def __init__(self, name, symbol, price, quantity):\n",
    "        self.name = name\n",
    "        self.symbol = symbol\n",
    "        self.price = price\n",
    "        self.quantity = quantity\n",
    "\n",
    "    def value(self):\n",
    "        return self.price * self.quantity\n",
    "\n",
    "    def update_price(self, new_price):\n",
    "        self.price = new_price\n",
    "\n",
    "\n",
    "class Portfolio:\n",
    "    def __init__(self):\n",
    "        self.holdings = {}\n",
    "\n",
    "    def add_crypto(self, crypto):\n",
    "        self.holdings[crypto.symbol] = crypto\n",
    "\n",
    "    def get_total_value(self):\n",
    "        total = 0\n",
    "        for crypto in self.holdings.values():\n",
    "            total += crypto.value()\n",
    "        return total\n",
    "\n",
    "\n",
    "bitcoin = Cryptocurrency(\"Bitcoin\", \"BTC\", 117000, 1)\n",
    "ethereum = Cryptocurrency(\"Ethereum\", \"ETH\", 500, 0.4)\n",
    "\n",
    "my_portfolio = Portfolio()\n",
    "my_portfolio.add_crypto(bitcoin)\n",
    "my_portfolio.add_crypto(ethereum)\n",
    "\n",
    "# Update Bitcoin price\n",
    "bitcoin.update_price(100000)\n",
    "\n",
    "total_value = my_portfolio.get_total_value()\n",
    "print(f\"Portfolio total value: ${total_value:.2f}\")\n",
    "print(f\"New Bitcoin price: ${bitcoin.price}\")\n",
    "print(f\"Updated portfolio value: ${my_portfolio.get_total_value():.2f}\")\n"
   ]
  },
  {
   "cell_type": "code",
   "execution_count": null,
   "id": "d2b08785",
   "metadata": {},
   "outputs": [
    {
     "name": "stdout",
     "output_type": "stream",
     "text": [
      "Withdrew 0.2 ETH. Remaining: 0.2\n",
      "Portfolio value after withdrawal of 0.2 ETH: $117100.00\n"
     ]
    }
   ],
   "source": [
    "class Cryptocurrency:\n",
    "    def __init__(self, name, symbol, price, quantity):\n",
    "        self.name = name\n",
    "        self.symbol = symbol\n",
    "        self.price = price\n",
    "        self.quantity = quantity\n",
    "\n",
    "    def value(self):\n",
    "        return self.price * self.quantity\n",
    "\n",
    "\n",
    "class Portfolio:\n",
    "    def __init__(self):\n",
    "        self.holdings = {}\n",
    "\n",
    "    def add_crypto(self, crypto):\n",
    "        self.holdings[crypto.symbol] = crypto\n",
    "\n",
    "    def get_total_value(self):\n",
    "        return sum(c.value() for c in self.holdings.values())\n",
    "\n",
    "    def withdraw_crypto(self, symbol, quantity):\n",
    "        \"\"\"Withdraw a specified quantity of a cryptocurrency from the portfolio\"\"\"\n",
    "        crypto = self.holdings.get(symbol)\n",
    "        if not crypto:\n",
    "            print(f\"Error: {symbol} not found in the portfolio\")\n",
    "            return False\n",
    "\n",
    "        if quantity <= 0:\n",
    "            print(\"Error: Withdrawal quantity must be positive.\")\n",
    "            return False\n",
    "\n",
    "        if quantity > crypto.quantity:\n",
    "            print(f\"Error: Insufficient {symbol} quantity. Available: {crypto.quantity}, Requested: {quantity}\")\n",
    "            return False\n",
    "\n",
    "        crypto.quantity -= quantity\n",
    "        print(f\"Withdrew {quantity} {symbol}. Remaining: {crypto.quantity}\")\n",
    "\n",
    "        if crypto.quantity == 0:\n",
    "            del self.holdings[symbol]\n",
    "            print(f\"{symbol} holding removed from portfolio\")\n",
    "\n",
    "        return True\n",
    "\n",
    "\n",
    "\n",
    "bitcoin = Cryptocurrency(\"Bitcoin\", \"BTC\", 117000, 1)\n",
    "ethereum = Cryptocurrency(\"Ethereum\", \"ETH\", 500, 0.4)\n",
    "\n",
    "my_portfolio = Portfolio()\n",
    "my_portfolio.add_crypto(bitcoin)\n",
    "my_portfolio.add_crypto(ethereum)\n",
    "\n",
    "# Withdraw 0.2 ETH\n",
    "my_portfolio.withdraw_crypto(\"ETH\", 0.2)\n",
    "\n",
    "# Print portfolio value after withdrawal\n",
    "print(f\"Portfolio value after withdrawal of 0.2 ETH: ${my_portfolio.get_total_value():.2f}\")\n"
   ]
  },
  {
   "cell_type": "markdown",
   "id": "31586e41",
   "metadata": {},
   "source": [
    "# Modules\n",
    "Modules(contains resusable code, functions and variables)\n",
    "A python module is a file containing python code e.g functio, variables, classes that can be imported and resused in other programs. It organises related code into single file making it easy to manage and share.\n",
    "\n",
    "### Types of modules\n",
    "### standard module\n",
    "import math\n",
    "import time\n",
    "import random\n",
    "import os\n",
    "import system"
   ]
  },
  {
   "cell_type": "code",
   "execution_count": 53,
   "id": "bb16fead",
   "metadata": {},
   "outputs": [
    {
     "name": "stdout",
     "output_type": "stream",
     "text": [
      "The square root of 16 is 4.0\n"
     ]
    }
   ],
   "source": [
    "# import math\n",
    "import math # Import the math module once at the top\n",
    "\n",
    "sqrt_value = math.sqrt(16)\n",
    "print('The square root of 16 is', sqrt_value)\n"
   ]
  },
  {
   "cell_type": "code",
   "execution_count": 57,
   "id": "d44a11b7",
   "metadata": {},
   "outputs": [],
   "source": [
    "# import time\n",
    "import time\n",
    "time.sleep(5)"
   ]
  },
  {
   "cell_type": "code",
   "execution_count": 28,
   "id": "8e2b24c3",
   "metadata": {},
   "outputs": [
    {
     "name": "stdout",
     "output_type": "stream",
     "text": [
      "8\n"
     ]
    }
   ],
   "source": [
    "# generate random number\n",
    "import random\n",
    "random_num=random.randint(1,10)\n",
    "print(random_num)"
   ]
  },
  {
   "cell_type": "markdown",
   "id": "4e45566e",
   "metadata": {},
   "source": [
    "Working with APIs"
   ]
  },
  {
   "cell_type": "code",
   "execution_count": 31,
   "id": "285a0559",
   "metadata": {},
   "outputs": [
    {
     "name": "stdout",
     "output_type": "stream",
     "text": [
      "3.10.10 (tags/v3.10.10:aad5f6a, Feb  7 2023, 17:20:36) [MSC v.1929 64 bit (AMD64)]\n"
     ]
    }
   ],
   "source": [
    "# working with APIs\n",
    "import sys\n",
    "python_ver=sys.version # tells us python model we are using\n",
    "print(python_ver)"
   ]
  },
  {
   "cell_type": "markdown",
   "id": "a3f00d6f",
   "metadata": {},
   "source": [
    "### Third party module\n",
    "examples\n",
    "\n",
    "pandas\n",
    "\n",
    "web3\n",
    "\n",
    "numphy\n",
    "\n",
    "tweepy- these are some of the most used  libraries in Python built by data analysts who wanted to ease the analysis work\n",
    "\n",
    "import pandas as pd\n",
    "\n",
    "import numphy as np\n",
    "\n",
    "import web3- inside these there modules that we will be using going forward\n",
    "\n",
    "#### Custom modules\n",
    "These are modules we will be creating\n",
    "\n",
    "#### Creating a custom module\n",
    "\n"
   ]
  },
  {
   "cell_type": "markdown",
   "id": "3d35c330",
   "metadata": {},
   "source": [
    "Save your script with .py extension i.e lean.py. \n",
    "You cannot create a module with notebook file but with python script file."
   ]
  },
  {
   "cell_type": "markdown",
   "id": "7c059b85",
   "metadata": {},
   "source": [
    "# Working with files (CSV,JSON)\n",
    "#### Reading and writing text files\n",
    "What is it? Storing and retrieving data from files on your computer\n",
    "\n",
    "#### Basic operations\n",
    "open(\"file.text\")- opens a file(needs to be closed after) with open(---)- better way (auto closes file)\n",
    "\n",
    "#### Modes\n",
    "\"r\"-Read(default)\n",
    "\n",
    "\"w\"-write(erases existing content)\n",
    "\n",
    "\"a\"-Append(adds to end)\n",
    "\n",
    "\"rt\"-Read and write"
   ]
  },
  {
   "cell_type": "code",
   "execution_count": null,
   "id": "b951884b",
   "metadata": {},
   "outputs": [],
   "source": [
    "# working with files in python(Reading mode)\n",
    "with open(\"sample.txt\", \"r\") as file:# opens the file in read mode\n",
    "    content=file.read()# read the entire content in the file\n",
    "    print(content) "
   ]
  },
  {
   "cell_type": "code",
   "execution_count": null,
   "id": "5a683418",
   "metadata": {},
   "outputs": [],
   "source": [
    "# working with files i python(writing mode)\n",
    "with open(\"sample.text\",\"w\") as file:  # opens file in write mode\n",
    "    file.write(\"Hello world!\\n\")   # write a line in the file\n",
    "    file.write(\"This is a text file.\\n\")"
   ]
  },
  {
   "cell_type": "code",
   "execution_count": null,
   "id": "6179fbbe",
   "metadata": {},
   "outputs": [],
   "source": [
    "# woring with files in python(Appending mode)\n",
    "with open(\"sample.text\", \"a\") as file:  # opens file in append mode\n",
    "    file.write(\"Appending a new line.\\n\")  # Append new line to the file\n",
    "    file.write('This is anotherappended lin.\\n')"
   ]
  },
  {
   "cell_type": "code",
   "execution_count": null,
   "id": "691d53c9",
   "metadata": {},
   "outputs": [],
   "source": [
    "# working with files in python(Read and Write mode)\n",
    "with open(\"sample.txt\", \"rt\") as file:\n",
    "    content=file.read()\n",
    "    print(\"Current content of the file\")\n",
    "    print(content)\n",
    "    file.write(\"Adding more content.\\n\")"
   ]
  },
  {
   "cell_type": "markdown",
   "id": "a2b1c0c5",
   "metadata": {},
   "source": [
    "# Working with CSV files\n",
    "CSV; Comma Separated Values( lie a simple excel list)\n",
    "\n",
    "CSV modules:\n",
    "\n",
    "csv.writer()- writes data to csv.\n",
    "\n",
    "csv.reader()-reads csv rows as lists.\n",
    "\n",
    "csv.Dictreader()-reads rows as dictionaries.\n"
   ]
  },
  {
   "cell_type": "code",
   "execution_count": null,
   "id": "b245b70e",
   "metadata": {},
   "outputs": [],
   "source": [
    "# working with csv files in python\n",
    "import csv"
   ]
  },
  {
   "cell_type": "code",
   "execution_count": 36,
   "id": "0ff46d0b",
   "metadata": {},
   "outputs": [],
   "source": [
    "# writing to csv\n",
    "import csv\n",
    "with open(\"data.csv\",\"w\",newline=\"\") as csv_file:\n",
    "    writer=csv.writer(csv_file)                 # creates the csv writer object\n",
    "    writer.writerow([\"name\",\"age\",\"city\"])      # writes header row\n",
    "    writer.writerow([\"Alice\",30, \"New York\"])   # writes data row\n",
    "    writer.writerow([\"Bob\", 25, \"Los Angeles\"]) # writes another data row\n",
    "# creates a csv file inside our module, when we open it, we will find all the above there.\n"
   ]
  },
  {
   "cell_type": "code",
   "execution_count": null,
   "id": "cbee3e6e",
   "metadata": {},
   "outputs": [],
   "source": [
    "# working with csv files\n",
    "import csv\n",
    "with open(\"data.csv\", \"r\") as csv_file:     # opens file in read mode\n",
    "    reader=csv.reader(csv_file)         # creates a csv reader object\n",
    "    for row in reader:                  # iterate through each row in each csv file\n",
    "        print(row)"
   ]
  },
  {
   "cell_type": "code",
   "execution_count": null,
   "id": "db17c216",
   "metadata": {},
   "outputs": [],
   "source": [
    "# working with csv files\n",
    "# DictReader for reading csv files\n",
    "with open(\"data.csv\", \"r\") as csv_file:\n",
    "    reader=csv.DictReader(csv_file)\n",
    "    for row in reader:\n",
    "        print(row)  # gives us a dictionary format"
   ]
  },
  {
   "cell_type": "markdown",
   "id": "a49a4a65",
   "metadata": {},
   "source": [
    "# Handling JSON data\n",
    "\n",
    "JSON: format for storing and exchanging data(like python dictionaries)\n",
    "\n",
    "json.dump()-writes json file\n",
    "\n",
    "json.load()-reads json from file\n",
    "\n",
    "json.loads()-reads json from string\n",
    "\n",
    "json dumps()- converts python object to json string"
   ]
  },
  {
   "cell_type": "code",
   "execution_count": 23,
   "id": "188a17e4",
   "metadata": {},
   "outputs": [],
   "source": [
    "# write json file\n",
    "import json\n",
    "# working with json file\n",
    "data={'name':\"Alice\",\n",
    "      'age': 30,\n",
    "      'city': \"New York\"\n",
    "      }"
   ]
  },
  {
   "cell_type": "code",
   "execution_count": null,
   "id": "a48aa86c",
   "metadata": {},
   "outputs": [],
   "source": [
    "# \n",
    "import json\n",
    "# working with json file\n",
    "data={'name':\"Alice\",\n",
    "      'age': 30,\n",
    "      'city': \"New York\"\n",
    "      }\n",
    "\n",
    "with open(\"data.json\", \"w\") as json_file:   # write json data to file with indentation\n",
    "    json.dump(data,json_file,indent=4)      # stores data\n",
    "    # result--> json file created in python Module_10"
   ]
  },
  {
   "cell_type": "code",
   "execution_count": null,
   "id": "0792e91c",
   "metadata": {},
   "outputs": [
    {
     "name": "stdout",
     "output_type": "stream",
     "text": [
      "{'name': 'Alice', 'age': 30, 'city': 'New York'}\n"
     ]
    }
   ],
   "source": [
    "# reading from a json file\n",
    "with open(\"data.json\", \"r\") as json_file:\n",
    "    data=json.load(json_file)   # read data\n",
    "    print(data)"
   ]
  },
  {
   "cell_type": "code",
   "execution_count": null,
   "id": "e10e0263",
   "metadata": {},
   "outputs": [
    {
     "name": "stdout",
     "output_type": "stream",
     "text": [
      "{'Name': 'Alice', 'Age': 30, 'City': 'New York'}\n"
     ]
    }
   ],
   "source": [
    "# json string\n",
    "json_string='{\"Name\": \"Alice\", \"Age\" : 30, \"City\": \"New York\"}' # parse json_string into python dictionary\n",
    "data=json.loads(json_string)\n",
    "print(data)                     # takes string away and returns dictionary"
   ]
  },
  {
   "cell_type": "code",
   "execution_count": null,
   "id": "3932d6d5",
   "metadata": {},
   "outputs": [
    {
     "name": "stdout",
     "output_type": "stream",
     "text": [
      "{\n",
      "    \"Name\": \"Alice\",\n",
      "    \"Age\": 30,\n",
      "    \"City\": \"New York\"\n",
      "}\n"
     ]
    }
   ],
   "source": [
    "# use dump to convert python object to json_string\n",
    "import json\n",
    "data={\n",
    "    'Name': 'Alice',\n",
    "    'Age': 30,\n",
    "    'City': 'New York'\n",
    "}\n",
    "json_string=json.dumps(data, indent=4)    # converts python objectto json string with indentation\n",
    "print(json_string)"
   ]
  }
 ],
 "metadata": {
  "kernelspec": {
   "display_name": "Python 3",
   "language": "python",
   "name": "python3"
  },
  "language_info": {
   "codemirror_mode": {
    "name": "ipython",
    "version": 3
   },
   "file_extension": ".py",
   "mimetype": "text/x-python",
   "name": "python",
   "nbconvert_exporter": "python",
   "pygments_lexer": "ipython3",
   "version": "3.10.10"
  }
 },
 "nbformat": 4,
 "nbformat_minor": 5
}
