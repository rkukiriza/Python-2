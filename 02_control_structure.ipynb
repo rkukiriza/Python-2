{
 "cells": [
  {
   "cell_type": "markdown",
   "id": "4e2bdb35",
   "metadata": {},
   "source": [
    "#  Python control structures: Loops and conditionals\n",
    "Control structures help you t control the flow of your program. They allow your code to make decisions or repeat actions."
   ]
  },
  {
   "cell_type": "markdown",
   "id": "5a07eb4b",
   "metadata": {},
   "source": [
    "# Conditional statements\n",
    "\n",
    "## What is a conditional statement?\n",
    "A conditional statement controls whether a block code runs based on whether a condition is True or False.\n",
    "\n",
    "## Types\n",
    "\n",
    "## if:\n",
    "Runs code if conditon is true/ only runs code if the condition is True.\n",
    "\n",
    "## elif:\n",
    "checks additional conditions if the previous if is false. If indicator \"a\" does this; however check if indicator \"b\"  is also doing similar, then a stronger buy.\n",
    "\n",
    "## else:\n",
    "Runs code if no conditions are True that is to say checks elif\n",
    "\n",
    "## purpose:\n",
    "makes decisions in code by chosing which path to follow.\n",
    "\n",
    "If conditions are not met, code cannot run. What we use when creating  bots i.e if volume is greater than $1000:  buy, if les tha $1000: sell.\n",
    "\n",
    "If a user crosses this, do this: if market cap is greater than this, do that.\n",
    "\n",
    "We use it to build in logic as well. We can use it as well to create conditions in our code i.e if transaction amount is >$1m: print this...\n",
    "\n",
    "Can be used to create crypto tracking  bots or crypto trackers or you can use it to do a number of things.\n",
    "\n",
    "To classify i.e if this transaction is  below this,term this person as this. \n",
    "\n",
    "Conditional statements are  very useful in our code for example if token A does this: buy token A elif if token  B does the same: then hold, however else dont trade or else buy.\n",
    "\n",
    "## How conditions work\n",
    "1 if: checks a condition-if True, runs the code.\n",
    "2 elif: short for else if: checks another condition if the first one is False\n",
    "3 else: runs if all the above con ditions were false.\n",
    "\n",
    "### If statement\n",
    "x=10, what is x? if we want to check what data variable is stored in x, how do we check? we do; type(x) and then run it--> result is int(x is an integer)"
   ]
  },
  {
   "cell_type": "code",
   "execution_count": null,
   "id": "3d3d34e8",
   "metadata": {},
   "outputs": [
    {
     "name": "stdout",
     "output_type": "stream",
     "text": [
      "10is greater than 5\n"
     ]
    }
   ],
   "source": [
    "# type(x) lets create a condition that tells  us that if a number is greater than 10, i.e\n",
    "x=+10\n",
    "if x > 5:\n",
    "   print(str(x) +  \"is greater than 5\") # condition is true so code did run."
   ]
  },
  {
   "cell_type": "code",
   "execution_count": null,
   "id": "de960602",
   "metadata": {},
   "outputs": [],
   "source": [
    "# if--- statement\n",
    "x=20\n",
    "if x<20:\n",
    "    print(0) # you have to  be very careful  not to include upper c ase lettersin the con ditional statement , also rememember \n",
    "# to put a colon after the if statement always."
   ]
  },
  {
   "cell_type": "code",
   "execution_count": null,
   "id": "a07674e5",
   "metadata": {},
   "outputs": [
    {
     "name": "stdout",
     "output_type": "stream",
     "text": [
      "x is 5 or less\n"
     ]
    }
   ],
   "source": [
    "# if---else statement\n",
    "x=3\n",
    "if x>5:\n",
    "    print((\"x is greater than 5\")) # if statement is False so else prints message\n",
    "else:\n",
    "    print(\"x is 5 or less\")"
   ]
  },
  {
   "cell_type": "code",
   "execution_count": null,
   "id": "318eb4a7",
   "metadata": {},
   "outputs": [
    {
     "name": "stdout",
     "output_type": "stream",
     "text": [
      "greater than 5\n"
     ]
    }
   ],
   "source": [
    "## if---elif---else statement\n",
    "# going to check for if condition is true(not true) will then go to \"elif\" i.e first condition is not true, check the other one \n",
    "# i.e\n",
    "x=7\n",
    "if x<5:\n",
    "    print(\"less than 5\")# checks for if the stement is True, in this case False\n",
    "elif x==5:\n",
    "    print(\"equal to 5\")# checks for if additional condition; checks if x is exactly eaqual to 5 and it if False\n",
    "else:\n",
    "    print(\"greater than 5\")# runs code since first 2 conditons are all False"
   ]
  },
  {
   "cell_type": "code",
   "execution_count": 12,
   "id": "02792181",
   "metadata": {},
   "outputs": [
    {
     "name": "stdout",
     "output_type": "stream",
     "text": [
      "high balance wallet\n"
     ]
    }
   ],
   "source": [
    "### A wallet balance has $1500 worth of ETH. check if the balance is greater than $1000 and classify or categorize(return \n",
    "# if the wallet balance is \"high balance wallet\" or \"low balance wallet\")\n",
    "wallet_x=1500\n",
    "if wallet_x<1000:\n",
    "    print(\"low balance wallet\")\n",
    "elif wallet_x==1000:\n",
    "    print(\"expected balance wallet\")\n",
    "else:\n",
    "    print(\"high balance wallet\")"
   ]
  },
  {
   "cell_type": "code",
   "execution_count": 14,
   "id": "7e2b0833",
   "metadata": {},
   "outputs": [
    {
     "name": "stdout",
     "output_type": "stream",
     "text": [
      "high balance wallet\n"
     ]
    }
   ],
   "source": [
    "## More than 1 elif statements\n",
    "wallet_x=1500\n",
    "if wallet_x<1000:\n",
    "    print(\"low balance wallet\")\n",
    "elif wallet_x<500:\n",
    "    print(\"minimum balance wallet\")\n",
    "elif wallet_x==1000:\n",
    "    print(\"exact balance wallet or less\")\n",
    "else:\n",
    "    print(\"high balance wallet\")"
   ]
  },
  {
   "cell_type": "markdown",
   "id": "0be00e4e",
   "metadata": {},
   "source": [
    "## Logical operators\n",
    " The combine or invert conditions\n",
    "\n",
    "### how they work\n",
    "and:  both conditions must be True\n",
    "\n",
    "or: either condition can be True\n",
    "\n",
    "\n",
    "not: flips the condition(True becomes False and vice versa)\n"
   ]
  },
  {
   "cell_type": "code",
   "execution_count": 16,
   "id": "1da0e819",
   "metadata": {},
   "outputs": [
    {
     "name": "stdout",
     "output_type": "stream",
     "text": [
      "high balance and verified wallet\n"
     ]
    }
   ],
   "source": [
    "## and operator--> returns True only if both conditions are True i.e\n",
    "balance=1500\n",
    "verified=True # make a condition\n",
    "if balance>1000 and verified:\n",
    "    print(\"high balance and verified wallet\")"
   ]
  },
  {
   "cell_type": "markdown",
   "id": "e37aa0e0",
   "metadata": {},
   "source": [
    "In case you are building a system that tracks meme tokens, if you pull your data from coingecko and pull security data from odsy security platform, you pull there data of the number of tokens and if they are verified or not and then you now create a condition that;\n",
    " if market cap is below $1000, verify; you create a condition that already verifies the token that you want to trade. Is it verified? It is verified, you say; print(\"high balance wallet and verified wallet) run code--> result--> High balance and verified wallet."
   ]
  },
  {
   "cell_type": "code",
   "execution_count": 19,
   "id": "eedeacd6",
   "metadata": {},
   "outputs": [
    {
     "name": "stdout",
     "output_type": "stream",
     "text": [
      "passes atleast one condition\n"
     ]
    }
   ],
   "source": [
    "## or operator--> returns True if atleast one condition is True i.e\n",
    "balance=600\n",
    "verified=False\n",
    "# condition;\n",
    "if balance<1000 or verified:\n",
    "    print(\"passes atleast one condition\")\n",
    "else:\n",
    "    print(\"fails both checks\")\n"
   ]
  },
  {
   "cell_type": "code",
   "execution_count": 21,
   "id": "06a78494",
   "metadata": {},
   "outputs": [
    {
     "name": "stdout",
     "output_type": "stream",
     "text": [
      "wallet is cleared\n"
     ]
    }
   ],
   "source": [
    "## not operator---> reverses the condition i.e \n",
    "is_blacklisted=False\n",
    "if not is_blacklisted:\n",
    "    print(\"wallet is cleared\")"
   ]
  },
  {
   "cell_type": "code",
   "execution_count": 29,
   "id": "757d1586",
   "metadata": {},
   "outputs": [
    {
     "name": "stdout",
     "output_type": "stream",
     "text": [
      "within range\n"
     ]
    }
   ],
   "source": [
    "# create a variable 100 and check if it is greater than zero and less than 200\n",
    "balance=100\n",
    "if balance>0 and balance <200 :\n",
    "    print(\"within range\")\n",
    "elif balance>0 or  balance<200 :\n",
    "    print(\"balance is greater than 0 and less than 200\")\n",
    "elif balance<0 and  balance >200 or balance==0 :\n",
    "    print(\"balance is less than 0 or greater than 200 or equal to 0\")\n",
    "else:\n",
    "    print(\"balance is not with in specified range\")\n"
   ]
  },
  {
   "cell_type": "markdown",
   "id": "84065f8f",
   "metadata": {},
   "source": [
    "## Logical operator table\n",
    "\n",
    "Expression          Result\n",
    "\n",
    "\"True and True\"     True\n",
    "\n",
    "\"True and False\"    False\n",
    "\n",
    "\"False or True\"     True\n",
    "\n",
    "\"not True\"          False\n",
    "\n",
    "\"not False\"         True\n",
    "\n",
    "Exercise\n",
    "Check if a user is over 18 and verified to\"proceed\". Print\"Access granted\" if age>18 or has a parent's permission. Use not to check if a wallet is  not blacklisted."
   ]
  },
  {
   "cell_type": "code",
   "execution_count": 51,
   "id": "5d7e7b4e",
   "metadata": {},
   "outputs": [
    {
     "name": "stdout",
     "output_type": "stream",
     "text": [
      "Access granted\n"
     ]
    }
   ],
   "source": [
    "r=18\n",
    "verified=True\n",
    "parent_permission=True\n",
    "blacklisted=False\n",
    "if r>18 and verified:\n",
    "    print(\"proceed to next level\")\n",
    "elif r<18 or parent_permission:\n",
    "    print(\"Access granted\")\n",
    "elif not blacklisted:\n",
    "    print(\"Wallet is cleared\")\n",
    "else:\n",
    "    print(\"Acess denied\")"
   ]
  },
  {
   "cell_type": "code",
   "execution_count": 49,
   "id": "28b252f9",
   "metadata": {},
   "outputs": [
    {
     "name": "stdout",
     "output_type": "stream",
     "text": [
      "False\n"
     ]
    }
   ],
   "source": [
    "r_blacklisted=True\n",
    "if not blacklisted:\n",
    "    print(\"False\")\n"
   ]
  },
  {
   "cell_type": "code",
   "execution_count": 52,
   "id": "bba5fc0a",
   "metadata": {},
   "outputs": [
    {
     "name": "stdout",
     "output_type": "stream",
     "text": [
      "not blacklisted\n"
     ]
    }
   ],
   "source": [
    "r_blacklisted=False\n",
    "if not blacklisted:\n",
    "    print(\"not blacklisted\")"
   ]
  }
 ],
 "metadata": {
  "kernelspec": {
   "display_name": "Python 3",
   "language": "python",
   "name": "python3"
  },
  "language_info": {
   "codemirror_mode": {
    "name": "ipython",
    "version": 3
   },
   "file_extension": ".py",
   "mimetype": "text/x-python",
   "name": "python",
   "nbconvert_exporter": "python",
   "pygments_lexer": "ipython3",
   "version": "3.10.10"
  }
 },
 "nbformat": 4,
 "nbformat_minor": 5
}
