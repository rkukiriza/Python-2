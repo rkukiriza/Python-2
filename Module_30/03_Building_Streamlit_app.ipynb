{
 "cells": [
  {
   "cell_type": "markdown",
   "id": "8a6e7596",
   "metadata": {},
   "source": [
    "# Building Streamlit App"
   ]
  },
  {
   "cell_type": "markdown",
   "id": "20d0fc47",
   "metadata": {},
   "source": [
    "### Stream is a python library that turns scripts into web applications"
   ]
  },
  {
   "cell_type": "code",
   "execution_count": 1,
   "id": "865115cf",
   "metadata": {},
   "outputs": [],
   "source": [
    "import streamlit as st"
   ]
  }
 ],
 "metadata": {
  "kernelspec": {
   "display_name": "Python 3",
   "language": "python",
   "name": "python3"
  },
  "language_info": {
   "codemirror_mode": {
    "name": "ipython",
    "version": 3
   },
   "file_extension": ".py",
   "mimetype": "text/x-python",
   "name": "python",
   "nbconvert_exporter": "python",
   "pygments_lexer": "ipython3",
   "version": "3.13.6"
  }
 },
 "nbformat": 4,
 "nbformat_minor": 5
}
