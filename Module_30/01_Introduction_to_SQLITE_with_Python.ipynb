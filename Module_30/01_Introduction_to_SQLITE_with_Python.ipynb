{
 "cells": [
  {
   "cell_type": "markdown",
   "id": "02c0260c",
   "metadata": {},
   "source": [
    "# SQLITE with Python"
   ]
  },
  {
   "cell_type": "markdown",
   "id": "ea3a437b",
   "metadata": {},
   "source": [
    "#### What is SQL?\n",
    "SQL(Structured Query Language) is a language used to manage data in relation databases. Think of it like Excel formulas but for databases. It lets you create, read, update and delete data in a structured way. Standardized in 1986, there are several different dialects.\n",
    "\n",
    "#### SQL Terms\n",
    "Table: Data structure which organises data into rows and columns.\n",
    "\n",
    "Column: A field in the table which stores particular attributes for records(price, name, symbol). Each column can hold a specific data type.\n",
    "\n",
    "Row: A single record containing values for each column in the table.\n",
    "\n",
    "Query: A request to retrieve, insert, update or delete data from the database\n",
    "#### SQL Data Types\n",
    "INTEGER: Whole numbers(positive, negative, zero), can also be used for IDs and auto increament primary keys. Usage example coin ID INTEGER PRIMARY KEY\n",
    "\n",
    "REAL: Floating point numbers(decimals). Good for prices, percentages etc\n",
    "\n",
    "TEXT: Any string of characters. For names,symbols,descriptions etc i.e name TEXT, symbol TEXT\n",
    "\n",
    "DATE/TEXT: SQlite has no dedicated DATE TYPE-dates are usually stored as TEXT in yyyy-MM-DD format, or as an INTEGER(Unix timestamp) i.e date TEXT.\n",
    "\n",
    "#### SQL Commands\n",
    "SELECT: We use the SELECT command to read data, probably the most common command for data Analytics(Dune queries read Dune's DB W/SELECT command access)\n",
    "\n",
    "Insert-is used to add record DB management\n",
    "\n",
    "Update-used to modify existing data\n",
    "\n",
    "Delete-used to remove records\n",
    "\n",
    "#### SQL Functions\n",
    "SUM: calculates total of a column(SELECT SUM(volume)) from dex trades.\n",
    "\n",
    "MAX: returns max volume in a column(SELECT MAX(price) from prices).\n",
    "\n",
    "MIN: returns min  value in a column(SELECT MIN(tx_count)) from daily_tx.\n",
    "\n",
    "AVG: calculates the average  of a column(SELECT AVG(users)) from weekly users.\n",
    "\n",
    "COUNT:counts the number of rows in a column(SLECT COUNT(addrees)) from ledger."
   ]
  },
  {
   "cell_type": "markdown",
   "id": "a9466e4d",
   "metadata": {},
   "source": [
    "REAL world example\n",
    "\n",
    "Most blockchain data analysts exposed to SQL through Dune Analytics.\n",
    "\n",
    "Dune allows users to query blockchain data using SQL queries on Dune's DB.\n",
    "\n",
    "Dune collects transaction and event data for several blockchains and allows users to create  dashboards and download the data through APIs"
   ]
  },
  {
   "cell_type": "markdown",
   "id": "e48cf378",
   "metadata": {},
   "source": [
    "##### Core SQL Commands\n",
    "Here are the four essential SQL commands(often called CRUD operations)\n",
    "\n",
    "SELECT-READ data\n",
    "\n",
    "SELECT*FROM coins: gets all data from the coins table\n",
    "\n",
    "SELECT name, price FROM coins WHERE price>100: Gets specific columns with a condition\n",
    "\n",
    "INSERT :add new records\n",
    "\n",
    "INSERT INTO coins VALUES('Bitcoin', 50000): Adds a new row\n",
    "\n",
    "INSERT INTO coins(names,prices) VALUES('Ethereum' , 3000): Adds to specific columns\n",
    "\n",
    "UPDATE-Modify existing data i.e UPDATE coins SET price-51000 WHERE name-'Bitcoin': Changes bitcoins price\n",
    "\n",
    "DELETE-Remove records\n",
    "\n",
    "DELETE FROM coins WHERE price<10> Deletes all cheap coins\n",
    "\n",
    "\n",
    "Setting up a Dtabase. Lets create a simple database to track cryptocurrencies"
   ]
  },
  {
   "cell_type": "code",
   "execution_count": 2,
   "id": "25214425",
   "metadata": {},
   "outputs": [],
   "source": [
    "import sqlite3\n",
    "import pandas as pd"
   ]
  },
  {
   "cell_type": "code",
   "execution_count": 3,
   "id": "ce3cd05d",
   "metadata": {},
   "outputs": [
    {
     "name": "stdout",
     "output_type": "stream",
     "text": [
      "Database file deleted\n"
     ]
    }
   ],
   "source": [
    "import os\n",
    "db_path=\"Crypto.db\"\n",
    "if os.path.exists(db_path):\n",
    "    os.remove(db_path)\n",
    "    print(\"Database file deleted\")\n",
    "else:\n",
    "    print(\"Database file does not exist.\")"
   ]
  },
  {
   "cell_type": "code",
   "execution_count": 41,
   "id": "3aa8ba97",
   "metadata": {},
   "outputs": [
    {
     "name": "stdout",
     "output_type": "stream",
     "text": [
      "Table 'coins'created successfully.\n"
     ]
    }
   ],
   "source": [
    "# Create or connect database file\n",
    "conn=sqlite3.connect(db_path)\n",
    "# Create a cursor object to execute SQL commands\n",
    "cursor=conn.cursor()\n",
    "# Create a table\n",
    "cursor.execute(\"\"\"\n",
    "               CREATE TABLE IF NOT EXISTS coins(\n",
    "               id INTEGER PRIMARY KEY AUTOINCREMENT,\n",
    "               name TEXT NOT NULL,\n",
    "               symbol text not null,\n",
    "               price REAL,\n",
    "               market_cap REAL,\n",
    "               last_updated TIMESTAMP DEFAULT CURRENT_TIMESTAMP\n",
    "               )\n",
    "               \"\"\")\n",
    "# Save() the changes\n",
    "conn.commit\n",
    "print(\"Table 'coins'created successfully.\")"
   ]
  },
  {
   "cell_type": "markdown",
   "id": "e6c31865",
   "metadata": {},
   "source": [
    "## Inserting Data"
   ]
  },
  {
   "cell_type": "code",
   "execution_count": 42,
   "id": "bbedbc63",
   "metadata": {},
   "outputs": [],
   "source": [
    "# inserting data( insert a single record)\n",
    "cursor.execute(\"\"\"\n",
    "               INSERT INTO coins(name,symbol,price,market_cap)\n",
    "               VALUES('Bitcoin', 'BTC', '50000', 950000000000)\n",
    "               \"\"\")\n",
    "\n",
    "# Insert multiple records\n",
    "coins=[\n",
    "    ('Ethereum', 'ETH',3000, 3500000000),\n",
    "    ('Cadano', 'ADA', 1.5, 50000000000),\n",
    "    ('Solana', 'SOL', 150, 50000000000)\n",
    "]\n",
    "cursor.executemany(\"\"\"\n",
    "INSERT INTO coins(name,symbol,price, market_cap)\n",
    "                    VALUES(?,?,?,?)\n",
    "                    \"\"\", coins)\n",
    "conn.commit()"
   ]
  },
  {
   "cell_type": "markdown",
   "id": "91009fcc",
   "metadata": {},
   "source": [
    "## Querying Data"
   ]
  },
  {
   "cell_type": "code",
   "execution_count": 43,
   "id": "f3ec7d59",
   "metadata": {},
   "outputs": [
    {
     "name": "stdout",
     "output_type": "stream",
     "text": [
      "All coins: [(1, 'Bitcoin', 'BTC', 51000.0, 950000000000.0, '2025-08-18 13:07:32'), (2, 'Bitcoin', 'BTC', 51000.0, 950000000000.0, '2025-08-18 13:19:48'), (3, 'Bitcoin', 'BTC', 51000.0, 950000000000.0, '2025-08-18 13:21:13'), (4, 'Bitcoin', 'BTC', 51000.0, 950000000000.0, '2025-08-18 13:22:28'), (5, 'Ethereum', 'ETH', 3000.0, 3500000000.0, '2025-08-18 13:22:28'), (7, 'Solana', 'SOL', 150.0, 50000000000.0, '2025-08-18 13:22:28'), (8, 'Bitcoin', 'BTC', 50000.0, 950000000000.0, '2025-08-18 17:18:50'), (9, 'Ethereum', 'ETH', 3000.0, 3500000000.0, '2025-08-18 17:18:50'), (10, 'Cadano', 'ADA', 1.5, 50000000000.0, '2025-08-18 17:18:50'), (11, 'Solana', 'SOL', 150.0, 50000000000.0, '2025-08-18 17:18:50')]\n"
     ]
    }
   ],
   "source": [
    "# Get all coins\n",
    "cursor.execute(\"SELECT*FROM coins\")\n",
    "all_coins=cursor.fetchall() # Get all results as a list of turples.\n",
    "print(\"All coins:\", all_coins)"
   ]
  },
  {
   "cell_type": "code",
   "execution_count": 44,
   "id": "327362e0",
   "metadata": {},
   "outputs": [
    {
     "name": "stdout",
     "output_type": "stream",
     "text": [
      "Bitcoin data: (1, 'Bitcoin', 'BTC', 51000.0, 950000000000.0, '2025-08-18 13:07:32')\n"
     ]
    }
   ],
   "source": [
    "# Get one coin\n",
    "cursor.execute(\"SELECT*FROM coins WHERE symbol='BTC'\")\n",
    "bitcoin=cursor.fetchone() # Gets just the first result\n",
    "print(\"Bitcoin data:\", bitcoin)"
   ]
  },
  {
   "cell_type": "code",
   "execution_count": 45,
   "id": "2c2df205",
   "metadata": {},
   "outputs": [
    {
     "name": "stdout",
     "output_type": "stream",
     "text": [
      "Expensive coins: [('Bitcoin', 51000.0), ('Bitcoin', 51000.0), ('Bitcoin', 51000.0), ('Bitcoin', 51000.0), ('Ethereum', 3000.0), ('Solana', 150.0), ('Bitcoin', 50000.0), ('Ethereum', 3000.0), ('Solana', 150.0)]\n"
     ]
    }
   ],
   "source": [
    "# Get specific columns with a condition\n",
    "cursor.execute(\"SELECT name,price FROM coins WHERE price >100\")\n",
    "expensive_coins=cursor.fetchall()\n",
    "print(\"Expensive coins:\", expensive_coins)"
   ]
  },
  {
   "cell_type": "markdown",
   "id": "dcffc01f",
   "metadata": {},
   "source": [
    "## Updating and Deleting"
   ]
  },
  {
   "cell_type": "code",
   "execution_count": 28,
   "id": "19c01c60",
   "metadata": {},
   "outputs": [],
   "source": [
    "# Update bitcoin's price\n",
    "cursor.execute(\"UPDATE coins SET price=51000 WHERE symbol='BTC'\")\n",
    "conn.commit()"
   ]
  },
  {
   "cell_type": "code",
   "execution_count": 46,
   "id": "6d003f32",
   "metadata": {},
   "outputs": [],
   "source": [
    "# Delete cheap coins\n",
    "cursor.execute(\"DELETE FROM coins WHERE price<21\")\n",
    "conn.commit()"
   ]
  },
  {
   "cell_type": "markdown",
   "id": "9c1078b2",
   "metadata": {},
   "source": [
    "#### Using Context Managers(best practice)\n",
    "This automatically handles opening and closing the connection."
   ]
  },
  {
   "cell_type": "code",
   "execution_count": 47,
   "id": "8ab1bf5f",
   "metadata": {},
   "outputs": [
    {
     "name": "stdout",
     "output_type": "stream",
     "text": [
      "[(1, 'Bitcoin', 'BTC', 51000.0, 950000000000.0, '2025-08-18 13:07:32'), (2, 'Bitcoin', 'BTC', 51000.0, 950000000000.0, '2025-08-18 13:19:48'), (3, 'Bitcoin', 'BTC', 51000.0, 950000000000.0, '2025-08-18 13:21:13'), (4, 'Bitcoin', 'BTC', 51000.0, 950000000000.0, '2025-08-18 13:22:28'), (5, 'Ethereum', 'ETH', 3000.0, 3500000000.0, '2025-08-18 13:22:28'), (7, 'Solana', 'SOL', 150.0, 50000000000.0, '2025-08-18 13:22:28'), (8, 'Bitcoin', 'BTC', 50000.0, 950000000000.0, '2025-08-18 17:18:50'), (9, 'Ethereum', 'ETH', 3000.0, 3500000000.0, '2025-08-18 17:18:50'), (11, 'Solana', 'SOL', 150.0, 50000000000.0, '2025-08-18 17:18:50')]\n"
     ]
    }
   ],
   "source": [
    "with sqlite3.connect(db_path) as conn:\n",
    "    cursor=conn.cursor()\n",
    "    cursor.execute(\"SELECT * FROM coins\")\n",
    "    print(cursor.fetchall())\n",
    "    # No need to manually close, its handled by the with book, returns a list of turples(unstructured data)"
   ]
  },
  {
   "cell_type": "markdown",
   "id": "a8e264f5",
   "metadata": {},
   "source": [
    "### Pandas and SQL integration\n",
    " Pandas makes working with SQL data even easier by connecting between data frames and SQL tables\n",
    "\n",
    " Reading SQL into Pandas."
   ]
  },
  {
   "cell_type": "code",
   "execution_count": 48,
   "id": "db8bf202",
   "metadata": {},
   "outputs": [
    {
     "name": "stdout",
     "output_type": "stream",
     "text": [
      "DataFrame from SQL\n",
      "   id      name symbol    price    markeT_cap         last_updated\n",
      "0   1   Bitcoin    BTC  51000.0  9.500000e+11  2025-08-18 13:07:32\n",
      "1   2   Bitcoin    BTC  51000.0  9.500000e+11  2025-08-18 13:19:48\n",
      "2   3   Bitcoin    BTC  51000.0  9.500000e+11  2025-08-18 13:21:13\n",
      "3   4   Bitcoin    BTC  51000.0  9.500000e+11  2025-08-18 13:22:28\n",
      "4   5  Ethereum    ETH   3000.0  3.500000e+09  2025-08-18 13:22:28\n"
     ]
    }
   ],
   "source": [
    "import pandas as pd\n",
    "with sqlite3.connect(db_path) as conn:\n",
    "    #Read SQL query directly into a dataframe\n",
    "    df=pd.read_sql(\"SELECT*FROM coins\", conn)\n",
    "    print(\"DataFrame from SQL\")\n",
    "    print(df.head())"
   ]
  },
  {
   "cell_type": "markdown",
   "id": "64f314c8",
   "metadata": {},
   "source": [
    "### # Writing pandas to SQL"
   ]
  },
  {
   "cell_type": "code",
   "execution_count": 49,
   "id": "635a4911",
   "metadata": {},
   "outputs": [
    {
     "name": "stdout",
     "output_type": "stream",
     "text": [
      "\n",
      "New coin table:\n",
      "       name symbol  price  market_cap\n",
      "0  Polkadot    DOT   7.50  7500000000\n",
      "1   Polygon  MATIC   0.75  5000000000\n"
     ]
    }
   ],
   "source": [
    "#create a new data frame\n",
    "new_coins=pd.DataFrame({\n",
    "    'name': ['Polkadot','Polygon' ],\n",
    "    'symbol': ['DOT', 'MATIC'],\n",
    "    'price': [7.5, 0.75],\n",
    "    'market_cap': [7500000000,5000000000]\n",
    "})\n",
    "\n",
    "with sqlite3.connect(db_path) as conn:\n",
    "# Write the DataFrame to a new SQL table\n",
    "    new_coins.to_sql(\"new_coins\", conn, index=False, if_exists='replace')\n",
    "# verify that it works\n",
    "df_new=pd.read_sql(\"SELECT * FROM new_coins\", conn)\n",
    "print(\"\\nNew coin table:\")\n",
    "print(df_new)"
   ]
  },
  {
   "cell_type": "markdown",
   "id": "4ab7022b",
   "metadata": {},
   "source": [
    "Nb: Include a with statement in all your cells to the data base"
   ]
  },
  {
   "cell_type": "markdown",
   "id": "50ef390a",
   "metadata": {},
   "source": [
    "### Analyzing SQL Data with Pandas"
   ]
  },
  {
   "cell_type": "code",
   "execution_count": 52,
   "id": "6db67216",
   "metadata": {},
   "outputs": [
    {
     "name": "stdout",
     "output_type": "stream",
     "text": [
      "n\\Basic statistics:\n",
      "              id         price    markeT_cap\n",
      "count   9.000000      9.000000  9.000000e+00\n",
      "mean    5.555556  28922.222222  5.396667e+11\n",
      "std     3.395258  25965.338809  4.868731e+11\n",
      "min     1.000000    150.000000  3.500000e+09\n",
      "25%     3.000000   3000.000000  5.000000e+10\n",
      "50%     5.000000  50000.000000  9.500000e+11\n",
      "75%     8.000000  51000.000000  9.500000e+11\n",
      "max    11.000000  51000.000000  9.500000e+11\n",
      "\n",
      "Average price: 28922.222222222223\n",
      "Total Market Cap: 4857000000000.0\n"
     ]
    }
   ],
   "source": [
    "with sqlite3.connect(db_path) as conn:\n",
    "    df=pd.read_sql(\"SELECT * FROM coins\", conn)\n",
    "    # Now you can use all pandas operations\n",
    "    print(\"n\\Basic statistics:\")\n",
    "    print(df.describe())\n",
    "\n",
    "    print(\"\\nAverage price:\", df['price']. mean())\n",
    "    print(\"Total Market Cap:\", df['markeT_cap']. sum())"
   ]
  },
  {
   "cell_type": "code",
   "execution_count": 53,
   "id": "ff5c5082",
   "metadata": {},
   "outputs": [
    {
     "name": "stdout",
     "output_type": "stream",
     "text": [
      "\n",
      "Expensive coins:\n",
      "       name\n",
      "0   Bitcoin\n",
      "1   Bitcoin\n",
      "2   Bitcoin\n",
      "3   Bitcoin\n",
      "4  Ethereum\n",
      "5    Solana\n",
      "6   Bitcoin\n",
      "7  Ethereum\n",
      "8    Solana\n"
     ]
    }
   ],
   "source": [
    "# filter with pandas\n",
    "expensive=df[df['price']>100]\n",
    "print(\"\\nExpensive coins:\")\n",
    "print(expensive[['name']])"
   ]
  },
  {
   "cell_type": "markdown",
   "id": "ecee89e1",
   "metadata": {},
   "source": [
    "# Joins and Relationships"
   ]
  },
  {
   "cell_type": "markdown",
   "id": "b4de3dd8",
   "metadata": {},
   "source": [
    "#### Understanding table relationships\n",
    "in real databases, data is often split across multiple related tables. For example coins table, coin_id, name, symbol\n",
    "prices table: price_id, coin_id, price, date"
   ]
  },
  {
   "cell_type": "markdown",
   "id": "39dca87c",
   "metadata": {},
   "source": [
    "#### Creating Related Tables"
   ]
  },
  {
   "cell_type": "code",
   "execution_count": null,
   "id": "3e2f6ce9",
   "metadata": {},
   "outputs": [],
   "source": [
    "with sqlite3.connect(db_path) as conn:\n",
    "    cursor=conn.cursor()\n",
    "    # Create coins table\n",
    "    cursor.execute(\"DROP TABLE IF EXISTS coins\")\n",
    "    cursor.execute(\"\"\"\n",
    "                   CREATE TABLE coins(\n",
    "                   coin_id INTEGER PRIMARY KEY AUTOINCREMENT,\n",
    "                   name TEXT NOT NULL,\n",
    "                   symbol TEXT NOT NULL UNIQUE)\n",
    "                   \"\"\")\n",
    "    \n",
    "    # Create prices table with foreign key\n",
    "    cursor.execute(\"\"\"\n",
    "                   CREATE TABLE IF NOT EXISTS prices(\n",
    "                   price_id INTEGER PRIMARY KEY AUTOINCREMENT,\n",
    "                   coin_id INTEGER  NOT NULL,\n",
    "                   price REAL NOT NULL,\n",
    "                   date TIMESTAMP DEFAULT CURRENT_TIMESTAMP,\n",
    "                   FOREIGN KEY(coin_id) REFERENCES coins(coin_id)\n",
    "                   )\n",
    "                  \"\"\" )\n",
    "    \n",
    "    # Insert some data\n",
    "    cursor.execute(\"INSERT INTO coins(name,symbol) VALUES('Bitcoin', 'BTC')\")\n",
    "    cursor.execute(\"INSERT INTO coins(name,symbol) VALUES('Ethereum', 'ETH')\")\n",
    "\n",
    "    # Get the auto generated IDs\n",
    "    eth_id=cursor.lastrowid # This would actually get you ETH's ID in real code; you would need to query for BTC's\n",
    "    btc_id=eth_id-1\n",
    "    # Insert price history\n",
    "    cursor.executemany(\"\"\"\n",
    "    INSERT INTO prices(coin_id,price) \n",
    "    VALUES(?,?)\"\"\",\n",
    "    [\n",
    "        (btc_id, 50000),\n",
    "        (btc_id, 51000),\n",
    "        (eth_id, 3000),\n",
    "        (eth_id, 3100)\n",
    "    ])\n",
    "    conn.commit()"
   ]
  },
  {
   "cell_type": "markdown",
   "id": "6b4e5965",
   "metadata": {},
   "source": [
    "### Performing Joins"
   ]
  },
  {
   "cell_type": "markdown",
   "id": "a63a7b34",
   "metadata": {},
   "source": [
    "#### Example of a Right Join"
   ]
  },
  {
   "cell_type": "code",
   "execution_count": 58,
   "id": "189c39e0",
   "metadata": {},
   "outputs": [
    {
     "name": "stdout",
     "output_type": "stream",
     "text": [
      "\n",
      "coin prices with join:\n",
      "       name symbol    price                 date\n",
      "0   Bitcoin    BTC  50000.0  2025-08-19 13:15:40\n",
      "1   Bitcoin    BTC  51000.0  2025-08-19 13:15:40\n",
      "2  Ethereum    ETH   3000.0  2025-08-19 13:15:40\n",
      "3  Ethereum    ETH   3100.0  2025-08-19 13:15:40\n"
     ]
    }
   ],
   "source": [
    "with sqlite3.connect(db_path) as conn:\n",
    "    # Simple inner join\n",
    "    df=pd.read_sql(\"\"\"\n",
    "    SELECT c.name, c.symbol, p.price, p.date\n",
    "    FROM coins c\n",
    "    INNER JOIN prices p ON c.coin_id=p.coin_id\n",
    "    ORDER BY p.date DESC\n",
    "    \"\"\", conn)\n",
    "    # Coin_id to bridge the two tables\n",
    "    print(\"\\ncoin prices with join:\")\n",
    "    print(df)"
   ]
  },
  {
   "cell_type": "markdown",
   "id": "4a075b0c",
   "metadata": {},
   "source": [
    "Inner join--> keeps only the rows that match in both tables and matches from the left table if available or present.\n",
    "\n",
    "Left Join-->keeps all rows from the left table and matches from the right table if available or present.\n",
    "\n",
    "Full Join-->keeps all rows from both tables matching where possible."
   ]
  },
  {
   "cell_type": "markdown",
   "id": "e4e5c25c",
   "metadata": {},
   "source": [
    "#### Example of a left Join\n",
    "To get all coins even if they have no prices in the left table and matching anything familiar in all tables"
   ]
  },
  {
   "cell_type": "code",
   "execution_count": 60,
   "id": "f8d6fcd7",
   "metadata": {},
   "outputs": [
    {
     "name": "stdout",
     "output_type": "stream",
     "text": [
      "\n",
      "All coins with prices(if available):\n",
      "       name symbol    price                 date\n",
      "0   Bitcoin    BTC  50000.0  2025-08-19 13:15:40\n",
      "1   Bitcoin    BTC  51000.0  2025-08-19 13:15:40\n",
      "2  Ethereum    ETH   3000.0  2025-08-19 13:15:40\n",
      "3  Ethereum    ETH   3100.0  2025-08-19 13:15:40\n"
     ]
    }
   ],
   "source": [
    "with sqlite3.connect(db_path) as conn:\n",
    "    df=pd.read_sql(\"\"\"\n",
    "    SELECT c.name, c.symbol,p.price,p.date\n",
    "    FROM coins c                                    \n",
    "    LEFT JOIN prices p ON c.coin_id=p.coin_id\n",
    "    \"\"\", conn)\n",
    "    print(\"\\nAll coins with prices(if available):\")\n",
    "    print(df)"
   ]
  },
  {
   "cell_type": "markdown",
   "id": "6286dc95",
   "metadata": {},
   "source": [
    "# Best Practices"
   ]
  },
  {
   "cell_type": "code",
   "execution_count": 61,
   "id": "c58a59a4",
   "metadata": {},
   "outputs": [],
   "source": [
    "# Use context managers--> tghe with statement\n",
    "with sqlite3.connect(db_path) as conn:\n",
    "    df=pd.read_sql(\"\"\"\n",
    "    SELECT * FROM coins c\n",
    "    \"\"\", conn)"
   ]
  },
  {
   "cell_type": "code",
   "execution_count": 62,
   "id": "f34ccd92",
   "metadata": {},
   "outputs": [],
   "source": [
    "# Close connection with commit (if not using context manager)\n",
    "conn=sqlite3.connect(db_path)\n",
    "df=pd.read_sql(\"\"\"\n",
    "SELECT * FROM coins\n",
    "\"\"\", conn)\n",
    "conn.commit() # Saving the updates to database\n",
    "conn.close() # Closing the database connection"
   ]
  },
  {
   "cell_type": "code",
   "execution_count": 63,
   "id": "cedece87",
   "metadata": {},
   "outputs": [],
   "source": [
    "# Index frequent columns to improve query performance for example you are frequently searching by 'symbol' or 'name' in the db\n",
    "conn=sqlite3.connect(db_path)\n",
    "cursor=conn.cursor()"
   ]
  },
  {
   "cell_type": "code",
   "execution_count": null,
   "id": "dea3717a",
   "metadata": {},
   "outputs": [],
   "source": []
  },
  {
   "cell_type": "code",
   "execution_count": 65,
   "id": "de6e350b",
   "metadata": {},
   "outputs": [
    {
     "name": "stdout",
     "output_type": "stream",
     "text": [
      "Indexes created\n"
     ]
    }
   ],
   "source": [
    "# Create an index on name\n",
    "cursor.execute(\"\"\"\n",
    "CREATE INDEX IF NOT EXISTS idx_coins_name ON coins(name);\n",
    "\"\"\")\n",
    "conn.commit()  # Because we didnt use a context manager.\n",
    "conn.close()\n",
    "print(\"Indexes created\")"
   ]
  },
  {
   "cell_type": "code",
   "execution_count": null,
   "id": "ca1c002f",
   "metadata": {},
   "outputs": [
    {
     "ename": "TypeError",
     "evalue": "read_sql() missing 1 required positional argument: 'con'",
     "output_type": "error",
     "traceback": [
      "\u001b[1;31m---------------------------------------------------------------------------\u001b[0m",
      "\u001b[1;31mTypeError\u001b[0m                                 Traceback (most recent call last)",
      "Cell \u001b[1;32mIn[66], line 2\u001b[0m\n\u001b[0;32m      1\u001b[0m \u001b[38;5;28;01mwith\u001b[39;00m sqlite3\u001b[38;5;241m.\u001b[39mconnect(db_path) \u001b[38;5;28;01mas\u001b[39;00m conn:\n\u001b[1;32m----> 2\u001b[0m     df\u001b[38;5;241m=\u001b[39m\u001b[43mpd\u001b[49m\u001b[38;5;241;43m.\u001b[39;49m\u001b[43mread_sql\u001b[49m\u001b[43m(\u001b[49m\u001b[38;5;124;43m\"\"\"\u001b[39;49m\n\u001b[0;32m      3\u001b[0m \u001b[38;5;124;43m    SELECT * FROM coins\u001b[39;49m\n\u001b[0;32m      4\u001b[0m \u001b[38;5;124;43m    WHERE symbol=\u001b[39;49m\u001b[38;5;124;43m'\u001b[39;49m\u001b[38;5;124;43mBTC\u001b[39;49m\u001b[38;5;124;43m'\u001b[39;49m\n\u001b[0;32m      5\u001b[0m \u001b[38;5;124;43m    \u001b[39;49m\u001b[38;5;124;43m\"\"\"\u001b[39;49m\u001b[43m)\u001b[49m\n\u001b[0;32m      6\u001b[0m     \u001b[38;5;28mprint\u001b[39m(df)\n",
      "\u001b[1;31mTypeError\u001b[0m: read_sql() missing 1 required positional argument: 'con'"
     ]
    }
   ],
   "source": [
    "with sqlite3.connect(db_path) as conn:\n",
    "    df=pd.read_sql(\"\"\"\n",
    "    SELECT * FROM coins\n",
    "    WHERE symbol='BTC'\n",
    "    \"\"\", conn)\n",
    "    print(df)"
   ]
  }
 ],
 "metadata": {
  "kernelspec": {
   "display_name": "Python 3",
   "language": "python",
   "name": "python3"
  },
  "language_info": {
   "codemirror_mode": {
    "name": "ipython",
    "version": 3
   },
   "file_extension": ".py",
   "mimetype": "text/x-python",
   "name": "python",
   "nbconvert_exporter": "python",
   "pygments_lexer": "ipython3",
   "version": "3.10.10"
  }
 },
 "nbformat": 4,
 "nbformat_minor": 5
}
