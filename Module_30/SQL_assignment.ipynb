{
 "cells": [
  {
   "cell_type": "markdown",
   "id": "21275922",
   "metadata": {},
   "source": [
    "#### Exercise\n",
    "Create a DB and solve a business question\n",
    "\n",
    "Create a note book that does the following\n",
    "\n",
    "1 Insert atleast ***3 different coins** into the \"coins\" table\n",
    "\n",
    "2 Insert ***5 daily price records** for each coin into the \"prices\" table.\n",
    "\n",
    "3 Create a business question i.e what is the average price for each coin, what is the highest price for each coin? etc.\n",
    "\n",
    "4 Write an SQL query to solve the business question"
   ]
  },
  {
   "cell_type": "markdown",
   "id": "9ea469e4",
   "metadata": {},
   "source": [
    "#### Step 1: Creating a DB file"
   ]
  },
  {
   "cell_type": "code",
   "execution_count": 62,
   "id": "92317f25",
   "metadata": {},
   "outputs": [],
   "source": [
    "conn=sqlite3.connect(\"Sql.db\")"
   ]
  },
  {
   "cell_type": "markdown",
   "id": "b787908d",
   "metadata": {},
   "source": [
    "#### Step 2: Creating Tables"
   ]
  },
  {
   "cell_type": "code",
   "execution_count": 12,
   "id": "55dbccf8",
   "metadata": {},
   "outputs": [],
   "source": [
    "import sqlite3\n",
    "import pandas as pd"
   ]
  },
  {
   "cell_type": "code",
   "execution_count": 13,
   "id": "4fdbdf1b",
   "metadata": {},
   "outputs": [
    {
     "name": "stdout",
     "output_type": "stream",
     "text": [
      "Table 'coins'created successfully.\n"
     ]
    }
   ],
   "source": [
    "with sqlite3.connect(\"sql.db\") as conn:\n",
    "    cursor=conn.cursor()\n",
    "    cursor.execute(\"\"\"\n",
    "    CREATE TABLE IF NOT EXISTS coins(\n",
    "    coin_id INTEGER PRIMARY KEY AUTOINCREMENT,\n",
    "    name TEXT NOT NULL,\n",
    "    symbol TEXT NOT NULL\n",
    "    )\n",
    " \"\"\")\n",
    "conn.commit\n",
    "print(\"Table 'coins'created successfully.\")\n"
   ]
  },
  {
   "cell_type": "code",
   "execution_count": null,
   "id": "370a10d3",
   "metadata": {},
   "outputs": [],
   "source": [
    "# Inserting coins into the coins table\n",
    "coins=[\n",
    "    ('Bitcoin', 'BTC'),\n",
    "    ('Ethereum', 'ETH'),\n",
    "    ('Solana', 'SOL')\n",
    "]\n",
    "cursor.executemany(\"\"\"\n",
    "INSERT INTO coins(name, symbol) VALUES(?,?)\n",
    "\"\"\", coins)\n",
    "conn.commit()\n"
   ]
  },
  {
   "cell_type": "code",
   "execution_count": 26,
   "id": "09b59a98",
   "metadata": {},
   "outputs": [
    {
     "name": "stdout",
     "output_type": "stream",
     "text": [
      "Inserted coins: [(1, 'Bitcoin', 'BTC', None, '2025-08-19 15:17:22'), (2, 'Ethereum', 'ETH', None, '2025-08-19 15:17:22'), (3, 'Solana', 'SOL', None, '2025-08-19 15:17:22'), (4, 'Bitcoin', 'BTC', None, '2025-08-19 15:21:30'), (5, 'Ethereum', 'ETH', None, '2025-08-19 15:21:30'), (6, 'Solana', 'SOL', None, '2025-08-19 15:21:30'), (7, 'Bitcoin', 'BTC', None, '2025-08-19 16:17:39'), (8, 'Ethereum', 'ETH', None, '2025-08-19 16:17:39'), (9, 'Solana', 'SOL', None, '2025-08-19 16:17:39'), (10, 'Bitcoin', 'BTC', None, '2025-08-19 16:18:24'), (11, 'Ethereum', 'ETH', None, '2025-08-19 16:18:24'), (12, 'Solana', 'SOL', None, '2025-08-19 16:18:24')]\n"
     ]
    }
   ],
   "source": [
    "# To get results for inserted coins\n",
    "cursor.execute(\"SELECT * FROM coins\")\n",
    "inserted_coins=cursor.fetchall()\n",
    "print(\"Inserted coins:\", inserted_coins)"
   ]
  },
  {
   "cell_type": "code",
   "execution_count": 27,
   "id": "1f2ffcb2",
   "metadata": {},
   "outputs": [
    {
     "name": "stdout",
     "output_type": "stream",
     "text": [
      "DataFrame from SQL\n",
      "   coin_id      name symbol price         last_updated\n",
      "0        1   Bitcoin    BTC  None  2025-08-19 15:17:22\n",
      "1        2  Ethereum    ETH  None  2025-08-19 15:17:22\n",
      "2        3    Solana    SOL  None  2025-08-19 15:17:22\n",
      "3        4   Bitcoin    BTC  None  2025-08-19 15:21:30\n",
      "4        5  Ethereum    ETH  None  2025-08-19 15:21:30\n"
     ]
    }
   ],
   "source": [
    "# To make our results more appealing we convert it into a table using pandas\n",
    "import pandas as pd\n",
    "\n",
    "db_path=(\"sql.db\")\n",
    "with sqlite3.connect(db_path) as conn:\n",
    "    df=pd.read_sql(\"SELECT * FROM coins\", conn)\n",
    "    print(\"DataFrame from SQL\")\n",
    "    print(df.head())"
   ]
  },
  {
   "cell_type": "code",
   "execution_count": 61,
   "id": "48258cfe",
   "metadata": {},
   "outputs": [],
   "source": [
    "# Creating the prices table\n",
    "cursor.execute(\"\"\"\n",
    "CREATE TABLE IF NOT EXISTS prices(\n",
    "price_id INTEGER PRIMARY KEY AUTOINCREMENT,\n",
    "coin_id INTEGER NOT NULL,\n",
    "price REAL NOT NULL,\n",
    "date TIMESTAMPDEFAULT CURRENT_TIMESTAMP,\n",
    "FOREIGN KEY(coin_id) REFERENCES coins(coin_id)\n",
    ")\n",
    "\"\"\")\n",
    "\n",
    "# Getting the auto generated IDs for Bitcoin, Ethereum and Solana\n",
    "\n",
    "cursor.execute(\"INSERT INTO coins(name, symbol) VALUES (?, ?)\", (\"Bitcoin\", \"BTC\"))\n",
    "btc_id = cursor.lastrowid\n",
    "cursor.execute(\"INSERT INTO coins(name, symbol) VALUES (?, ?)\", (\"Ethereum\", \"ETH\"))\n",
    "eth_id = cursor.lastrowid\n",
    "cursor.execute(\"INSERT INTO coins(name, symbol) VALUES (?, ?)\", (\"Solana\", \"SOL\"))\n",
    "sol_id = cursor.lastrowid\n",
    "\n",
    "# Inserting daily price records into the coins we inserted\n",
    "\n",
    "cursor.executemany(\"\"\"\n",
    "INSERT INTO prices(coin_id, price) VALUES(?,?)\n",
    "\"\"\",\n",
    "[\n",
    "    (btc_id,60000),\n",
    "    (btc_id,64000),\n",
    "    (btc_id,70000),\n",
    "    (btc_id,72000),\n",
    "    (btc_id,80000),\n",
    "    (eth_id, 3500),\n",
    "    (eth_id, 3700),\n",
    "    (eth_id, 3800),\n",
    "    (eth_id, 4000),\n",
    "    (eth_id, 4200),\n",
    "    (sol_id,  150),\n",
    "    (sol_id,  200),\n",
    "    (sol_id,  210),\n",
    "    (sol_id,  300),\n",
    "    (sol_id,  500)\n",
    "]\n",
    ")\n",
    "conn.commit()"
   ]
  },
  {
   "cell_type": "code",
   "execution_count": 60,
   "id": "5c06b882",
   "metadata": {},
   "outputs": [
    {
     "name": "stdout",
     "output_type": "stream",
     "text": [
      "        name symbol    price  date\n",
      "0    Bitcoin    BTC  60000.0  None\n",
      "1    Bitcoin    BTC  64000.0  None\n",
      "2    Bitcoin    BTC  70000.0  None\n",
      "3    Bitcoin    BTC  72000.0  None\n",
      "4    Bitcoin    BTC  80000.0  None\n",
      "5   Ethereum    ETH   3500.0  None\n",
      "6   Ethereum    ETH   3700.0  None\n",
      "7   Ethereum    ETH   3800.0  None\n",
      "8   Ethereum    ETH   4000.0  None\n",
      "9   Ethereum    ETH   4200.0  None\n",
      "10    Solana    SOL    150.0  None\n",
      "11    Solana    SOL    200.0  None\n",
      "12    Solana    SOL    210.0  None\n",
      "13    Solana    SOL    300.0  None\n",
      "14    Solana    SOL    500.0  None\n"
     ]
    }
   ],
   "source": [
    "# To display our results we perform an inner join\n",
    "db_path=(\"sql.db\")\n",
    "\n",
    "with sqlite3.connect(db_path) as conn:\n",
    "    query= \"\"\"\n",
    "    SELECT c.name, c.symbol, p.price, p.date\n",
    "    FROM coins c\n",
    "    JOIN prices p ON c.coin_id = p.coin_id\n",
    "    ORDER BY p.date DESC\n",
    "    \"\"\"\n",
    "    df=pd.read_sql(query,conn)\n",
    "\n",
    "print(df)\n"
   ]
  }
 ],
 "metadata": {
  "kernelspec": {
   "display_name": "Python 3",
   "language": "python",
   "name": "python3"
  },
  "language_info": {
   "codemirror_mode": {
    "name": "ipython",
    "version": 3
   },
   "file_extension": ".py",
   "mimetype": "text/x-python",
   "name": "python",
   "nbconvert_exporter": "python",
   "pygments_lexer": "ipython3",
   "version": "3.10.10"
  }
 },
 "nbformat": 4,
 "nbformat_minor": 5
}
