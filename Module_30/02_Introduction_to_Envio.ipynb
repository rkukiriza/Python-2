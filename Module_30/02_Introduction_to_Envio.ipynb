{
 "cells": [
  {
   "cell_type": "markdown",
   "id": "651d5ba0",
   "metadata": {},
   "source": [
    "### What we need for this class; vs code, git hub, docker\n",
    "What is an envio_indexer?\n",
    "Necessary links"
   ]
  },
  {
   "cell_type": "code",
   "execution_count": null,
   "id": "d1a6153e",
   "metadata": {},
   "outputs": [],
   "source": [
    "# Windows Docker\n",
    "!pip install Docker\n",
    "!pip freeze > requirements.txt"
   ]
  },
  {
   "cell_type": "markdown",
   "id": "8c3cd1d5",
   "metadata": {},
   "source": [
    "#### What is Envio Indexer\n",
    "\n",
    "\n",
    "\n",
    "#### Envio indexer"
   ]
  },
  {
   "cell_type": "markdown",
   "id": "eb50e069",
   "metadata": {},
   "source": [
    "## Core Concepts\n",
    "#### What is an indexer?\n",
    "#### How Envio works"
   ]
  },
  {
   "cell_type": "code",
   "execution_count": 2,
   "id": "057f2e4b",
   "metadata": {},
   "outputs": [
    {
     "name": "stdout",
     "output_type": "stream",
     "text": [
      "Collecting docker\n",
      "  Downloading docker-7.1.0-py3-none-any.whl.metadata (3.8 kB)\n",
      "Requirement already satisfied: pywin32>=304 in c:\\users\\ruth\\appdata\\local\\programs\\python\\python310\\lib\\site-packages (from docker) (310)\n",
      "Requirement already satisfied: requests>=2.26.0 in c:\\users\\ruth\\appdata\\local\\programs\\python\\python310\\lib\\site-packages (from docker) (2.32.4)\n",
      "Requirement already satisfied: urllib3>=1.26.0 in c:\\users\\ruth\\appdata\\local\\programs\\python\\python310\\lib\\site-packages (from docker) (2.5.0)\n",
      "Requirement already satisfied: charset_normalizer<4,>=2 in c:\\users\\ruth\\appdata\\local\\programs\\python\\python310\\lib\\site-packages (from requests>=2.26.0->docker) (3.4.2)\n",
      "Requirement already satisfied: idna<4,>=2.5 in c:\\users\\ruth\\appdata\\local\\programs\\python\\python310\\lib\\site-packages (from requests>=2.26.0->docker) (3.10)\n",
      "Requirement already satisfied: certifi>=2017.4.17 in c:\\users\\ruth\\appdata\\local\\programs\\python\\python310\\lib\\site-packages (from requests>=2.26.0->docker) (2025.7.9)\n",
      "Downloading docker-7.1.0-py3-none-any.whl (147 kB)\n",
      "Installing collected packages: docker\n",
      "Successfully installed docker-7.1.0\n"
     ]
    }
   ],
   "source": [
    "!pip install docker"
   ]
  },
  {
   "cell_type": "code",
   "execution_count": 3,
   "id": "2f264938",
   "metadata": {},
   "outputs": [],
   "source": [
    "!pip freeze > requirements.txt"
   ]
  }
 ],
 "metadata": {
  "kernelspec": {
   "display_name": "Python 3",
   "language": "python",
   "name": "python3"
  },
  "language_info": {
   "codemirror_mode": {
    "name": "ipython",
    "version": 3
   },
   "file_extension": ".py",
   "mimetype": "text/x-python",
   "name": "python",
   "nbconvert_exporter": "python",
   "pygments_lexer": "ipython3",
   "version": "3.10.10"
  }
 },
 "nbformat": 4,
 "nbformat_minor": 5
}
