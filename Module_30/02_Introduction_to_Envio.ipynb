{
 "cells": [
  {
   "cell_type": "markdown",
   "id": "651d5ba0",
   "metadata": {},
   "source": [
    "#### What we need for this class; vs code, git hub, docker"
   ]
  },
  {
   "cell_type": "markdown",
   "id": "5b44c9b5",
   "metadata": {},
   "source": [
    "#### Blockchain Indexing\n",
    "Blockchain indexing is the process for ectrac ting, organizing and storing blockchain data in a structured way so that it c an be queried quikly. Its needed because blockchains store data sequentially and are not optimized for complex searches.\n",
    "\n",
    "Without an indexer, finding specific transactions or events requires scanning the entire chain, which is slow and inefficient. An indexer lets you query data instantly for analytics, apps and dashboards.\n",
    "\n",
    "#### Envio Indexer\n",
    "The envio indexer indexes blockchain data in real time, supports multiple chains, and is easy and is easy for developers to set up\n",
    "\n",
    "Key benefits\n",
    "Real time data indexing-captures and duplicates blockchain events instantily.\n",
    "\n",
    "Muklti chain suppor- wals across different blockchains without major changes.\n",
    "\n",
    "Developer friendly set up-simple CL, clear schema definitions built in grahQL API for first queries.\n",
    "\n",
    "## Core Concepts\n",
    "#### What is an indexer?\n",
    "An indexer is a tool that listens to blockchain events, processes them and stores the data in a structured database for fast and flexible querying.\n",
    "Difference,\n",
    "Querying a block chain node: retrieve raw data from the chain,slow 4 complex searches bacuse you must scan block_by_block\n",
    "\n",
    "Using indexed data-retrieves preprocessed or ganized data from a data base, much faster and optimised for specific queries.\n",
    "\n",
    "#### How Envio works under the hood.\n",
    "\n",
    "Data sources: Enio listens to block chain events, transations and logs, capturing them as they happen. It processes this database using mappings(custom code to shape the data). Linked data is stored  in a database according to your GraphQL schema.\n",
    "\n",
    "GraphQL API: Envio automatically generates a graphQL end point so you can query the data indexed quickly and flexibly.\n",
    "\n",
    "Examples of use cases include\n",
    "\n",
    "Dashboards and Analytics\n",
    "\n",
    "NFT market places\n",
    "\n",
    "DeFi trading tools"
   ]
  },
  {
   "cell_type": "code",
   "execution_count": null,
   "id": "9b7b56d4",
   "metadata": {
    "vscode": {
     "languageId": "plaintext"
    }
   },
   "outputs": [],
   "source": []
  }
 ],
 "metadata": {
  "kernelspec": {
   "display_name": "Python 3",
   "language": "python",
   "name": "python3"
  },
  "language_info": {
   "codemirror_mode": {
    "name": "ipython",
    "version": 3
   },
   "file_extension": ".py",
   "mimetype": "text/x-python",
   "name": "python",
   "nbconvert_exporter": "python",
   "pygments_lexer": "ipython3",
   "version": "3.10.10"
  }
 },
 "nbformat": 4,
 "nbformat_minor": 5
}
