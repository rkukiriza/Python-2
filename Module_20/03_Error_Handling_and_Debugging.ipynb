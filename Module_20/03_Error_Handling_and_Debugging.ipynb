{
 "cells": [
  {
   "cell_type": "markdown",
   "id": "4d09870e",
   "metadata": {},
   "source": [
    "## Error Handling and Debugging\n",
    "### Error Handling\n",
    "A Python mechanism to manage and respond to errors(exxceptions) that occur during prgram execution, preventing washing.\n",
    "Purpose: ensures programs handle unexpected issues(e.g invalid input,File Not Found) gracefully, improving reliability, and user experience."
   ]
  },
  {
   "cell_type": "markdown",
   "id": "55da66ca",
   "metadata": {},
   "source": [
    "## Exception:(Try/Except)\n",
    "Try:\n",
    "\n",
    "run the Code--> put your code here\n",
    "\n",
    "except: if it crushes, ignore error silent or do something\n",
    "\n",
    "else\n",
    "\n",
    "finally: clean up no matter what happens"
   ]
  },
  {
   "cell_type": "markdown",
   "id": "fb2d3b6d",
   "metadata": {},
   "source": [
    "## Error handling using(Try/Except)"
   ]
  },
  {
   "cell_type": "code",
   "execution_count": 5,
   "id": "4c1ebd2a",
   "metadata": {},
   "outputs": [
    {
     "name": "stdout",
     "output_type": "stream",
     "text": [
      "This will always execute regardless of error.\n"
     ]
    }
   ],
   "source": [
    "try:\n",
    "    with open('non_existing_file.txt', 'r') as file:\n",
    "     content=file.read()\n",
    "except:\n",
    "    pass\n",
    "finally:\n",
    "    print('This will always execute regardless of error.')\n",
    "    "
   ]
  },
  {
   "cell_type": "markdown",
   "id": "c264e0ed",
   "metadata": {},
   "source": [
    "## Common Errors\n",
    "\n",
    "Value Error: When you give the right type of data but it doesnt make sense like asking for a negative age.\n",
    "\n",
    "Type Error: Making incompatible things like adding text to a number\n",
    "\n",
    "File Not Found Error: Trying to open a file that doesnt exist\n",
    "\n",
    "Key Error: Looking for a non existent dictionary key."
   ]
  },
  {
   "cell_type": "markdown",
   "id": "6f999e36",
   "metadata": {},
   "source": [
    "## Value Error handling"
   ]
  },
  {
   "cell_type": "code",
   "execution_count": 6,
   "id": "d1459f99",
   "metadata": {},
   "outputs": [
    {
     "name": "stdout",
     "output_type": "stream",
     "text": [
      "Caughta Value Error: cannot add string and integer\n"
     ]
    }
   ],
   "source": [
    "number ='ten'\n",
    "\n",
    "try:\n",
    "    value=int(number)\n",
    "except ValueError:\n",
    "    print(\"Caughta Value Error: cannot add string and integer\")"
   ]
  },
  {
   "cell_type": "markdown",
   "id": "8147c15e",
   "metadata": {},
   "source": [
    "## Type Error"
   ]
  },
  {
   "cell_type": "code",
   "execution_count": 7,
   "id": "1494d1a2",
   "metadata": {},
   "outputs": [
    {
     "name": "stdout",
     "output_type": "stream",
     "text": [
      "Caught a Tpe Error:cannot add string to integer.\n"
     ]
    }
   ],
   "source": [
    "try:\n",
    "    result='5'+ 5\n",
    "except TypeError:\n",
    "    print(\"Caught a Tpe Error:cannot add string to integer.\")"
   ]
  },
  {
   "cell_type": "markdown",
   "id": "9af82d79",
   "metadata": {},
   "source": [
    "## File Not Found Error handling"
   ]
  },
  {
   "cell_type": "code",
   "execution_count": 8,
   "id": "dd572804",
   "metadata": {},
   "outputs": [
    {
     "name": "stdout",
     "output_type": "stream",
     "text": [
      "Caught a File Not Found Error: the file doesnt exit.\n"
     ]
    }
   ],
   "source": [
    "try:\n",
    "    with open('yet_another_non_existent_file.txt', 'r') as file:\n",
    "        content=file.read()\n",
    "except FileNotFoundError:\n",
    "    print(\"Caught a File Not Found Error: the file doesnt exit.\")"
   ]
  },
  {
   "cell_type": "markdown",
   "id": "ac947b68",
   "metadata": {},
   "source": [
    "## Key Error handling"
   ]
  },
  {
   "cell_type": "code",
   "execution_count": 10,
   "id": "d12d204e",
   "metadata": {},
   "outputs": [
    {
     "name": "stdout",
     "output_type": "stream",
     "text": [
      "Caught a Key Error: the key doesnt exist in the dictionary.\n"
     ]
    }
   ],
   "source": [
    "my_dict={'a':1,'b':2}\n",
    "\n",
    "try:\n",
    "    value=my_dict['c']\n",
    "except KeyError:\n",
    "    print(\"Caught a Key Error: the key doesnt exist in the dictionary.\")"
   ]
  },
  {
   "cell_type": "markdown",
   "id": "e9f2a284",
   "metadata": {},
   "source": [
    "## Index Error handling"
   ]
  },
  {
   "cell_type": "code",
   "execution_count": 11,
   "id": "6706d599",
   "metadata": {},
   "outputs": [
    {
     "name": "stdout",
     "output_type": "stream",
     "text": [
      "Caught an Index Error:the index is out of reach.\n"
     ]
    }
   ],
   "source": [
    "my_list=[1,2,3]\n",
    "\n",
    "try:\n",
    "    value= my_list[5]\n",
    "except IndexError:\n",
    "    print(\"Caught an Index Error:the index is out of reach.\")"
   ]
  },
  {
   "cell_type": "markdown",
   "id": "28366764",
   "metadata": {},
   "source": [
    "# Debugging Techniques"
   ]
  },
  {
   "cell_type": "markdown",
   "id": "340b92da",
   "metadata": {},
   "source": [
    "## Debugging with print()"
   ]
  },
  {
   "cell_type": "code",
   "execution_count": 13,
   "id": "199abec9",
   "metadata": {},
   "outputs": [
    {
     "name": "stdout",
     "output_type": "stream",
     "text": [
      "Caught a Zero Division Error: division by zero not allowed\n",
      "End of division operation\n"
     ]
    }
   ],
   "source": [
    "number=10\n",
    "divider=0\n",
    "try:\n",
    "  solve= number/divider\n",
    "except ZeroDivisionError:\n",
    "  solve=None\n",
    "  print(\"Caught a Zero Division Error: division by zero not allowed\")\n",
    "else:\n",
    "  print(\"Division succeeded; result is:\", solve)\n",
    "finally:\n",
    "  print(\"End of division operation\")"
   ]
  },
  {
   "cell_type": "markdown",
   "id": "c49fc78b",
   "metadata": {},
   "source": [
    "# Debugging with IDE tools"
   ]
  },
  {
   "cell_type": "markdown",
   "id": "bb13566b",
   "metadata": {},
   "source": [
    "## Debugging with logging"
   ]
  },
  {
   "cell_type": "code",
   "execution_count": 14,
   "id": "72602c22",
   "metadata": {},
   "outputs": [
    {
     "name": "stderr",
     "output_type": "stream",
     "text": [
      "DEBUG:root:This is a debug message\n"
     ]
    }
   ],
   "source": [
    "import logging\n",
    "\n",
    "logging.basicConfig(level=logging.DEBUG)\n",
    "logging.debug('This is a debug message')"
   ]
  }
 ],
 "metadata": {
  "kernelspec": {
   "display_name": "Python 3",
   "language": "python",
   "name": "python3"
  },
  "language_info": {
   "codemirror_mode": {
    "name": "ipython",
    "version": 3
   },
   "file_extension": ".py",
   "mimetype": "text/x-python",
   "name": "python",
   "nbconvert_exporter": "python",
   "pygments_lexer": "ipython3",
   "version": "3.10.10"
  }
 },
 "nbformat": 4,
 "nbformat_minor": 5
}
