{
 "cells": [
  {
   "cell_type": "markdown",
   "id": "a282bd7f",
   "metadata": {},
   "source": [
    "# Data Manipulation with Pandas and Numphy.\n",
    "\n",
    "used for data manipulation-->Data manipulation is the process of changing, organizing or transferring data to make it useful, readab le or suitable for analysis. It involves tasks like cleaning, filtering, sorting, grouping or calculating new values from existing data.\n",
    "\n",
    "Tools like Pandas and Numpy, popular python libraries are often used to streamline these tasks. Pandas excels at handling structured data, like tables of crypto trades, for filtering or grouping, while numphy supports fast numerical computations such as calculating average pricess or returns\n",
    "\n",
    "For instance, a crypto investor might manipulate data by filtering trades to show only Bitcoin transactions over $5000 sorting them by time stamp to track price movements and aggregating daily totals to assess volume. This helps uncover trends optiize strategies and ensure data accuracy, utimately supporting better decisions in the fast paced crypto market.\n",
    "\n",
    "# Pandas\n",
    "Pandas is a popular pytyhon library used for working with data. It helps you load, clean, analyse and manipulate data easily. Think of it like an Excel spread sheet in python. It is great for handling tables of data\n",
    "\n",
    "# Key concepts\n",
    "\n",
    "Series\n",
    "\n",
    "A single column of data(like a list with labels)\n",
    "\n",
    "Indexes: labels for rows, helping you identify and access data. You can load data from files(csv, Excel etc), manipulate it and save it back.\n",
    "\n",
    "# Installing /Importing Pandas\n",
    "There are a number of installation options for example:\n",
    "\n",
    "1 pip install pandas-->goes to Python environment not base environment to manage dependencies.\n",
    "\n",
    "2 Going outside and creating a file called, requirements.txt. This file is going to help us sieve and store my dependencies such that anyone else that would want to use my code follows through well without being disturbed.\n",
    " \n",
    "After opening the requirements.txt file; inside it write pandas then go ahead and proceed to the terminal and in put:pip intall-r requirements.txt to activate and have pandas installed.\n",
    "\n",
    "pip freeze>requirements.txt input in the terminal enables one to add more dependencies in the requirements.txt file in case one forgot to include them earlier or the ones already in the file dont meet the versions an individual prefers to use. It also displays all dependencies with in the requirements.txt file.\n"
   ]
  },
  {
   "cell_type": "code",
   "execution_count": 1,
   "id": "83984404",
   "metadata": {},
   "outputs": [],
   "source": [
    "# working with pandas.\n",
    "\n",
    "import pandas as pd"
   ]
  },
  {
   "cell_type": "markdown",
   "id": "f4379b2e",
   "metadata": {},
   "source": [
    "# Creating a DataFrame\n",
    "A data frame is like a table with rows and columns. Lets create one with sample crypto data i.e (coin name, price,trade volume)."
   ]
  },
  {
   "cell_type": "code",
   "execution_count": 7,
   "id": "7d7fc95a",
   "metadata": {},
   "outputs": [
    {
     "name": "stdout",
     "output_type": "stream",
     "text": [
      "       coin     price  volume\n",
      "0   Bitcoin  45000.00   15000\n",
      "1  Ethereum   3000.00     nan\n",
      "2    Ripple      0.85  200000\n",
      "3  Litecoin    120.00   50000\n"
     ]
    }
   ],
   "source": [
    "# Creating a dictionary with crypto data(dict of list)\n",
    "data={\n",
    "    'coin':['Bitcoin','Ethereum','Ripple','Litecoin'],\n",
    "    'price':[45000,3000,0.85,120],\n",
    "    'volume':[15000,'nan',200000,50000]\n",
    "}\n",
    "df=pd.DataFrame(data) # pd is a module, DataFrame is a class/function(from a module we can alwas get a function or class),\n",
    "print(df)              # depending on how a module is structured--> DataFrame is a class in pd."
   ]
  },
  {
   "cell_type": "markdown",
   "id": "efa77b9e",
   "metadata": {},
   "source": [
    "#### Exploring data"
   ]
  },
  {
   "cell_type": "code",
   "execution_count": 8,
   "id": "bc1c792d",
   "metadata": {},
   "outputs": [
    {
     "data": {
      "text/html": [
       "<div>\n",
       "<style scoped>\n",
       "    .dataframe tbody tr th:only-of-type {\n",
       "        vertical-align: middle;\n",
       "    }\n",
       "\n",
       "    .dataframe tbody tr th {\n",
       "        vertical-align: top;\n",
       "    }\n",
       "\n",
       "    .dataframe thead th {\n",
       "        text-align: right;\n",
       "    }\n",
       "</style>\n",
       "<table border=\"1\" class=\"dataframe\">\n",
       "  <thead>\n",
       "    <tr style=\"text-align: right;\">\n",
       "      <th></th>\n",
       "      <th>coin</th>\n",
       "      <th>price</th>\n",
       "      <th>volume</th>\n",
       "    </tr>\n",
       "  </thead>\n",
       "  <tbody>\n",
       "    <tr>\n",
       "      <th>0</th>\n",
       "      <td>Bitcoin</td>\n",
       "      <td>45000.00</td>\n",
       "      <td>15000</td>\n",
       "    </tr>\n",
       "    <tr>\n",
       "      <th>1</th>\n",
       "      <td>Ethereum</td>\n",
       "      <td>3000.00</td>\n",
       "      <td>nan</td>\n",
       "    </tr>\n",
       "    <tr>\n",
       "      <th>2</th>\n",
       "      <td>Ripple</td>\n",
       "      <td>0.85</td>\n",
       "      <td>200000</td>\n",
       "    </tr>\n",
       "    <tr>\n",
       "      <th>3</th>\n",
       "      <td>Litecoin</td>\n",
       "      <td>120.00</td>\n",
       "      <td>50000</td>\n",
       "    </tr>\n",
       "  </tbody>\n",
       "</table>\n",
       "</div>"
      ],
      "text/plain": [
       "       coin     price  volume\n",
       "0   Bitcoin  45000.00   15000\n",
       "1  Ethereum   3000.00     nan\n",
       "2    Ripple      0.85  200000\n",
       "3  Litecoin    120.00   50000"
      ]
     },
     "execution_count": 8,
     "metadata": {},
     "output_type": "execute_result"
    }
   ],
   "source": [
    "df"
   ]
  },
  {
   "cell_type": "code",
   "execution_count": 9,
   "id": "5a9ef2f1",
   "metadata": {},
   "outputs": [
    {
     "name": "stdout",
     "output_type": "stream",
     "text": [
      "       coin    price volume\n",
      "0   Bitcoin  45000.0  15000\n",
      "1  Ethereum   3000.0    nan\n"
     ]
    }
   ],
   "source": [
    "print(df.head(2))   # prints out the first two rows"
   ]
  },
  {
   "cell_type": "code",
   "execution_count": 10,
   "id": "8f63cb84",
   "metadata": {},
   "outputs": [
    {
     "name": "stdout",
     "output_type": "stream",
     "text": [
      "       coin   price  volume\n",
      "2    Ripple    0.85  200000\n",
      "3  Litecoin  120.00   50000\n"
     ]
    }
   ],
   "source": [
    "print(df.tail(2))   # prints the last two rows"
   ]
  },
  {
   "cell_type": "code",
   "execution_count": 11,
   "id": "761b4033",
   "metadata": {},
   "outputs": [
    {
     "data": {
      "text/html": [
       "<div>\n",
       "<style scoped>\n",
       "    .dataframe tbody tr th:only-of-type {\n",
       "        vertical-align: middle;\n",
       "    }\n",
       "\n",
       "    .dataframe tbody tr th {\n",
       "        vertical-align: top;\n",
       "    }\n",
       "\n",
       "    .dataframe thead th {\n",
       "        text-align: right;\n",
       "    }\n",
       "</style>\n",
       "<table border=\"1\" class=\"dataframe\">\n",
       "  <thead>\n",
       "    <tr style=\"text-align: right;\">\n",
       "      <th></th>\n",
       "      <th>coin</th>\n",
       "      <th>price</th>\n",
       "      <th>volume</th>\n",
       "    </tr>\n",
       "  </thead>\n",
       "  <tbody>\n",
       "    <tr>\n",
       "      <th>0</th>\n",
       "      <td>Bitcoin</td>\n",
       "      <td>45000.0</td>\n",
       "      <td>15000</td>\n",
       "    </tr>\n",
       "    <tr>\n",
       "      <th>1</th>\n",
       "      <td>Ethereum</td>\n",
       "      <td>3000.0</td>\n",
       "      <td>nan</td>\n",
       "    </tr>\n",
       "  </tbody>\n",
       "</table>\n",
       "</div>"
      ],
      "text/plain": [
       "       coin    price volume\n",
       "0   Bitcoin  45000.0  15000\n",
       "1  Ethereum   3000.0    nan"
      ]
     },
     "execution_count": 11,
     "metadata": {},
     "output_type": "execute_result"
    }
   ],
   "source": [
    "df.head(2) # .head fetches a specific number of rows at the top of the table."
   ]
  },
  {
   "cell_type": "markdown",
   "id": "96c234ab",
   "metadata": {},
   "source": [
    "#### Getting information(investigation)"
   ]
  },
  {
   "cell_type": "code",
   "execution_count": null,
   "id": "efbe0967",
   "metadata": {},
   "outputs": [
    {
     "name": "stdout",
     "output_type": "stream",
     "text": [
      "<class 'pandas.core.frame.DataFrame'>\n",
      "RangeIndex: 4 entries, 0 to 3\n",
      "Data columns (total 3 columns):\n",
      " #   Column  Non-Null Count  Dtype  \n",
      "---  ------  --------------  -----  \n",
      " 0   coin    4 non-null      object \n",
      " 1   price   4 non-null      float64\n",
      " 2   volume  4 non-null      object \n",
      "dtypes: float64(1), object(2)\n",
      "memory usage: 224.0+ bytes\n",
      "None\n"
     ]
    }
   ],
   "source": [
    "# volume for Ethereum is missing\n",
    "print(df.info())    # gives information if you have empty rows or not. Object--> also identified as string."
   ]
  },
  {
   "cell_type": "markdown",
   "id": "a5ce84a2",
   "metadata": {},
   "source": [
    "## Basic Data Manipulation"
   ]
  },
  {
   "cell_type": "code",
   "execution_count": null,
   "id": "f9bb08d2",
   "metadata": {},
   "outputs": [
    {
     "name": "stdout",
     "output_type": "stream",
     "text": [
      "       coin     price\n",
      "0   Bitcoin  45000.00\n",
      "1  Ethereum   3000.00\n",
      "2    Ripple      0.85\n",
      "3  Litecoin    120.00\n"
     ]
    }
   ],
   "source": [
    "# select specific columns\n",
    "print(df[['coin', 'price']])    # when you select more than one column, it becomes a list, need to use sq brackets\n",
    "\n"
   ]
  },
  {
   "cell_type": "markdown",
   "id": "3d0c2da6",
   "metadata": {},
   "source": [
    "### Filter Rows"
   ]
  },
  {
   "cell_type": "code",
   "execution_count": null,
   "id": "25984858",
   "metadata": {},
   "outputs": [
    {
     "name": "stdout",
     "output_type": "stream",
     "text": [
      "       coin    price volume\n",
      "0   Bitcoin  45000.0  15000\n",
      "1  Ethereum   3000.0    nan\n",
      "3  Litecoin    120.0  50000\n"
     ]
    }
   ],
   "source": [
    "# want to get the price thats greater than 100\n",
    "print(df[df['price']>100])  # filtered out all prices that are greater than 100"
   ]
  },
  {
   "cell_type": "markdown",
   "id": "9c109702",
   "metadata": {},
   "source": [
    "### Sorting Data\n",
    "Sort by column like price in ascending order/descending order"
   ]
  },
  {
   "cell_type": "code",
   "execution_count": null,
   "id": "ebe5df97",
   "metadata": {},
   "outputs": [
    {
     "name": "stdout",
     "output_type": "stream",
     "text": [
      "       coin     price  volume\n",
      "2    Ripple      0.85  200000\n",
      "3  Litecoin    120.00   50000\n",
      "1  Ethereum   3000.00     nan\n",
      "0   Bitcoin  45000.00   15000\n"
     ]
    }
   ],
   "source": [
    "# Asceding order\n",
    "print(df.sort_values('price'))  # sorts prices in ascending order from the lowest to the highest."
   ]
  },
  {
   "cell_type": "code",
   "execution_count": null,
   "id": "2cd57df2",
   "metadata": {},
   "outputs": [
    {
     "name": "stdout",
     "output_type": "stream",
     "text": [
      "       coin     price  volume\n",
      "0   Bitcoin  45000.00   15000\n",
      "1  Ethereum   3000.00     nan\n",
      "3  Litecoin    120.00   50000\n",
      "2    Ripple      0.85  200000\n"
     ]
    }
   ],
   "source": [
    "# Descending order\n",
    "print(df.sort_values('price', ascending=False)) # sorts values in descending order form the highest to the lowest."
   ]
  },
  {
   "cell_type": "markdown",
   "id": "e291c9e3",
   "metadata": {},
   "source": [
    "### Add new column\n",
    "Creating a new column--> price after 2% change"
   ]
  },
  {
   "cell_type": "code",
   "execution_count": null,
   "id": "65b7547b",
   "metadata": {},
   "outputs": [
    {
     "name": "stdout",
     "output_type": "stream",
     "text": [
      "       coin     price  volume  price_after_2pct\n",
      "0   Bitcoin  45000.00   15000         45900.000\n",
      "1  Ethereum   3000.00     nan          3060.000\n",
      "2    Ripple      0.85  200000             0.867\n",
      "3  Litecoin    120.00   50000           122.400\n"
     ]
    }
   ],
   "source": [
    "df['price_after_2pct']=df['price']*1.02\n",
    "print(df)   # gives us data in 4 columns."
   ]
  },
  {
   "cell_type": "code",
   "execution_count": null,
   "id": "a153af80",
   "metadata": {},
   "outputs": [
    {
     "data": {
      "text/html": [
       "<div>\n",
       "<style scoped>\n",
       "    .dataframe tbody tr th:only-of-type {\n",
       "        vertical-align: middle;\n",
       "    }\n",
       "\n",
       "    .dataframe tbody tr th {\n",
       "        vertical-align: top;\n",
       "    }\n",
       "\n",
       "    .dataframe thead th {\n",
       "        text-align: right;\n",
       "    }\n",
       "</style>\n",
       "<table border=\"1\" class=\"dataframe\">\n",
       "  <thead>\n",
       "    <tr style=\"text-align: right;\">\n",
       "      <th></th>\n",
       "      <th>price</th>\n",
       "      <th>price_after_2pct</th>\n",
       "    </tr>\n",
       "  </thead>\n",
       "  <tbody>\n",
       "    <tr>\n",
       "      <th>count</th>\n",
       "      <td>4.000000</td>\n",
       "      <td>4.000000</td>\n",
       "    </tr>\n",
       "    <tr>\n",
       "      <th>mean</th>\n",
       "      <td>12030.212500</td>\n",
       "      <td>12270.816750</td>\n",
       "    </tr>\n",
       "    <tr>\n",
       "      <th>std</th>\n",
       "      <td>22023.550649</td>\n",
       "      <td>22464.021662</td>\n",
       "    </tr>\n",
       "    <tr>\n",
       "      <th>min</th>\n",
       "      <td>0.850000</td>\n",
       "      <td>0.867000</td>\n",
       "    </tr>\n",
       "    <tr>\n",
       "      <th>25%</th>\n",
       "      <td>90.212500</td>\n",
       "      <td>92.016750</td>\n",
       "    </tr>\n",
       "    <tr>\n",
       "      <th>50%</th>\n",
       "      <td>1560.000000</td>\n",
       "      <td>1591.200000</td>\n",
       "    </tr>\n",
       "    <tr>\n",
       "      <th>75%</th>\n",
       "      <td>13500.000000</td>\n",
       "      <td>13770.000000</td>\n",
       "    </tr>\n",
       "    <tr>\n",
       "      <th>max</th>\n",
       "      <td>45000.000000</td>\n",
       "      <td>45900.000000</td>\n",
       "    </tr>\n",
       "  </tbody>\n",
       "</table>\n",
       "</div>"
      ],
      "text/plain": [
       "              price  price_after_2pct\n",
       "count      4.000000          4.000000\n",
       "mean   12030.212500      12270.816750\n",
       "std    22023.550649      22464.021662\n",
       "min        0.850000          0.867000\n",
       "25%       90.212500         92.016750\n",
       "50%     1560.000000       1591.200000\n",
       "75%    13500.000000      13770.000000\n",
       "max    45000.000000      45900.000000"
      ]
     },
     "execution_count": 19,
     "metadata": {},
     "output_type": "execute_result"
    }
   ],
   "source": [
    "df.describe()   # gives us statistical metrics of the the DataFrame(what) but this only works with numeric data"
   ]
  },
  {
   "cell_type": "markdown",
   "id": "084c6a33",
   "metadata": {},
   "source": [
    "# Save and load data with Pandas."
   ]
  },
  {
   "cell_type": "code",
   "execution_count": null,
   "id": "e1a6ed42",
   "metadata": {},
   "outputs": [],
   "source": [
    "# \n",
    "df.to_csv('', index=False)"
   ]
  },
  {
   "cell_type": "code",
   "execution_count": null,
   "id": "f4eaf834",
   "metadata": {},
   "outputs": [],
   "source": [
    "# \n",
    "df.to_csv('crypto_data.csv', index=False)"
   ]
  },
  {
   "cell_type": "markdown",
   "id": "8569d841",
   "metadata": {},
   "source": [
    "# Numpy\n",
    "\n",
    "Numpy is a powerful Python library for numerical computations, especially useful for working with arrays(lists)of numbers and performing mathematical operations. Its a foundation for data manipulation, often used alongiside Pandas, and is great for tasks like calculations and handling crypto related data. Below are the basic steps for installing Numpy, creating arrays and performing common operations with simple code.\n",
    "\n",
    "#### Installing and Importing Numpy"
   ]
  },
  {
   "cell_type": "code",
   "execution_count": 20,
   "id": "235c7744",
   "metadata": {},
   "outputs": [],
   "source": [
    "# \n",
    "import numpy as np"
   ]
  },
  {
   "cell_type": "markdown",
   "id": "f378eec1",
   "metadata": {},
   "source": [
    "### Creating a Numpy Array\n",
    "A numpy array is like a list b ut optimized for Maths and faster operations. Lats create arrays with simple crypto data i.e (coins, prices, volume)"
   ]
  },
  {
   "cell_type": "code",
   "execution_count": 21,
   "id": "30c9dae5",
   "metadata": {},
   "outputs": [
    {
     "name": "stdout",
     "output_type": "stream",
     "text": [
      "[45000 50000 40000 20000]\n"
     ]
    }
   ],
   "source": [
    "#\n",
    "prices=np.array([45000, 50000, 40000, 20000])\n",
    "print(prices)"
   ]
  },
  {
   "cell_type": "code",
   "execution_count": null,
   "id": "c91d7748",
   "metadata": {},
   "outputs": [
    {
     "name": "stdout",
     "output_type": "stream",
     "text": [
      "(4,)\n"
     ]
    }
   ],
   "source": [
    "#\n",
    "print(prices.shape) # fetches the number of elements in the array prices."
   ]
  },
  {
   "cell_type": "markdown",
   "id": "6b7ca754",
   "metadata": {},
   "source": [
    "## Data Types"
   ]
  },
  {
   "cell_type": "code",
   "execution_count": null,
   "id": "556c76ad",
   "metadata": {},
   "outputs": [
    {
     "name": "stdout",
     "output_type": "stream",
     "text": [
      "int64\n"
     ]
    }
   ],
   "source": [
    "print(prices.dtype) # Fetches the data type in the array prices"
   ]
  },
  {
   "cell_type": "markdown",
   "id": "7d437626",
   "metadata": {},
   "source": [
    "### Basic Data Manipulation"
   ]
  },
  {
   "cell_type": "code",
   "execution_count": 40,
   "id": "1bb28ce6",
   "metadata": {},
   "outputs": [
    {
     "name": "stdout",
     "output_type": "stream",
     "text": [
      "[46000 51000 41000 21000]\n"
     ]
    }
   ],
   "source": [
    "# Adding 1000 to all prices\n",
    "prices=np.array([45000, 50000, 40000, 20000])\n",
    "prices_plus_100=prices+1000\n",
    "print(prices_plus_100)"
   ]
  },
  {
   "cell_type": "code",
   "execution_count": 41,
   "id": "41aabbd3",
   "metadata": {},
   "outputs": [
    {
     "name": "stdout",
     "output_type": "stream",
     "text": [
      "[45001.02 50001.02 40001.02 20001.02]\n"
     ]
    }
   ],
   "source": [
    "# Compute for 2% increase in price\n",
    "price_s=np.array([46000, 51000, 41000, 21000])\n",
    "price_increase=prices+1.02\n",
    "print(price_increase)"
   ]
  },
  {
   "cell_type": "code",
   "execution_count": 43,
   "id": "1cdead49",
   "metadata": {},
   "outputs": [
    {
     "name": "stdout",
     "output_type": "stream",
     "text": [
      "[46000 51000 41000 21000]\n"
     ]
    }
   ],
   "source": [
    "# Filter data\n",
    "\n",
    "higher_price=price_s[price_s> 20000]\n",
    "print(higher_price)"
   ]
  },
  {
   "cell_type": "markdown",
   "id": "307dede8",
   "metadata": {},
   "source": [
    "## Basic Statistical Functions"
   ]
  },
  {
   "cell_type": "code",
   "execution_count": null,
   "id": "21a12c38",
   "metadata": {},
   "outputs": [
    {
     "name": "stdout",
     "output_type": "stream",
     "text": [
      "\n",
      "Statistics for volume:\n",
      "mean(Average): 275000.0\n",
      "minimum: 100000\n",
      "maximum: 500000\n",
      "sum: 1100000\n",
      "standard Dev(volatility): 147901.9945774904\n"
     ]
    }
   ],
   "source": [
    "volume=np.array([500000, 300000, 200000, 100000])\n",
    "print(\"\\nStatistics for volume:\")\n",
    "print('mean(Average):', np.mean(volume))            # Average volume\n",
    "print(\"minimum:\",np.min(volume))                    # Minimum volume\n",
    "print(\"maximum:\",np.max(volume))                    # Maximum volume\n",
    "print(\"sum:\", np.sum(volume))                       # Total sum of volumes\n",
    "print(\"standard Dev(volatility):\", np.std(volume))  # Standard Deviating Volatility"
   ]
  },
  {
   "cell_type": "markdown",
   "id": "b8e1d907",
   "metadata": {},
   "source": [
    "## Working with 2D Arrays\n",
    "Numpy can handle multi demensional arrays. Lets combine our data into a 2D array."
   ]
  },
  {
   "cell_type": "code",
   "execution_count": 46,
   "id": "8659a931",
   "metadata": {},
   "outputs": [
    {
     "name": "stdout",
     "output_type": "stream",
     "text": [
      "[[45000  5000]\n",
      " [30000 28000]\n",
      " [11988  8943]]\n"
     ]
    }
   ],
   "source": [
    "# 2D Array\n",
    "crypto_data=np.array([\n",
    "    [45000,5000],\n",
    "    [30000,28000],\n",
    "    [11988,8943]\n",
    "])\n",
    "\n",
    "print(crypto_data)"
   ]
  },
  {
   "cell_type": "code",
   "execution_count": null,
   "id": "7cfbb657",
   "metadata": {},
   "outputs": [
    {
     "data": {
      "text/plain": [
       "array([11988,  8943])"
      ]
     },
     "execution_count": 47,
     "metadata": {},
     "output_type": "execute_result"
    }
   ],
   "source": [
    "# Access row\n",
    "crypto_data[2]  # we use indexes to check for the data that we want from our data."
   ]
  },
  {
   "cell_type": "code",
   "execution_count": null,
   "id": "98462c7b",
   "metadata": {},
   "outputs": [
    {
     "data": {
      "text/plain": [
       "array([ 5000, 28000,  8943])"
      ]
     },
     "execution_count": 48,
     "metadata": {},
     "output_type": "execute_result"
    }
   ],
   "source": [
    "# Access column\n",
    "crypto_data[:,1]    # helps us access a column of our data."
   ]
  },
  {
   "cell_type": "code",
   "execution_count": null,
   "id": "859538a1",
   "metadata": {},
   "outputs": [],
   "source": []
  }
 ],
 "metadata": {
  "kernelspec": {
   "display_name": "Python 3",
   "language": "python",
   "name": "python3"
  },
  "language_info": {
   "codemirror_mode": {
    "name": "ipython",
    "version": 3
   },
   "file_extension": ".py",
   "mimetype": "text/x-python",
   "name": "python",
   "nbconvert_exporter": "python",
   "pygments_lexer": "ipython3",
   "version": "3.10.10"
  }
 },
 "nbformat": 4,
 "nbformat_minor": 5
}
