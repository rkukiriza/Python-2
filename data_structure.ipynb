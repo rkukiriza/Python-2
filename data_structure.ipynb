{
 "cells": [
  {
   "cell_type": "markdown",
   "id": "835ab4cf",
   "metadata": {},
   "source": [
    "# Syntax(Python)\n",
    "\n",
    "Refers to a set of rules that define how Python code  should be written. Think of it as grammar in a language; if you dont follow it, Python wont understand it.\n",
    "\n",
    "# Basic syntax\n",
    "\n",
    "## Comment syntax( usually ignored by Python)\n",
    "Anyone can use comments for them and others to understand for example,\n",
    "Adding a and b to get c( this is a comment), comments are like sticky notes in your code.\n",
    "## Indentation( space and tabs)\n",
    " We use them to group code like paragraphs in a book.\n",
    "## Code blocks:\n",
    " This refers to a section of code that belong together for example inside loops and functions, or a group of lines that Python runs together.\n",
    "## Reserve words: \n",
    " These are used as variable names\n",
    "## Key words: \n",
    " These are special words Python reserves for example if, for, while etc\n",
    "## Comments(#):\n",
    " These are like sticky notes for example"
   ]
  },
  {
   "cell_type": "code",
   "execution_count": 5,
   "id": "f2090c81",
   "metadata": {},
   "outputs": [
    {
     "name": "stdout",
     "output_type": "stream",
     "text": [
      "5\n"
     ]
    }
   ],
   "source": [
    "# this is a comment, doesnt execute\n",
    "## is also a comment, doesnt execute for example;\n",
    "a=2 \n",
    "b=3\n",
    "# Adding a to b to get c\n",
    "c= a+b\n",
    "print(c)\n"
   ]
  },
  {
   "cell_type": "code",
   "execution_count": 7,
   "id": "b49e340f",
   "metadata": {},
   "outputs": [
    {
     "name": "stdout",
     "output_type": "stream",
     "text": [
      "This is a buy\n"
     ]
    }
   ],
   "source": [
    "#indentation\n",
    "btc=100000\n",
    "if btc>95000:\n",
    "    print(\"This is a buy\")"
   ]
  },
  {
   "cell_type": "code",
   "execution_count": 9,
   "id": "80494579",
   "metadata": {},
   "outputs": [],
   "source": [
    "#indentation\n",
    "number=5\n",
    "if number>8:\n",
    "    print(\"The number is positive\") #indented with 4 spaces"
   ]
  },
  {
   "cell_type": "code",
   "execution_count": null,
   "id": "37f3fbe8",
   "metadata": {},
   "outputs": [
    {
     "name": "stdout",
     "output_type": "stream",
     "text": [
      "1\n",
      "2\n",
      "3\n",
      "1\n",
      "2\n",
      "3\n",
      "4\n"
     ]
    }
   ],
   "source": [
    "#Code block\n",
    "for i in range(1,4):\n",
    "    print(i)          #this is a code block; all these lines f code are executed together\n",
    "for i in range(1,5):\n",
    "    print(i)\n"
   ]
  },
  {
   "cell_type": "code",
   "execution_count": null,
   "id": "016c3e27",
   "metadata": {},
   "outputs": [],
   "source": [
    "#Reserve words\n",
    "#keywords\n",
    "#special words Python reserves like if, fr, in, elif etc; we dont use these as variable names for example"
   ]
  },
  {
   "cell_type": "markdown",
   "id": "4ebf2d49",
   "metadata": {},
   "source": [
    "Print is used to fetch content\n",
    "## F string: \n",
    "Short for formatted string literals is a way to embed expressions inside curly brackets.\n",
    "\n",
    "## String literals in Python\n",
    "Makes string frmatting mre readable and precise. An f string is written by prefixing the string with letter f or F and then including variables r expressions inside curly brackets.\n",
    "\n",
    "Anything inside a string is a static  value.\n",
    "f makes it easy to embed values outside the string in to the string. It also makes the code dynamic that is to say, when code doesnt have the f string, it becomes an ordinary value."
   ]
  },
  {
   "cell_type": "code",
   "execution_count": 23,
   "id": "d2484f5a",
   "metadata": {},
   "outputs": [
    {
     "name": "stdout",
     "output_type": "stream",
     "text": [
      "I am interested in investing $1000 in crypto_assets!\n"
     ]
    }
   ],
   "source": [
    "#for example\n",
    "crypto_assets=\"SOL\"\n",
    "print(f\"I am interested in investing $1000 in crypto_assets!\")"
   ]
  },
  {
   "cell_type": "markdown",
   "id": "efec99c0",
   "metadata": {},
   "source": [
    "Fetched whatever was outside and put it inside and made it dynamic. Anything inside a string becomes a static value."
   ]
  },
  {
   "cell_type": "markdown",
   "id": "f7e2664f",
   "metadata": {},
   "source": [
    "## Input:\n",
    "Used to create dynamic responses, adds something i.e(users given chance to put want they want to write) for example:"
   ]
  },
  {
   "cell_type": "code",
   "execution_count": 31,
   "id": "975bbfb4",
   "metadata": {},
   "outputs": [
    {
     "name": "stdout",
     "output_type": "stream",
     "text": [
      "My favourite crypto asset is Eth\n"
     ]
    }
   ],
   "source": [
    "crypto=input(\"What is your favourite crypto asset\")\n",
    "print(\"My favourite crypto asset is\", \"Eth\")"
   ]
  },
  {
   "cell_type": "code",
   "execution_count": 29,
   "id": "c7571650",
   "metadata": {},
   "outputs": [
    {
     "name": "stdout",
     "output_type": "stream",
     "text": [
      "My favourite crypto asset is Bitcoin\n"
     ]
    }
   ],
   "source": [
    "crypto=input(\"enter your favourite crypto asset\")\n",
    "print(\"My favourite crypto asset is\", \"Bitcoin\")"
   ]
  },
  {
   "cell_type": "markdown",
   "id": "987af3c3",
   "metadata": {},
   "source": [
    "Takes in user feedback i.e by asking, \"What is your favourite crypto asset?\" Enter \"Eth\" run code.\n"
   ]
  },
  {
   "cell_type": "code",
   "execution_count": 52,
   "id": "d06d9150",
   "metadata": {},
   "outputs": [
    {
     "name": "stdout",
     "output_type": "stream",
     "text": [
      "Ruth Kukiriza\n",
      "Hello, Ruth Kukiriza\n"
     ]
    }
   ],
   "source": [
    "# input\n",
    "name=input(\"Ruth Kukiriza\") # to get input from the user\n",
    "print(\"Ruth Kukiriza\")\n",
    "print(\"Hello, Ruth Kukiriza\") # this prints a greeting with your name entered."
   ]
  },
  {
   "cell_type": "code",
   "execution_count": 49,
   "id": "95ed8cef",
   "metadata": {},
   "outputs": [
    {
     "name": "stdout",
     "output_type": "stream",
     "text": [
      "18\n",
      "I am 18 years old!\n"
     ]
    }
   ],
   "source": [
    "# More dynamic/easy to read/more precise\n",
    "age=18\n",
    "print (age) \n",
    "print(f\"I am {18} years old!\")"
   ]
  },
  {
   "cell_type": "markdown",
   "id": "706a4d45",
   "metadata": {},
   "source": [
    "When you want to call a function in Python, you use the paranthesis brackets for example\n",
    "print(age) where age is 18, just writes 18. Input is a function where it takes on a parameter.\n",
    "\n",
    "## Variable:\n",
    "This is a container that stores data. Crypto is a variable-it stres Bitcoin asset variable\n",
    "Age is a variable-stres integer variable\n",
    "Name=\"John\" is a string- we use quotes for strings: this is a string variable\n",
    "Height- stores a float variable\n",
    "_is valid- stres time variable(valid variable name)starts with an underscore sign\n",
    "Variable names are case sensitive for example:"
   ]
  },
  {
   "cell_type": "code",
   "execution_count": null,
   "id": "9c0ead10",
   "metadata": {},
   "outputs": [],
   "source": [
    "name=\"Joseph\"\n",
    "Name=\"Joseph\" #These two are different\n",
    "Name=\"Paul\""
   ]
  },
  {
   "cell_type": "markdown",
   "id": "5021d0d2",
   "metadata": {},
   "source": [
    "Avoid Python key words as these cannot be used as variables\n",
    "## Assigned\n",
    "The equal sign is an assignage for example\n",
    "Name=\"Alice\"\n",
    "\n",
    "name=\"alice\" name and Name are different variables\n",
    "\n",
    "X=10 means the value 10 is assigned to variable X\n",
    "\n",
    "Y=5 means the value 5 is assigned to nariable Y\n"
   ]
  },
  {
   "cell_type": "markdown",
   "id": "e2a26f51",
   "metadata": {},
   "source": [
    "# Data Types\n",
    "Python data types specifies the c at5egory of data a variable can store; determing its behaviour and allowed operations. Common data types include:\n",
    "## Text type\n",
    "Also known as the string type i.e \n",
    "place=\"Lagos\" A string variable is stored in place\n",
    "country=\"Nigeria\" is another atring variable\n",
    "## Numeric data types\n",
    "This takes two types; integer and float types i.e\n",
    "Integer(int)/ round numbers\n",
    "Float-like height values\n",
    "number=\"10\" This is an integer variable\n",
    "height=\"5.8\" This is a float variable that stores height\n",
    "## Boolean data types\n",
    "_is valid= True A boolean variable(True)\n",
    "\n",
    "Invalid= False A bolean variable(False)\n",
    "# Sequence data types:\n",
    "Crypto assets=(\"sol\",\"btc\", \"eth\")\n",
    "## List\n",
    "A list is an ordered collection of items. It is created by putting square brackets for example\n",
    "Crypto assets= [\"sol\", \"btc\", \"eth\"]\n",
    "## Tuple\n",
    "Is an ordered collection of items but invariable i.e tuple=(1,2,3)\n",
    "## Dictionary\n",
    "Is a collection of key value pairs i.e dict={\"key 1\" \"value 1\", \"key 2\" \"value 2\"}\n",
    "## Set\n",
    "Is an unordered collection of unique items i.e items={1,2,3}\n",
    "# Name data types:\n",
    "name_value_Name represents the absence of a value"
   ]
  },
  {
   "cell_type": "code",
   "execution_count": 62,
   "id": "d72ddae9",
   "metadata": {},
   "outputs": [
    {
     "name": "stdout",
     "output_type": "stream",
     "text": [
      "<class 'str'>\n"
     ]
    }
   ],
   "source": [
    "# checking data type\n",
    "name=\"Alice\"\n",
    "print(type(name)) # <class string>"
   ]
  },
  {
   "cell_type": "code",
   "execution_count": 65,
   "id": "31194a3c",
   "metadata": {},
   "outputs": [
    {
     "name": "stdout",
     "output_type": "stream",
     "text": [
      "25\n"
     ]
    }
   ],
   "source": [
    "#Converting data type\n",
    "age=\"25\"\n",
    "age=int(age)\n",
    "print(age)"
   ]
  },
  {
   "cell_type": "code",
   "execution_count": null,
   "id": "f9d06937",
   "metadata": {},
   "outputs": [],
   "source": [
    "print(type{age}) # <class int>"
   ]
  },
  {
   "cell_type": "markdown",
   "id": "3964a4fe",
   "metadata": {},
   "source": [
    "# String\n",
    "A string is an ordered sequence of characters enclosed in single/ double/triple. usually ordered and immutable\n",
    "For example, "
   ]
  },
  {
   "cell_type": "code",
   "execution_count": 71,
   "id": "e2719466",
   "metadata": {},
   "outputs": [
    {
     "name": "stdout",
     "output_type": "stream",
     "text": [
      "blockchain\n"
     ]
    }
   ],
   "source": [
    "Name=\"blockchain\"\n",
    "print(Name)"
   ]
  },
  {
   "cell_type": "markdown",
   "id": "b482c490",
   "metadata": {},
   "source": [
    "# Common methods and functions in strings"
   ]
  },
  {
   "cell_type": "code",
   "execution_count": null,
   "id": "70839aa1",
   "metadata": {},
   "outputs": [
    {
     "data": {
      "text/plain": [
       "10"
      ]
     },
     "execution_count": 74,
     "metadata": {},
     "output_type": "execute_result"
    }
   ],
   "source": [
    "# len() Fetches length of a string for example\n",
    "len(Name) #  name is a variable,len() takes in a parameter in the paranthesis brackets and therefore is a function to return an integer 10\n",
    "# which is the number of characters in the string \"blockchain\""
   ]
  },
  {
   "cell_type": "code",
   "execution_count": null,
   "id": "c49c6acc",
   "metadata": {},
   "outputs": [
    {
     "data": {
      "text/plain": [
       "'blockchain'"
      ]
     },
     "execution_count": 83,
     "metadata": {},
     "output_type": "execute_result"
    }
   ],
   "source": [
    "# .lower() fetches lower case output\n",
    "name=\"BlockchaiN\"\n",
    "name.lower() # converts variable to lower case, is a method: doesnt take in any parameters.\n",
    " "
   ]
  },
  {
   "cell_type": "code",
   "execution_count": null,
   "id": "2a7469d6",
   "metadata": {},
   "outputs": [
    {
     "data": {
      "text/plain": [
       "'BLOCKCHAIN'"
      ]
     },
     "execution_count": 84,
     "metadata": {},
     "output_type": "execute_result"
    }
   ],
   "source": [
    "# .upper() converts variable to upper case\n",
    "name.upper()"
   ]
  },
  {
   "cell_type": "code",
   "execution_count": null,
   "id": "63bc9c95",
   "metadata": {},
   "outputs": [
    {
     "data": {
      "text/plain": [
       "'Block chain'"
      ]
     },
     "execution_count": 85,
     "metadata": {},
     "output_type": "execute_result"
    }
   ],
   "source": [
    "#.strip() removes space\n",
    "name=\"Block chain\"\n",
    "name.strip() # is a method"
   ]
  },
  {
   "cell_type": "code",
   "execution_count": null,
   "id": "3f87a40d",
   "metadata": {},
   "outputs": [
    {
     "data": {
      "text/plain": [
       "'crypto'"
      ]
     },
     "execution_count": 86,
     "metadata": {},
     "output_type": "execute_result"
    }
   ],
   "source": [
    "#.replace(old,new) replaces a substring\n",
    "x=\"Blockchain\"\n",
    "x.replace(\"Blockchain\", \"crypto\") # is a method doesnt take in a parameter"
   ]
  },
  {
   "cell_type": "code",
   "execution_count": null,
   "id": "d78d723d",
   "metadata": {},
   "outputs": [
    {
     "data": {
      "text/plain": [
       "['Blockchain', 'Crypto', 'Asset', 'Price']"
      ]
     },
     "execution_count": 92,
     "metadata": {},
     "output_type": "execute_result"
    }
   ],
   "source": [
    "#.split() splits into lists\n",
    "y=(\"Blockchain,Crypto,Asset,Price\")\n",
    "y.split(\",\") # items in y have been split into stand alone strings. It is a method"
   ]
  },
  {
   "cell_type": "code",
   "execution_count": 93,
   "id": "8d0c3597",
   "metadata": {},
   "outputs": [
    {
     "data": {
      "text/plain": [
       "True"
      ]
     },
     "execution_count": 93,
     "metadata": {},
     "output_type": "execute_result"
    }
   ],
   "source": [
    "#.in checks for substrings, in is a key word\n",
    "y=\"Crypto Asset\"\n",
    "\"Asset\" in y"
   ]
  },
  {
   "cell_type": "markdown",
   "id": "88755960",
   "metadata": {},
   "source": [
    "# List\n",
    "This is an ordered, muta ble, indexeable collection of elements. To create a list, we use square brackets for example"
   ]
  },
  {
   "cell_type": "code",
   "execution_count": 175,
   "id": "3808276e",
   "metadata": {},
   "outputs": [
    {
     "name": "stdout",
     "output_type": "stream",
     "text": [
      "<class 'list'>\n"
     ]
    }
   ],
   "source": [
    "tokens=[\"ETH\",\"BTC\",\"SOL\",\"ADA\"]\n",
    "print(type(tokens))"
   ]
  },
  {
   "cell_type": "markdown",
   "id": "d5612b09",
   "metadata": {},
   "source": [
    "# Common methods in a list"
   ]
  },
  {
   "cell_type": "code",
   "execution_count": 176,
   "id": "ba40bf13",
   "metadata": {},
   "outputs": [
    {
     "data": {
      "text/plain": [
       "4"
      ]
     },
     "execution_count": 176,
     "metadata": {},
     "output_type": "execute_result"
    }
   ],
   "source": [
    "#len() fetches the length of the list\n",
    "len(tokens) #returns \"4\" which is the  number of elements in the list"
   ]
  },
  {
   "cell_type": "code",
   "execution_count": 177,
   "id": "739de0c5",
   "metadata": {},
   "outputs": [
    {
     "name": "stdout",
     "output_type": "stream",
     "text": [
      "['ETH', 'BTC', 'SOL', 'ADA', 'TIA']\n"
     ]
    }
   ],
   "source": [
    "#.append(x) Adds to the end of the list, our variable=tokens\n",
    "tokens=[\"ETH\",\"BTC\",\"SOL\",\"ADA\"]\n",
    "tokens.append(\"TIA\")\n",
    "print(tokens)"
   ]
  },
  {
   "cell_type": "code",
   "execution_count": 178,
   "id": "518b865d",
   "metadata": {},
   "outputs": [
    {
     "name": "stdout",
     "output_type": "stream",
     "text": [
      "['ETH', 'BTC', 'DOT', 'SOL', 'ADA', 'TIA']\n"
     ]
    }
   ],
   "source": [
    "# .insert(i,x)   Adds to an index\n",
    "tokens.insert(2,\"DOT\")\n",
    "print(tokens)\n"
   ]
  },
  {
   "cell_type": "code",
   "execution_count": null,
   "id": "ebe7c95c",
   "metadata": {},
   "outputs": [
    {
     "name": "stdout",
     "output_type": "stream",
     "text": [
      "['ETH', 'BTC', 'SOL', 'DOT', 'SOL', 'ADA', 'TIA']\n",
      "['ETH', 'BTC', 'DOT', 'SOL', 'ADA', 'TIA']\n"
     ]
    }
   ],
   "source": [
    "#.remove(x)  removes the first match for example\n",
    "tokens.insert(2,\"SOL\")\n",
    "print(tokens)\n",
    "\n",
    "tokens.remove(\"SOL\") # removes first description\n",
    "print(tokens)"
   ]
  },
  {
   "cell_type": "code",
   "execution_count": null,
   "id": "a11a8242",
   "metadata": {},
   "outputs": [
    {
     "data": {
      "text/plain": [
       "'ADA'"
      ]
     },
     "execution_count": 188,
     "metadata": {},
     "output_type": "execute_result"
    }
   ],
   "source": [
    "#.pop(1) removes and returns indexes at the specified index in the tokens list\n",
    "tokens=['ETH', 'BTC', 'DOT', 'SOL', 'ADA', 'TIA']\n",
    "tokens.pop(4)"
   ]
  },
  {
   "cell_type": "code",
   "execution_count": 183,
   "id": "109aa9ad",
   "metadata": {},
   "outputs": [
    {
     "name": "stdout",
     "output_type": "stream",
     "text": [
      "updated list: ['ETH', 'BTC', 'DOT']\n"
     ]
    }
   ],
   "source": [
    "#.pop() removes last list in the list\n",
    "tokens.pop()\n",
    "print(\"updated list:\", tokens)"
   ]
  },
  {
   "cell_type": "code",
   "execution_count": null,
   "id": "e0b7cbf2",
   "metadata": {},
   "outputs": [
    {
     "name": "stdout",
     "output_type": "stream",
     "text": [
      "['BTC', 'DOT', 'ETH', 'SOL', 'TIA']\n"
     ]
    }
   ],
   "source": [
    "#.sort() sorts a list\n",
    "tokens.sort()\n",
    "print(tokens) # srts elements in alphabetical order"
   ]
  },
  {
   "cell_type": "code",
   "execution_count": null,
   "id": "dda28c3b",
   "metadata": {},
   "outputs": [
    {
     "name": "stdout",
     "output_type": "stream",
     "text": [
      "['TIA', 'SOL', 'ETH', 'DOT', 'BTC']\n"
     ]
    }
   ],
   "source": [
    "#.reverse() reverses the list\n",
    "tokens.reverse()\n",
    "print(tokens) # returns results in descending order"
   ]
  },
  {
   "cell_type": "markdown",
   "id": "e65292b6",
   "metadata": {},
   "source": [
    "# Indexing and Slicing"
   ]
  },
  {
   "cell_type": "code",
   "execution_count": null,
   "id": "fd26cfc1",
   "metadata": {},
   "outputs": [
    {
     "data": {
      "text/plain": [
       "'SOL'"
      ]
     },
     "execution_count": 195,
     "metadata": {},
     "output_type": "execute_result"
    }
   ],
   "source": [
    "# so if we want to get only \"SOL\", we will do\n",
    "z=[\"ETH\", \"BTC\", \"SOL\", \"ADA\", \"TIA\"]\n",
    "z[2] # to fetch only \"SOL\" from the index"
   ]
  },
  {
   "cell_type": "code",
   "execution_count": 197,
   "id": "f345f931",
   "metadata": {},
   "outputs": [
    {
     "data": {
      "text/plain": [
       "['SOL', 'ADA']"
      ]
     },
     "execution_count": 197,
     "metadata": {},
     "output_type": "execute_result"
    }
   ],
   "source": [
    "# To slice out  \"SOL\" and \"ADA\"\n",
    "z[2:4]"
   ]
  },
  {
   "cell_type": "code",
   "execution_count": 203,
   "id": "5f38bc85",
   "metadata": {},
   "outputs": [
    {
     "data": {
      "text/plain": [
       "['ETH', 'BTC', 'SOL', 'ADA']"
      ]
     },
     "execution_count": 203,
     "metadata": {},
     "output_type": "execute_result"
    }
   ],
   "source": [
    "# To fetch elements before index 3\n",
    "z=[\"ETH\", \"BTC\", \"SOL\", \"ADA\", \"TIA\"]\n",
    "z[0:4]"
   ]
  },
  {
   "cell_type": "code",
   "execution_count": 214,
   "id": "4c8b66bc",
   "metadata": {},
   "outputs": [
    {
     "data": {
      "text/plain": [
       "('BTC', 'TIA')"
      ]
     },
     "execution_count": 214,
     "metadata": {},
     "output_type": "execute_result"
    }
   ],
   "source": [
    "# we want \"BTC\" and \"TIA\" only\n",
    "z=[\"ETH\", \"BTC\", \"SOL\", \"ADA\", \"TIA\"]\n",
    "z[1],z[4]\n",
    "\n"
   ]
  },
  {
   "cell_type": "code",
   "execution_count": 215,
   "id": "f41223b5",
   "metadata": {},
   "outputs": [
    {
     "data": {
      "text/plain": [
       "['BTC']"
      ]
     },
     "execution_count": 215,
     "metadata": {},
     "output_type": "execute_result"
    }
   ],
   "source": [
    "# To slice only \"BTC\"\n",
    "z[1::4]"
   ]
  },
  {
   "cell_type": "code",
   "execution_count": 220,
   "id": "524295a9",
   "metadata": {},
   "outputs": [
    {
     "data": {
      "text/plain": [
       "['ETH', 'BTC', 'SOL', 'ADA', 'TIA']"
      ]
     },
     "execution_count": 220,
     "metadata": {},
     "output_type": "execute_result"
    }
   ],
   "source": [
    "# To slice everything from index 1 to 4\n",
    "z=[\"ETH\", \"BTC\", \"SOL\", \"ADA\", \"TIA\"]\n",
    "z[0:5]"
   ]
  },
  {
   "cell_type": "code",
   "execution_count": 222,
   "id": "fbab18a4",
   "metadata": {},
   "outputs": [
    {
     "data": {
      "text/plain": [
       "['ETH', 'BTC', 'SOL', 'ADA', 'TIA']"
      ]
     },
     "execution_count": 222,
     "metadata": {},
     "output_type": "execute_result"
    }
   ],
   "source": [
    "# To slice everything from index 1 to 4\n",
    "z[0:]"
   ]
  },
  {
   "cell_type": "markdown",
   "id": "092dd2c7",
   "metadata": {},
   "source": [
    "# Dictionary\n",
    "Is an unordered, mutable collection of key value pairs. Works with curly brackets for example;\n",
    "\n",
    "wallet={\"address\": \"OXA182\",-value\n",
    "        \"balance\": 4.5,\n",
    "        \"is_active\": True\n",
    "        } # keys must be unique"
   ]
  },
  {
   "cell_type": "code",
   "execution_count": 223,
   "id": "a1df582f",
   "metadata": {},
   "outputs": [],
   "source": [
    "wallet={\"address\": \"OXA182\",\n",
    "        \"balance\": 4.5,\n",
    "        \"is_active\": True\n",
    "        } # keys must be unique"
   ]
  },
  {
   "cell_type": "markdown",
   "id": "20ae48c3",
   "metadata": {},
   "source": [
    "## Common methods in dictionary"
   ]
  },
  {
   "cell_type": "code",
   "execution_count": null,
   "id": "182d8b07",
   "metadata": {},
   "outputs": [
    {
     "data": {
      "text/plain": [
       "4.5"
      ]
     },
     "execution_count": 227,
     "metadata": {},
     "output_type": "execute_result"
    }
   ],
   "source": [
    "# dict[key] This gets the value  by key; to get value, we use key.\n",
    "wallet[\"balance\"]"
   ]
  },
  {
   "cell_type": "code",
   "execution_count": 228,
   "id": "64e93416",
   "metadata": {},
   "outputs": [
    {
     "data": {
      "text/plain": [
       "4.5"
      ]
     },
     "execution_count": 228,
     "metadata": {},
     "output_type": "execute_result"
    }
   ],
   "source": [
    "#.get(key) safe access\n",
    "wallet.get(\"balance\") #access to balance"
   ]
  },
  {
   "cell_type": "code",
   "execution_count": 230,
   "id": "ff7100e0",
   "metadata": {},
   "outputs": [
    {
     "data": {
      "text/plain": [
       "True"
      ]
     },
     "execution_count": 230,
     "metadata": {},
     "output_type": "execute_result"
    }
   ],
   "source": [
    "# get status\n",
    "wallet.get(\"is_active\")"
   ]
  },
  {
   "cell_type": "code",
   "execution_count": 231,
   "id": "124f83b8",
   "metadata": {},
   "outputs": [
    {
     "data": {
      "text/plain": [
       "'OXA182'"
      ]
     },
     "execution_count": 231,
     "metadata": {},
     "output_type": "execute_result"
    }
   ],
   "source": [
    "# get address\n",
    "wallet.get(\"address\")"
   ]
  },
  {
   "cell_type": "code",
   "execution_count": null,
   "id": "31ffe790",
   "metadata": {},
   "outputs": [
    {
     "data": {
      "text/plain": [
       "dict_keys(['address', 'balance', 'is_active'])"
      ]
     },
     "execution_count": 232,
     "metadata": {},
     "output_type": "execute_result"
    }
   ],
   "source": [
    "#.keys() returns all keys\n",
    "wallet.keys() #returns the entire dictionary"
   ]
  },
  {
   "cell_type": "code",
   "execution_count": 233,
   "id": "ef0e8049",
   "metadata": {},
   "outputs": [
    {
     "data": {
      "text/plain": [
       "dict_values(['OXA182', 4.5, True])"
      ]
     },
     "execution_count": 233,
     "metadata": {},
     "output_type": "execute_result"
    }
   ],
   "source": [
    "#.values() returns all values\n",
    "wallet.values()"
   ]
  },
  {
   "cell_type": "code",
   "execution_count": 234,
   "id": "bc4f9c66",
   "metadata": {},
   "outputs": [
    {
     "data": {
      "text/plain": [
       "dict_items([('address', 'OXA182'), ('balance', 4.5), ('is_active', True)])"
      ]
     },
     "execution_count": 234,
     "metadata": {},
     "output_type": "execute_result"
    }
   ],
   "source": [
    "#.items() returns key value pairs\n",
    "wallet.items()"
   ]
  },
  {
   "cell_type": "code",
   "execution_count": 251,
   "id": "b2d021f5",
   "metadata": {},
   "outputs": [
    {
     "name": "stdout",
     "output_type": "stream",
     "text": [
      "{'address': 'OXA182', 'balance': 1500, 'is_active': True, 'owner': 'Alice'}\n"
     ]
    }
   ],
   "source": [
    "#.update() updates wallet\n",
    "wallet={\"address\": \"OXA182\",\n",
    "        \"balance\": 4.5,\n",
    "        \"is_active\": True\n",
    "        } \n",
    "wallet.update({\"balance\": 1500, \"owner\": \"Alice\"})\n",
    "print(wallet)"
   ]
  },
  {
   "cell_type": "code",
   "execution_count": 245,
   "id": "13f2ac8b",
   "metadata": {},
   "outputs": [
    {
     "data": {
      "text/plain": [
       "True"
      ]
     },
     "execution_count": 245,
     "metadata": {},
     "output_type": "execute_result"
    }
   ],
   "source": [
    "#.pop(key) removes specified key and returns corresponding value\n",
    "wallet={\"address\": \"OXA182\",\n",
    "        \"balance\": 4.5,\n",
    "        \"is_active\": True\n",
    "        } \n",
    "wallet.pop(\"is_active\")"
   ]
  },
  {
   "cell_type": "code",
   "execution_count": 252,
   "id": "18319f14",
   "metadata": {},
   "outputs": [
    {
     "name": "stdout",
     "output_type": "stream",
     "text": [
      "Hello, world\n"
     ]
    }
   ],
   "source": [
    "# Out put\n",
    "print(\"Hello, world\") #this prints a string to the console"
   ]
  },
  {
   "cell_type": "markdown",
   "id": "143255be",
   "metadata": {},
   "source": [
    "# Tuple\n",
    "Is an ordered immutable collec tion  created with in parenthesis  brackets. Not always used.\n",
    " \n",
    " block(\"BTC\", 2025, \"halving\")- it is a function  because it takes in a parameter"
   ]
  },
  {
   "cell_type": "markdown",
   "id": "a5be97ab",
   "metadata": {},
   "source": [
    "## Common functions used in tuple"
   ]
  },
  {
   "cell_type": "code",
   "execution_count": null,
   "id": "7f3e5156",
   "metadata": {},
   "outputs": [
    {
     "name": "stdout",
     "output_type": "stream",
     "text": [
      "3\n"
     ]
    }
   ],
   "source": [
    "# len() length of tuple. It t5akes in objects and returns integers(\"int\")--> object-->size\n",
    "block=(\"BTC\", 2025, \"halving\")\n",
    "print(len(block)) # prints number of objects in  block"
   ]
  },
  {
   "cell_type": "code",
   "execution_count": null,
   "id": "f7a9f760",
   "metadata": {},
   "outputs": [
    {
     "data": {
      "text/plain": [
       "2"
      ]
     },
     "execution_count": 258,
     "metadata": {},
     "output_type": "execute_result"
    }
   ],
   "source": [
    "#.count(x) counts occurances\n",
    "block=(\"BTC\", 2025, \"halving\", \"BTC\")\n",
    "block.count(\"BTC\") # to give us number of occuranc es of \"BTC\" in block; this is a method because the variable \n",
    "# is outside the parenthesis brackets"
   ]
  },
  {
   "cell_type": "code",
   "execution_count": null,
   "id": "9ff3a7fc",
   "metadata": {},
   "outputs": [
    {
     "data": {
      "text/plain": [
       "0"
      ]
     },
     "execution_count": 261,
     "metadata": {},
     "output_type": "execute_result"
    }
   ],
   "source": [
    "#.index(x) fetches index of elements\n",
    "block.index(\"BTC\")"
   ]
  },
  {
   "cell_type": "code",
   "execution_count": 262,
   "id": "64aa90e1",
   "metadata": {},
   "outputs": [
    {
     "data": {
      "text/plain": [
       "1"
      ]
     },
     "execution_count": 262,
     "metadata": {},
     "output_type": "execute_result"
    }
   ],
   "source": [
    "block.index(2025)"
   ]
  },
  {
   "cell_type": "code",
   "execution_count": null,
   "id": "b558f142",
   "metadata": {},
   "outputs": [
    {
     "data": {
      "text/plain": [
       "True"
      ]
     },
     "execution_count": 263,
     "metadata": {},
     "output_type": "execute_result"
    }
   ],
   "source": [
    "# in checks for element membership\n",
    "\"halving\" in block #--> notifies us with \"True\" if \"halving\" as an item is present in the tuple\"block"
   ]
  },
  {
   "cell_type": "markdown",
   "id": "a5dec680",
   "metadata": {},
   "source": [
    "# Set\n",
    "Is an unordered, unindexed, mutable collection of unique elements\n",
    "\n",
    "create a set i.e wallet={\"OXABC\", \"OXDEF\", \"OX123\"}"
   ]
  },
  {
   "cell_type": "markdown",
   "id": "d5816d8d",
   "metadata": {},
   "source": [
    "## Common methods in sets"
   ]
  },
  {
   "cell_type": "code",
   "execution_count": 269,
   "id": "d6de2345",
   "metadata": {},
   "outputs": [
    {
     "name": "stdout",
     "output_type": "stream",
     "text": [
      "{'OXDEF', 'OX123', 'OXGHE', 'OXABC'}\n"
     ]
    }
   ],
   "source": [
    "# .add(x) adds variable\n",
    "wallet={\"OXABC\", \"OXDEF\", \"OX123\"}\n",
    "wallet.add(\"OXGHE\")\n",
    "print(wallet)"
   ]
  },
  {
   "cell_type": "code",
   "execution_count": null,
   "id": "413bd90c",
   "metadata": {},
   "outputs": [
    {
     "name": "stdout",
     "output_type": "stream",
     "text": [
      "{'OXDEF', 'OX123', 'OXGHE', 'OXABC'}\n"
     ]
    }
   ],
   "source": [
    "\n",
    "# .add(x) adds variable\n",
    "wallet={\"OXABC\", \"OXDEF\", \"OX123\"}\n",
    "wallet.add(\"OXGHE\")\n",
    "print(wallet)"
   ]
  },
  {
   "cell_type": "code",
   "execution_count": 277,
   "id": "7f7d72c9",
   "metadata": {},
   "outputs": [
    {
     "name": "stdout",
     "output_type": "stream",
     "text": [
      "{'OXDEF', 'OX123', 'OXABC'}\n"
     ]
    }
   ],
   "source": [
    "#.remove(x) removes an element( error if or present)\n",
    "wallet={\"OXABC\", \"OXDEF\", \"OX123\", \"OXGHE\"}\n",
    "wallet.remove(\"OXGHE\")\n",
    "print(wallet)"
   ]
  },
  {
   "cell_type": "code",
   "execution_count": 282,
   "id": "53cb1bd5",
   "metadata": {},
   "outputs": [
    {
     "name": "stdout",
     "output_type": "stream",
     "text": [
      "{'OXDEF', 'OX123'}\n"
     ]
    }
   ],
   "source": [
    "#.discard(x) removes element(no error if missing)\n",
    "wallet={\"OXABC\", \"OXDEF\", \"OX123\"}\n",
    "wallet.discard(\"OXABC\")\n",
    "print(wallet)"
   ]
  },
  {
   "cell_type": "code",
   "execution_count": 2,
   "id": "f873f2b7",
   "metadata": {},
   "outputs": [
    {
     "data": {
      "text/plain": [
       "{'OX123', 'OXABC', 'OXDEF', 'OXHHG', 'OXTGT', 'OXYHS'}"
      ]
     },
     "execution_count": 2,
     "metadata": {},
     "output_type": "execute_result"
    }
   ],
   "source": [
    "#.union(other_set)--> combines sets\n",
    "wallet_a={'OXABC', 'OXDEF', 'OX123'}\n",
    "wallet_b={'OXTGT', 'OXYHS', 'OXHHG'}\n",
    "wallet_a.union(wallet_b)"
   ]
  },
  {
   "cell_type": "code",
   "execution_count": 8,
   "id": "48d236fe",
   "metadata": {},
   "outputs": [
    {
     "data": {
      "text/plain": [
       "{'OXABC', 'OXTGI'}"
      ]
     },
     "execution_count": 8,
     "metadata": {},
     "output_type": "execute_result"
    }
   ],
   "source": [
    "#.intersect(other)--> selects common elements\n",
    "wallet_x={'OXABC', 'OXDEF', 'OXTGI'}\n",
    "wallet_y={'OXTGI', 'OXABC', 'OXHHG'}\n",
    "wallet_x.intersection(wallet_y)\n"
   ]
  },
  {
   "cell_type": "code",
   "execution_count": 9,
   "id": "8018bffc",
   "metadata": {},
   "outputs": [
    {
     "data": {
      "text/plain": [
       "{'OXHHG'}"
      ]
     },
     "execution_count": 9,
     "metadata": {},
     "output_type": "execute_result"
    }
   ],
   "source": [
    "#.difference(other)--> unique to set\n",
    "wallet_y.difference(wallet_x)"
   ]
  },
  {
   "cell_type": "code",
   "execution_count": 10,
   "id": "d094af2a",
   "metadata": {},
   "outputs": [
    {
     "data": {
      "text/plain": [
       "True"
      ]
     },
     "execution_count": 10,
     "metadata": {},
     "output_type": "execute_result"
    }
   ],
   "source": [
    "# in--> membership check\n",
    "'OXTGI'in wallet_y"
   ]
  },
  {
   "cell_type": "markdown",
   "id": "023d86dc",
   "metadata": {},
   "source": [
    "# What is data structure in Python?\n",
    "A data structure is a way to organise, store and access data efficiently so it can be used effectively. In Python, data structures are built in types that allow you to group and manipulate data in different formats depending on your need.\n",
    "\n",
    "# Why data structures are important?\n",
    "Help organise and manage data better\n",
    "\n",
    "Make data retrieval, updating and manipulation easier\n",
    "\n",
    "Essential for solving real world prblems efficiently\n",
    "\n",
    "Common in blockchain analytics i.e wallet records, transaction logs among others\n",
    "\n",
    "# Common built in data structures in Python\n",
    "1 String--a sequence of characters for example \"Bitcoin\" data in quotes is termed as a string\n",
    "\n",
    "2 List--ordered,mutable sequence for example [1,2,3] data normally in square brackets\n",
    "\n",
    "3 Tuple--ordered, immutable sequence for example (4,5,6) comes in parenthesis brackets\n",
    "\n",
    "4 Set--unordered collection of unique items for example {1,2,3} data is contained in curly brackets\n",
    "\n",
    "5 Dictionary--key-value pairs for example {\"name\" : \"Alice\", \"wallet\" : \"OXA182\"} data contained in curly brackets as well.\n",
    "\n",
    "# Where do you see data structures in blockchain?\n",
    "## Blockchain element python structure\n",
    "\n",
    "1 Wallet-->tokens-->dictionary/list\n",
    "\n",
    "2 Transaction log-->list of dictionaries\n",
    "\n",
    "3 Token prices(ETH-->USDT)-->dictionary\n",
    "\n",
    "4 Address meta data-->Nested dictionary\n",
    "\n",
    "5 Smart contract parameters--> tuple/dictionary\n"
   ]
  },
  {
   "cell_type": "markdown",
   "id": "58a96149",
   "metadata": {},
   "source": [
    "# Types of data structure\n",
    "\n",
    "## Nested data structure\n",
    "Combinations f basic data structures that is to say they are very common in real world data like blockchain data, API,respnses etc"
   ]
  },
  {
   "cell_type": "code",
   "execution_count": 12,
   "id": "ebefc3e2",
   "metadata": {},
   "outputs": [
    {
     "name": "stdout",
     "output_type": "stream",
     "text": [
      "5\n"
     ]
    }
   ],
   "source": [
    "# List of lists\n",
    "matrix=[[1,2,3], [4,5,6], [7,8,9]] # how do we get 5 out of these lists, what psition does 5 fall under; we do,\n",
    "print(matrix[1][1])"
   ]
  },
  {
   "cell_type": "code",
   "execution_count": 13,
   "id": "27bce5bb",
   "metadata": {},
   "outputs": [
    {
     "name": "stdout",
     "output_type": "stream",
     "text": [
      "9\n"
     ]
    }
   ],
   "source": [
    "# List of lists\n",
    "print(matrix[2][2])"
   ]
  },
  {
   "cell_type": "code",
   "execution_count": null,
   "id": "895b7029",
   "metadata": {},
   "outputs": [
    {
     "name": "stdout",
     "output_type": "stream",
     "text": [
      "3\n"
     ]
    }
   ],
   "source": [
    "# List of lists--> can be used on tabular data, spread sheets etc\n",
    "print(matrix[0][2])"
   ]
  },
  {
   "cell_type": "code",
   "execution_count": 17,
   "id": "65ebb56b",
   "metadata": {},
   "outputs": [
    {
     "name": "stdout",
     "output_type": "stream",
     "text": [
      "{'name': 'Alice', 'wallet': 'OXADF'}\n"
     ]
    }
   ],
   "source": [
    "# List of dictionary--> a list that has a dictionary in it\n",
    "users=[\n",
    "    {'name':'Alice','wallet':'OXADF'},\n",
    "    {'name':'Bob','wallet':'OXJGH'}\n",
    "]\n",
    "print(users[0])"
   ]
  },
  {
   "cell_type": "code",
   "execution_count": 18,
   "id": "2f00850d",
   "metadata": {},
   "outputs": [
    {
     "data": {
      "text/plain": [
       "'OXADF'"
      ]
     },
     "execution_count": 18,
     "metadata": {},
     "output_type": "execute_result"
    }
   ],
   "source": [
    "# 2\n",
    "users[0]['wallet']"
   ]
  },
  {
   "cell_type": "code",
   "execution_count": 22,
   "id": "12149960",
   "metadata": {},
   "outputs": [
    {
     "name": "stdout",
     "output_type": "stream",
     "text": [
      "BTC\n"
     ]
    }
   ],
   "source": [
    "# Dictionary of list\n",
    "wallet={\n",
    "    'OXADC': ['ETH', 'BTC', 'SOL'],\n",
    "    'OXGRT': ['ETH', 'ADA', 'UNI']\n",
    "}\n",
    "# To fetch 'BTC'\n",
    "print(wallet['OXADC'][1])"
   ]
  },
  {
   "cell_type": "code",
   "execution_count": 24,
   "id": "3bd1ee36",
   "metadata": {},
   "outputs": [
    {
     "name": "stdout",
     "output_type": "stream",
     "text": [
      "['ETH', 'BTC', 'SOL']\n"
     ]
    }
   ],
   "source": [
    "# wallets\n",
    "print(wallet['OXADC'])"
   ]
  },
  {
   "cell_type": "code",
   "execution_count": 25,
   "id": "5c87123b",
   "metadata": {},
   "outputs": [
    {
     "name": "stdout",
     "output_type": "stream",
     "text": [
      "ADA\n"
     ]
    }
   ],
   "source": [
    "# individual lists\n",
    "print(wallet['OXGRT'][1])"
   ]
  },
  {
   "cell_type": "code",
   "execution_count": 26,
   "id": "a8b88aee",
   "metadata": {},
   "outputs": [
    {
     "name": "stdout",
     "output_type": "stream",
     "text": [
      "5.5\n"
     ]
    }
   ],
   "source": [
    "#  Dictionary of dictionary\n",
    "users_profile={\n",
    "    'OXABC': {'name':'Alice', 'balance':5.5},\n",
    "    'OXDEF': {'name':'Bob', 'balance':3.2}\n",
    "}\n",
    "print(users_profile['OXABC']['balance'])"
   ]
  },
  {
   "cell_type": "code",
   "execution_count": 27,
   "id": "f7f35f28",
   "metadata": {},
   "outputs": [
    {
     "name": "stdout",
     "output_type": "stream",
     "text": [
      "3.2\n"
     ]
    }
   ],
   "source": [
    "# 2\n",
    "print(users_profile['OXDEF']['balance'])"
   ]
  }
 ],
 "metadata": {
  "kernelspec": {
   "display_name": "Python 3",
   "language": "python",
   "name": "python3"
  },
  "language_info": {
   "codemirror_mode": {
    "name": "ipython",
    "version": 3
   },
   "file_extension": ".py",
   "mimetype": "text/x-python",
   "name": "python",
   "nbconvert_exporter": "python",
   "pygments_lexer": "ipython3",
   "version": "3.10.10"
  }
 },
 "nbformat": 4,
 "nbformat_minor": 5
}
